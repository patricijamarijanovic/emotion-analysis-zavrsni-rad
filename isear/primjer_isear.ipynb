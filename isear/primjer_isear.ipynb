{
 "cells": [
  {
   "metadata": {},
   "cell_type": "markdown",
   "source": "# EMOTION DETECTION - ISEAR (International Survey on Emotion Antecedents and Reactions)",
   "id": "b6089a98253b6351"
  },
  {
   "metadata": {},
   "cell_type": "markdown",
   "source": "## Importing required libraries",
   "id": "fd09a0d35a848d6"
  },
  {
   "metadata": {
    "collapsed": true,
    "ExecuteTime": {
     "end_time": "2025-03-24T22:17:42.738395Z",
     "start_time": "2025-03-24T22:17:42.720463Z"
    }
   },
   "cell_type": "code",
   "source": [
    "import pandas as pd\n",
    "import numpy as np\n",
    "\n",
    "from tensorflow.keras.models import Sequential, Model\n",
    "from tensorflow.keras.layers import Dense, Bidirectional, LSTM, Dropout\n",
    "from tensorflow.keras.layers import *\n",
    "\n",
    "import nltk\n",
    "from nltk.tokenize import word_tokenize,sent_tokenize\n",
    "nltk.download('punkt_tab')\n",
    "\n",
    "from sklearn.model_selection import cross_val_score"
   ],
   "id": "initial_id",
   "outputs": [
    {
     "name": "stderr",
     "output_type": "stream",
     "text": [
      "[nltk_data] Downloading package punkt_tab to\n",
      "[nltk_data]     /Users/patricijamarijanovic/nltk_data...\n",
      "[nltk_data]   Package punkt_tab is already up-to-date!\n"
     ]
    }
   ],
   "execution_count": 74
  },
  {
   "metadata": {},
   "cell_type": "markdown",
   "source": "## Loading the dataset",
   "id": "88d50c7da22f923c"
  },
  {
   "metadata": {
    "ExecuteTime": {
     "end_time": "2025-03-24T22:17:42.817647Z",
     "start_time": "2025-03-24T22:17:42.770424Z"
    }
   },
   "cell_type": "code",
   "source": [
    "df = pd.read_csv('isear.csv', header = None) # odmah pocinju podaci, nema imena stupaca\n",
    "df.columns = [\"emotion\", \"text\"]\n",
    "df.head()"
   ],
   "id": "10e839071bd12e0e",
   "outputs": [
    {
     "data": {
      "text/plain": [
       "   emotion                                               text\n",
       "0      joy  [ On days when I feel close to my partner and ...\n",
       "1     fear  Every time I imagine that someone I love or I ...\n",
       "2    anger  When I had been obviously unjustly treated and...\n",
       "3  sadness  When I think about the short time that we live...\n",
       "4  disgust  At a gathering I found myself involuntarily si..."
      ],
      "text/html": [
       "<div>\n",
       "<style scoped>\n",
       "    .dataframe tbody tr th:only-of-type {\n",
       "        vertical-align: middle;\n",
       "    }\n",
       "\n",
       "    .dataframe tbody tr th {\n",
       "        vertical-align: top;\n",
       "    }\n",
       "\n",
       "    .dataframe thead th {\n",
       "        text-align: right;\n",
       "    }\n",
       "</style>\n",
       "<table border=\"1\" class=\"dataframe\">\n",
       "  <thead>\n",
       "    <tr style=\"text-align: right;\">\n",
       "      <th></th>\n",
       "      <th>emotion</th>\n",
       "      <th>text</th>\n",
       "    </tr>\n",
       "  </thead>\n",
       "  <tbody>\n",
       "    <tr>\n",
       "      <th>0</th>\n",
       "      <td>joy</td>\n",
       "      <td>[ On days when I feel close to my partner and ...</td>\n",
       "    </tr>\n",
       "    <tr>\n",
       "      <th>1</th>\n",
       "      <td>fear</td>\n",
       "      <td>Every time I imagine that someone I love or I ...</td>\n",
       "    </tr>\n",
       "    <tr>\n",
       "      <th>2</th>\n",
       "      <td>anger</td>\n",
       "      <td>When I had been obviously unjustly treated and...</td>\n",
       "    </tr>\n",
       "    <tr>\n",
       "      <th>3</th>\n",
       "      <td>sadness</td>\n",
       "      <td>When I think about the short time that we live...</td>\n",
       "    </tr>\n",
       "    <tr>\n",
       "      <th>4</th>\n",
       "      <td>disgust</td>\n",
       "      <td>At a gathering I found myself involuntarily si...</td>\n",
       "    </tr>\n",
       "  </tbody>\n",
       "</table>\n",
       "</div>"
      ]
     },
     "execution_count": 75,
     "metadata": {},
     "output_type": "execute_result"
    }
   ],
   "execution_count": 75
  },
  {
   "metadata": {},
   "cell_type": "markdown",
   "source": "7 jedinstvenih emocija - joy, fear, anger, sadness, disgust, shame, guilt",
   "id": "c0615d519a2fce9c"
  },
  {
   "metadata": {
    "ExecuteTime": {
     "end_time": "2025-03-24T22:17:43.001846Z",
     "start_time": "2025-03-24T22:17:42.996251Z"
    }
   },
   "cell_type": "code",
   "source": "print(df[\"emotion\"].unique())",
   "id": "83d2aff4bca86d5a",
   "outputs": [
    {
     "name": "stdout",
     "output_type": "stream",
     "text": [
      "['joy' 'fear' 'anger' 'sadness' 'disgust' 'shame' 'guilt']\n"
     ]
    }
   ],
   "execution_count": 76
  },
  {
   "metadata": {
    "ExecuteTime": {
     "end_time": "2025-03-24T22:17:43.074421Z",
     "start_time": "2025-03-24T22:17:43.051638Z"
    }
   },
   "cell_type": "code",
   "source": "df.info()",
   "id": "c52804a672643932",
   "outputs": [
    {
     "name": "stdout",
     "output_type": "stream",
     "text": [
      "<class 'pandas.core.frame.DataFrame'>\n",
      "RangeIndex: 7652 entries, 0 to 7651\n",
      "Data columns (total 2 columns):\n",
      " #   Column   Non-Null Count  Dtype \n",
      "---  ------   --------------  ----- \n",
      " 0   emotion  7652 non-null   object\n",
      " 1   text     7652 non-null   object\n",
      "dtypes: object(2)\n",
      "memory usage: 119.7+ KB\n"
     ]
    }
   ],
   "execution_count": 77
  },
  {
   "metadata": {
    "ExecuteTime": {
     "end_time": "2025-03-24T22:17:43.259783Z",
     "start_time": "2025-03-24T22:17:43.251654Z"
    }
   },
   "cell_type": "code",
   "source": [
    "# drop the null data \"No Response.\" from text column\n",
    "noResponse = df[df['text'] == '[ No response.]'].index # Pronalazak INDEKSA redaka koji sadrže \"[ No response.]\"\n",
    "df.drop(noResponse, inplace=True) # inplace=True mijenja df izravno bez potrebe za spremanjem u novu varijablu\n",
    "df.info()"
   ],
   "id": "5ead82cf31bc4431",
   "outputs": [
    {
     "name": "stdout",
     "output_type": "stream",
     "text": [
      "<class 'pandas.core.frame.DataFrame'>\n",
      "Index: 7575 entries, 0 to 7651\n",
      "Data columns (total 2 columns):\n",
      " #   Column   Non-Null Count  Dtype \n",
      "---  ------   --------------  ----- \n",
      " 0   emotion  7575 non-null   object\n",
      " 1   text     7575 non-null   object\n",
      "dtypes: object(2)\n",
      "memory usage: 177.5+ KB\n"
     ]
    }
   ],
   "execution_count": 78
  },
  {
   "metadata": {},
   "cell_type": "markdown",
   "source": "## Tokenization",
   "id": "4589367257c7b21e"
  },
  {
   "metadata": {},
   "cell_type": "markdown",
   "source": [
    "- proces razbijanja teksta na manje jedinice (tokene)\n",
    "- omogućava računalima da bolje razumiju i obrađuju tekstualne podatke\n",
    "- primjer: \"i am sad.\" --> \"i\", \"am\", \"sad\", \".\""
   ],
   "id": "91a4513af0dc55ee"
  },
  {
   "metadata": {
    "ExecuteTime": {
     "end_time": "2025-03-24T22:17:43.287123Z",
     "start_time": "2025-03-24T22:17:43.264661Z"
    }
   },
   "cell_type": "code",
   "source": [
    "# select the text column\n",
    "emotion_arr = df[\"text\"]\n",
    "\n",
    "emotion_arr[0]"
   ],
   "id": "70500e162042b5fb",
   "outputs": [
    {
     "data": {
      "text/plain": [
       "'[ On days when I feel close to my partner and other friends.  \\nWhen I feel at peace with myself and also experience a close \\ncontact with people whom I regard greatly.]'"
      ]
     },
     "execution_count": 79,
     "metadata": {},
     "output_type": "execute_result"
    }
   ],
   "execution_count": 79
  },
  {
   "metadata": {
    "ExecuteTime": {
     "end_time": "2025-03-24T22:17:43.978500Z",
     "start_time": "2025-03-24T22:17:43.427409Z"
    }
   },
   "cell_type": "code",
   "source": [
    "\n",
    "# loop over text and tokenize each statement\n",
    "emotion_arr = [word_tokenize(sent) for sent in emotion_arr]\n",
    "print(emotion_arr[0])"
   ],
   "id": "609244d40e584d66",
   "outputs": [
    {
     "name": "stdout",
     "output_type": "stream",
     "text": [
      "['[', 'On', 'days', 'when', 'I', 'feel', 'close', 'to', 'my', 'partner', 'and', 'other', 'friends', '.', 'When', 'I', 'feel', 'at', 'peace', 'with', 'myself', 'and', 'also', 'experience', 'a', 'close', 'contact', 'with', 'people', 'whom', 'I', 'regard', 'greatly', '.', ']']\n"
     ]
    }
   ],
   "execution_count": 80
  },
  {
   "metadata": {},
   "cell_type": "markdown",
   "source": [
    "## Padding\n",
    "- usklađivanje duljina rečenica unutar skupa podataka"
   ],
   "id": "807c45b07ad0b119"
  },
  {
   "metadata": {
    "ExecuteTime": {
     "end_time": "2025-03-24T22:17:44.155345Z",
     "start_time": "2025-03-24T22:17:44.129628Z"
    }
   },
   "cell_type": "code",
   "source": [
    "# sentence length = 100\n",
    "def padding(arr):\n",
    "    for i in range(100-len(arr)):\n",
    "        arr.append(\"\")\n",
    "    return arr[:100]\n",
    "\n",
    "# call the padding function for each sentence in emotion_arr\n",
    "for i in range (len(emotion_arr)):\n",
    "    emotion_arr[i] = padding(emotion_arr[i])\n",
    "\n",
    "\n",
    "print(emotion_arr[0])"
   ],
   "id": "507a9204786829a",
   "outputs": [
    {
     "name": "stdout",
     "output_type": "stream",
     "text": [
      "['[', 'On', 'days', 'when', 'I', 'feel', 'close', 'to', 'my', 'partner', 'and', 'other', 'friends', '.', 'When', 'I', 'feel', 'at', 'peace', 'with', 'myself', 'and', 'also', 'experience', 'a', 'close', 'contact', 'with', 'people', 'whom', 'I', 'regard', 'greatly', '.', ']', '', '', '', '', '', '', '', '', '', '', '', '', '', '', '', '', '', '', '', '', '', '', '', '', '', '', '', '', '', '', '', '', '', '', '', '', '', '', '', '', '', '', '', '', '', '', '', '', '', '', '', '', '', '', '', '', '', '', '', '', '', '', '', '', '']\n"
     ]
    }
   ],
   "execution_count": 81
  },
  {
   "metadata": {},
   "cell_type": "markdown",
   "source": [
    "## Word embeddings using GloVe\n",
    "- pretvaranje riječi u numerički oblik\n",
    "- GloVe vektori\n",
    "    - unaprijed trenirani\n",
    "    - svaka riječ predstavljena pomoću vektora od 50 brojeva\n",
    "    - slične riječi imaju slične vektore (npr vektori za \"king\" i \"queen\" su slični jer su semantički povezani)\n",
    "- GloVe datoteka\n",
    "    - Svaka linija u GloVe datoteci izgleda ovako: apple 0.123 0.456 -0.789 ... 50 brojeva ..."
   ],
   "id": "c5aeca7e85271633"
  },
  {
   "metadata": {
    "ExecuteTime": {
     "end_time": "2025-03-24T22:17:46.573614Z",
     "start_time": "2025-03-24T22:17:44.314688Z"
    }
   },
   "cell_type": "code",
   "source": [
    "vocab_f = \"glove.6B.50d.txt\"\n",
    "\n",
    "embeddings_index = {}\n",
    "with open(vocab_f) as file:\n",
    "    for line in file:\n",
    "        values = line.rstrip().rsplit(' ')\n",
    "        word = values[0]\n",
    "        coefs = np.asarray(values[1:], dtype='float32')\n",
    "        embeddings_index[word] = coefs\n",
    "\n",
    "# the embedding index of word 'happy'\n",
    "embeddings_index['happy']"
   ],
   "id": "d5e46ac59724ee92",
   "outputs": [
    {
     "data": {
      "text/plain": [
       "array([ 0.092086,  0.2571  , -0.58693 , -0.37029 ,  1.0828  , -0.55466 ,\n",
       "       -0.78142 ,  0.58696 , -0.58714 ,  0.46318 , -0.11267 ,  0.2606  ,\n",
       "       -0.26928 , -0.072466,  1.247   ,  0.30571 ,  0.56731 ,  0.30509 ,\n",
       "       -0.050312, -0.64443 , -0.54513 ,  0.86429 ,  0.20914 ,  0.56334 ,\n",
       "        1.1228  , -1.0516  , -0.78105 ,  0.29656 ,  0.7261  , -0.61392 ,\n",
       "        2.4225  ,  1.0142  , -0.17753 ,  0.4147  , -0.12966 , -0.47064 ,\n",
       "        0.3807  ,  0.16309 , -0.323   , -0.77899 , -0.42473 , -0.30826 ,\n",
       "       -0.42242 ,  0.055069,  0.38267 ,  0.037415, -0.4302  , -0.39442 ,\n",
       "        0.10511 ,  0.87286 ], dtype=float32)"
      ]
     },
     "execution_count": 82,
     "metadata": {},
     "output_type": "execute_result"
    }
   ],
   "execution_count": 82
  },
  {
   "metadata": {
    "ExecuteTime": {
     "end_time": "2025-03-24T22:17:48.354850Z",
     "start_time": "2025-03-24T22:17:46.890896Z"
    }
   },
   "cell_type": "code",
   "source": [
    "# embedding each word of the emotion_arr\n",
    "\n",
    "embedded_emotion_arr = []\n",
    "\n",
    "for sent in emotion_arr:\n",
    "    embedded_emotion_arr.append([])\n",
    "    for word in sent:\n",
    "        if word.lower() in embeddings_index:\n",
    "            vektor = embeddings_index[word.lower()]\n",
    "            embedded_emotion_arr[-1].append(vektor) # dodavanje GloVe vektora trenutne riječi u zadnju dodanu rečenicu\n",
    "        else:\n",
    "            # if the word to be embedded is '' append 0 fifty times\n",
    "            embedded_emotion_arr[-1].append([0]*50)\n",
    "\n",
    "print(embedded_emotion_arr[0][0])"
   ],
   "id": "ea8db73d60d47c79",
   "outputs": [
    {
     "name": "stdout",
     "output_type": "stream",
     "text": [
      "[-0.61201   0.98226   0.11539   0.014623  0.23873  -0.067035  0.30632\n",
      " -0.64742  -0.38517  -0.03691   0.094788  0.57631  -0.091557 -0.54825\n",
      "  0.25255  -0.14759   0.13023   0.21658  -0.30623   0.30028  -0.23471\n",
      " -0.17927   0.9518    0.54258   0.31172  -0.51038  -0.65223  -0.48858\n",
      "  0.13486  -0.40132   2.493    -0.38777  -0.26456  -0.49414  -0.3871\n",
      " -0.20983   0.82941  -0.46253   0.39549   0.014881  0.79485  -0.79958\n",
      " -0.16243   0.013862 -0.53536   0.52536   0.019818 -0.16353   0.30649\n",
      "  0.81745 ]\n"
     ]
    }
   ],
   "execution_count": 83
  },
  {
   "metadata": {},
   "cell_type": "markdown",
   "source": [
    "## One-hot encoding - emotion categories\n",
    "- Svaka riječ (ili kategorija) se predstavlja kao vektor pun nula, osim na jednoj poziciji koja je 1"
   ],
   "id": "f8f8e236baefe51c"
  },
  {
   "metadata": {
    "ExecuteTime": {
     "end_time": "2025-03-24T22:17:49.773974Z",
     "start_time": "2025-03-24T22:17:48.391032Z"
    }
   },
   "cell_type": "code",
   "source": [
    "# one-hot encoding from sklearn\n",
    "from sklearn.preprocessing import OneHotEncoder\n",
    "enc = OneHotEncoder(handle_unknown='ignore') # ako naiđemo na nepoznatu emociju, ignoriramo umjesto da bacimo grešku\n",
    "\n",
    "Y = enc.fit_transform(np.array(df[\"emotion\"]).reshape(-1, 1)).toarray() # sredene kategorije\n",
    "X = np.array(embedded_emotion_arr) # embedded text\n",
    "\n",
    "print(enc.categories_) # lista kategorija u istom redoslijedu kao i one-hot vektori\n"
   ],
   "id": "a081750b715bedb4",
   "outputs": [
    {
     "name": "stdout",
     "output_type": "stream",
     "text": [
      "[array(['anger', 'disgust', 'fear', 'guilt', 'joy', 'sadness', 'shame'],\n",
      "      dtype=object)]\n"
     ]
    }
   ],
   "execution_count": 84
  },
  {
   "metadata": {},
   "cell_type": "markdown",
   "source": [
    "## Splitting the dataset\n",
    "- na train set, test set"
   ],
   "id": "c44bafc1307a4d9c"
  },
  {
   "metadata": {
    "ExecuteTime": {
     "end_time": "2025-03-24T22:17:50.147566Z",
     "start_time": "2025-03-24T22:17:49.971721Z"
    }
   },
   "cell_type": "code",
   "source": [
    "from sklearn.model_selection import train_test_split\n",
    "X_train, X_test, Y_train, Y_test = train_test_split(X, Y, test_size=0.2, random_state=42)"
   ],
   "id": "393a7c46e28f264a",
   "outputs": [],
   "execution_count": 85
  },
  {
   "metadata": {},
   "cell_type": "markdown",
   "source": [
    "## Creating the model\n",
    "\n",
    "Bidirectional LSTM\n",
    "- koristi se za obradu sekvencijalnih podataka (npr. rečenica)\n",
    "- Bidirectional - obrađuje sekvencu u oba smjera (naprijed i unatrag)"
   ],
   "id": "bc632c0610d84aa7"
  },
  {
   "metadata": {
    "ExecuteTime": {
     "end_time": "2025-03-24T22:17:50.301097Z",
     "start_time": "2025-03-24T22:17:50.294462Z"
    }
   },
   "cell_type": "code",
   "source": [
    "\n",
    "# Defining the BiLSTM Mode\n",
    "def model(X, Y, input_size1, input_size2, output_size):\n",
    "    m = Sequential() # dodajemo slojeve jedan iza drugog\n",
    "\n",
    "    # Add a Bidirectional LSTM layer with 100 units\n",
    "    # input_size1 = br. rijeci u recenici\n",
    "    # input_size2 = duljina embedding vektora\n",
    "    m.add(Bidirectional(LSTM(100, input_shape = (input_size1, input_size2))))\n",
    "\n",
    "    # Add a dropout layer with 50% dropout rate\n",
    "    # randomly drops 50% of the connections to prevent overfitting\n",
    "    m.add(Dropout(0.5))\n",
    "\n",
    "    # potpuno povezani zadnji sloj\n",
    "    # softmax aktivacija jer imamo više klasa emocija\n",
    "    m.add(Dense(output_size, activation='softmax'))\n",
    "\n",
    "    # model compiling\n",
    "    # categorical cross-entropy loss (suitable for multiclass classification)\n",
    "    m.compile(\"Adam\", loss=\"categorical_crossentropy\", metrics=[\"accuracy\"])\n",
    "\n",
    "    # model training\n",
    "    m.fit(X, Y, epochs = 32, batch_size = 128)\n",
    "\n",
    "    return m\n"
   ],
   "id": "f04857caeb5e798e",
   "outputs": [],
   "execution_count": 86
  },
  {
   "metadata": {
    "ExecuteTime": {
     "end_time": "2025-03-24T22:22:28.740328Z",
     "start_time": "2025-03-24T22:17:50.477028Z"
    }
   },
   "cell_type": "code",
   "source": "moj_model = model(X_train, Y_train, 100, 50, 7)",
   "id": "759f35eb8b77dce7",
   "outputs": [
    {
     "name": "stderr",
     "output_type": "stream",
     "text": [
      "/Users/patricijamarijanovic/ZAVRSNI RAD/.venv/lib/python3.10/site-packages/keras/src/layers/rnn/rnn.py:200: UserWarning: Do not pass an `input_shape`/`input_dim` argument to a layer. When using Sequential models, prefer using an `Input(shape)` object as the first layer in the model instead.\n",
      "  super().__init__(**kwargs)\n"
     ]
    },
    {
     "name": "stdout",
     "output_type": "stream",
     "text": [
      "Epoch 1/32\n",
      "\u001B[1m48/48\u001B[0m \u001B[32m━━━━━━━━━━━━━━━━━━━━\u001B[0m\u001B[37m\u001B[0m \u001B[1m6s\u001B[0m 105ms/step - accuracy: 0.1833 - loss: 1.9270\n",
      "Epoch 2/32\n",
      "\u001B[1m48/48\u001B[0m \u001B[32m━━━━━━━━━━━━━━━━━━━━\u001B[0m\u001B[37m\u001B[0m \u001B[1m5s\u001B[0m 106ms/step - accuracy: 0.3339 - loss: 1.7203\n",
      "Epoch 3/32\n",
      "\u001B[1m48/48\u001B[0m \u001B[32m━━━━━━━━━━━━━━━━━━━━\u001B[0m\u001B[37m\u001B[0m \u001B[1m8s\u001B[0m 171ms/step - accuracy: 0.3711 - loss: 1.6468\n",
      "Epoch 4/32\n",
      "\u001B[1m48/48\u001B[0m \u001B[32m━━━━━━━━━━━━━━━━━━━━\u001B[0m\u001B[37m\u001B[0m \u001B[1m9s\u001B[0m 196ms/step - accuracy: 0.3966 - loss: 1.5722\n",
      "Epoch 5/32\n",
      "\u001B[1m48/48\u001B[0m \u001B[32m━━━━━━━━━━━━━━━━━━━━\u001B[0m\u001B[37m\u001B[0m \u001B[1m9s\u001B[0m 181ms/step - accuracy: 0.4186 - loss: 1.5354\n",
      "Epoch 6/32\n",
      "\u001B[1m48/48\u001B[0m \u001B[32m━━━━━━━━━━━━━━━━━━━━\u001B[0m\u001B[37m\u001B[0m \u001B[1m9s\u001B[0m 182ms/step - accuracy: 0.4438 - loss: 1.4819\n",
      "Epoch 7/32\n",
      "\u001B[1m48/48\u001B[0m \u001B[32m━━━━━━━━━━━━━━━━━━━━\u001B[0m\u001B[37m\u001B[0m \u001B[1m9s\u001B[0m 180ms/step - accuracy: 0.4398 - loss: 1.4673\n",
      "Epoch 8/32\n",
      "\u001B[1m48/48\u001B[0m \u001B[32m━━━━━━━━━━━━━━━━━━━━\u001B[0m\u001B[37m\u001B[0m \u001B[1m8s\u001B[0m 175ms/step - accuracy: 0.4662 - loss: 1.4277\n",
      "Epoch 9/32\n",
      "\u001B[1m48/48\u001B[0m \u001B[32m━━━━━━━━━━━━━━━━━━━━\u001B[0m\u001B[37m\u001B[0m \u001B[1m9s\u001B[0m 178ms/step - accuracy: 0.5051 - loss: 1.3571\n",
      "Epoch 10/32\n",
      "\u001B[1m48/48\u001B[0m \u001B[32m━━━━━━━━━━━━━━━━━━━━\u001B[0m\u001B[37m\u001B[0m \u001B[1m9s\u001B[0m 192ms/step - accuracy: 0.5053 - loss: 1.3413\n",
      "Epoch 11/32\n",
      "\u001B[1m48/48\u001B[0m \u001B[32m━━━━━━━━━━━━━━━━━━━━\u001B[0m\u001B[37m\u001B[0m \u001B[1m9s\u001B[0m 179ms/step - accuracy: 0.5343 - loss: 1.3060\n",
      "Epoch 12/32\n",
      "\u001B[1m48/48\u001B[0m \u001B[32m━━━━━━━━━━━━━━━━━━━━\u001B[0m\u001B[37m\u001B[0m \u001B[1m9s\u001B[0m 179ms/step - accuracy: 0.5259 - loss: 1.3072\n",
      "Epoch 13/32\n",
      "\u001B[1m48/48\u001B[0m \u001B[32m━━━━━━━━━━━━━━━━━━━━\u001B[0m\u001B[37m\u001B[0m \u001B[1m9s\u001B[0m 180ms/step - accuracy: 0.5337 - loss: 1.2746\n",
      "Epoch 14/32\n",
      "\u001B[1m48/48\u001B[0m \u001B[32m━━━━━━━━━━━━━━━━━━━━\u001B[0m\u001B[37m\u001B[0m \u001B[1m9s\u001B[0m 179ms/step - accuracy: 0.5423 - loss: 1.2501\n",
      "Epoch 15/32\n",
      "\u001B[1m48/48\u001B[0m \u001B[32m━━━━━━━━━━━━━━━━━━━━\u001B[0m\u001B[37m\u001B[0m \u001B[1m9s\u001B[0m 188ms/step - accuracy: 0.5581 - loss: 1.2188\n",
      "Epoch 16/32\n",
      "\u001B[1m48/48\u001B[0m \u001B[32m━━━━━━━━━━━━━━━━━━━━\u001B[0m\u001B[37m\u001B[0m \u001B[1m9s\u001B[0m 183ms/step - accuracy: 0.5726 - loss: 1.1719\n",
      "Epoch 17/32\n",
      "\u001B[1m48/48\u001B[0m \u001B[32m━━━━━━━━━━━━━━━━━━━━\u001B[0m\u001B[37m\u001B[0m \u001B[1m9s\u001B[0m 183ms/step - accuracy: 0.5870 - loss: 1.1294\n",
      "Epoch 18/32\n",
      "\u001B[1m48/48\u001B[0m \u001B[32m━━━━━━━━━━━━━━━━━━━━\u001B[0m\u001B[37m\u001B[0m \u001B[1m9s\u001B[0m 195ms/step - accuracy: 0.5879 - loss: 1.1268\n",
      "Epoch 19/32\n",
      "\u001B[1m48/48\u001B[0m \u001B[32m━━━━━━━━━━━━━━━━━━━━\u001B[0m\u001B[37m\u001B[0m \u001B[1m9s\u001B[0m 185ms/step - accuracy: 0.6037 - loss: 1.1007\n",
      "Epoch 20/32\n",
      "\u001B[1m48/48\u001B[0m \u001B[32m━━━━━━━━━━━━━━━━━━━━\u001B[0m\u001B[37m\u001B[0m \u001B[1m10s\u001B[0m 200ms/step - accuracy: 0.6200 - loss: 1.0552\n",
      "Epoch 21/32\n",
      "\u001B[1m48/48\u001B[0m \u001B[32m━━━━━━━━━━━━━━━━━━━━\u001B[0m\u001B[37m\u001B[0m \u001B[1m9s\u001B[0m 185ms/step - accuracy: 0.6231 - loss: 1.0705\n",
      "Epoch 22/32\n",
      "\u001B[1m48/48\u001B[0m \u001B[32m━━━━━━━━━━━━━━━━━━━━\u001B[0m\u001B[37m\u001B[0m \u001B[1m9s\u001B[0m 193ms/step - accuracy: 0.6334 - loss: 1.0367\n",
      "Epoch 23/32\n",
      "\u001B[1m48/48\u001B[0m \u001B[32m━━━━━━━━━━━━━━━━━━━━\u001B[0m\u001B[37m\u001B[0m \u001B[1m8s\u001B[0m 174ms/step - accuracy: 0.6440 - loss: 1.0108\n",
      "Epoch 24/32\n",
      "\u001B[1m48/48\u001B[0m \u001B[32m━━━━━━━━━━━━━━━━━━━━\u001B[0m\u001B[37m\u001B[0m \u001B[1m9s\u001B[0m 184ms/step - accuracy: 0.6696 - loss: 0.9602\n",
      "Epoch 25/32\n",
      "\u001B[1m48/48\u001B[0m \u001B[32m━━━━━━━━━━━━━━━━━━━━\u001B[0m\u001B[37m\u001B[0m \u001B[1m9s\u001B[0m 189ms/step - accuracy: 0.6585 - loss: 0.9573\n",
      "Epoch 26/32\n",
      "\u001B[1m48/48\u001B[0m \u001B[32m━━━━━━━━━━━━━━━━━━━━\u001B[0m\u001B[37m\u001B[0m \u001B[1m9s\u001B[0m 183ms/step - accuracy: 0.6508 - loss: 0.9630\n",
      "Epoch 27/32\n",
      "\u001B[1m48/48\u001B[0m \u001B[32m━━━━━━━━━━━━━━━━━━━━\u001B[0m\u001B[37m\u001B[0m \u001B[1m9s\u001B[0m 185ms/step - accuracy: 0.6657 - loss: 0.9170\n",
      "Epoch 28/32\n",
      "\u001B[1m48/48\u001B[0m \u001B[32m━━━━━━━━━━━━━━━━━━━━\u001B[0m\u001B[37m\u001B[0m \u001B[1m9s\u001B[0m 188ms/step - accuracy: 0.6817 - loss: 0.8844\n",
      "Epoch 29/32\n",
      "\u001B[1m48/48\u001B[0m \u001B[32m━━━━━━━━━━━━━━━━━━━━\u001B[0m\u001B[37m\u001B[0m \u001B[1m10s\u001B[0m 199ms/step - accuracy: 0.6855 - loss: 0.8946\n",
      "Epoch 30/32\n",
      "\u001B[1m48/48\u001B[0m \u001B[32m━━━━━━━━━━━━━━━━━━━━\u001B[0m\u001B[37m\u001B[0m \u001B[1m9s\u001B[0m 184ms/step - accuracy: 0.6938 - loss: 0.8894\n",
      "Epoch 31/32\n",
      "\u001B[1m48/48\u001B[0m \u001B[32m━━━━━━━━━━━━━━━━━━━━\u001B[0m\u001B[37m\u001B[0m \u001B[1m9s\u001B[0m 185ms/step - accuracy: 0.6908 - loss: 0.8824\n",
      "Epoch 32/32\n",
      "\u001B[1m48/48\u001B[0m \u001B[32m━━━━━━━━━━━━━━━━━━━━\u001B[0m\u001B[37m\u001B[0m \u001B[1m9s\u001B[0m 193ms/step - accuracy: 0.7225 - loss: 0.7962\n"
     ]
    }
   ],
   "execution_count": 87
  },
  {
   "metadata": {
    "ExecuteTime": {
     "end_time": "2025-03-24T22:22:30.049286Z",
     "start_time": "2025-03-24T22:22:29.133310Z"
    }
   },
   "cell_type": "code",
   "source": [
    "# Model testing\n",
    "moj_model.evaluate(X_test, Y_test)"
   ],
   "id": "af52c2a9e8ab4854",
   "outputs": [
    {
     "name": "stdout",
     "output_type": "stream",
     "text": [
      "\u001B[1m48/48\u001B[0m \u001B[32m━━━━━━━━━━━━━━━━━━━━\u001B[0m\u001B[37m\u001B[0m \u001B[1m1s\u001B[0m 14ms/step - accuracy: 0.5076 - loss: 1.5461\n"
     ]
    },
    {
     "data": {
      "text/plain": [
       "[1.5275814533233643, 0.5168316960334778]"
      ]
     },
     "execution_count": 88,
     "metadata": {},
     "output_type": "execute_result"
    }
   ],
   "execution_count": 88
  },
  {
   "metadata": {},
   "cell_type": "markdown",
   "source": "## Prediction",
   "id": "cf6bbf7f3c4440a7"
  },
  {
   "metadata": {
    "ExecuteTime": {
     "end_time": "2025-03-24T22:22:30.056835Z",
     "start_time": "2025-03-24T22:22:30.053649Z"
    }
   },
   "cell_type": "code",
   "source": [
    "def preprocess_input_text(text):\n",
    "    tokenized_text = word_tokenize(text)\n",
    "    padded_text = padding(tokenized_text)\n",
    "\n",
    "    embedded_text = []\n",
    "    for word in tokenized_text:\n",
    "        if word.lower() in embeddings_index:\n",
    "            embedded_text.append(embeddings_index[word.lower()])\n",
    "        else:\n",
    "            embedded_text.append([0]*50)\n",
    "    return np.array(embedded_text)"
   ],
   "id": "a20c683f40322b70",
   "outputs": [],
   "execution_count": 89
  },
  {
   "metadata": {
    "ExecuteTime": {
     "end_time": "2025-03-24T22:22:30.352600Z",
     "start_time": "2025-03-24T22:22:30.349312Z"
    }
   },
   "cell_type": "code",
   "source": [
    "input_text = \"i am feeling very happy today\"\n",
    "processed_input_text = preprocess_input_text(input_text)\n"
   ],
   "id": "3f46bbcef9edffbe",
   "outputs": [],
   "execution_count": 90
  },
  {
   "metadata": {
    "ExecuteTime": {
     "end_time": "2025-03-24T22:22:30.473856Z",
     "start_time": "2025-03-24T22:22:30.356092Z"
    }
   },
   "cell_type": "code",
   "source": [
    "# perform prediction\n",
    "predicted_probs = moj_model.predict(np.array([processed_input_text]))\n",
    "predicted_emotion_index = np.argmax(predicted_probs)\n",
    "\n",
    "print(predicted_probs)\n",
    "print(predicted_emotion_index)"
   ],
   "id": "ec843acc75fa4be4",
   "outputs": [
    {
     "name": "stdout",
     "output_type": "stream",
     "text": [
      "\u001B[1m1/1\u001B[0m \u001B[32m━━━━━━━━━━━━━━━━━━━━\u001B[0m\u001B[37m\u001B[0m \u001B[1m0s\u001B[0m 98ms/step\n",
      "[[2.8278702e-03 6.1375536e-03 7.7215210e-04 1.1797990e-03 9.0221101e-01\n",
      "  8.0782562e-02 6.0890615e-03]]\n",
      "4\n"
     ]
    }
   ],
   "execution_count": 91
  },
  {
   "metadata": {
    "ExecuteTime": {
     "end_time": "2025-03-24T22:22:30.617935Z",
     "start_time": "2025-03-24T22:22:30.615228Z"
    }
   },
   "cell_type": "code",
   "source": [
    "# indeks --> emocija\n",
    "predicted_emotion = enc.categories_[0][predicted_emotion_index]"
   ],
   "id": "e8ea466657e474f6",
   "outputs": [],
   "execution_count": 92
  },
  {
   "metadata": {
    "ExecuteTime": {
     "end_time": "2025-03-24T22:22:30.759071Z",
     "start_time": "2025-03-24T22:22:30.757147Z"
    }
   },
   "cell_type": "code",
   "source": [
    "print(\"Predicted Emotion:\", predicted_emotion)\n",
    "print(\"Predicted Emotion Probabilities:\", predicted_probs)"
   ],
   "id": "3335cd82c047bccb",
   "outputs": [
    {
     "name": "stdout",
     "output_type": "stream",
     "text": [
      "Predicted Emotion: joy\n",
      "Predicted Emotion Probabilities: [[2.8278702e-03 6.1375536e-03 7.7215210e-04 1.1797990e-03 9.0221101e-01\n",
      "  8.0782562e-02 6.0890615e-03]]\n"
     ]
    }
   ],
   "execution_count": 93
  }
 ],
 "metadata": {
  "kernelspec": {
   "display_name": "Python 3",
   "language": "python",
   "name": "python3"
  },
  "language_info": {
   "codemirror_mode": {
    "name": "ipython",
    "version": 2
   },
   "file_extension": ".py",
   "mimetype": "text/x-python",
   "name": "python",
   "nbconvert_exporter": "python",
   "pygments_lexer": "ipython2",
   "version": "2.7.6"
  }
 },
 "nbformat": 4,
 "nbformat_minor": 5
}
