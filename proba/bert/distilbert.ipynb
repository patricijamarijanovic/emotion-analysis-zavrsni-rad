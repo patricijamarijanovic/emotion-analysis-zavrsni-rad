{
 "cells": [
  {
   "metadata": {},
   "cell_type": "markdown",
   "source": "# DistilBERT",
   "id": "964a111d1304012e"
  },
  {
   "metadata": {},
   "cell_type": "markdown",
   "source": [
    "- manji model uči imitirati veći model\n",
    "- zadržati što više znanja, ali uz manju arhitekturu (skoro duplo manje parametara i duplo manje slojeva)\n",
    "- efikasnost 97% klasicnog Berta"
   ],
   "id": "8c743ae01651da64"
  },
  {
   "metadata": {
    "ExecuteTime": {
     "end_time": "2025-04-13T15:23:28.489874Z",
     "start_time": "2025-04-13T15:23:26.640866Z"
    }
   },
   "cell_type": "code",
   "source": [
    "from functorch.dim import softmax\n",
    "!pip install datasets transformers torch scikit-learn shap"
   ],
   "id": "9fb9fbd6ef3e6a9a",
   "outputs": [
    {
     "name": "stdout",
     "output_type": "stream",
     "text": [
      "Requirement already satisfied: datasets in /Users/patricijamarijanovic/ZAVRSNI RAD/.venv/lib/python3.10/site-packages (3.5.0)\r\n",
      "Requirement already satisfied: transformers in /Users/patricijamarijanovic/ZAVRSNI RAD/.venv/lib/python3.10/site-packages (4.51.2)\r\n",
      "Requirement already satisfied: torch in /Users/patricijamarijanovic/ZAVRSNI RAD/.venv/lib/python3.10/site-packages (2.6.0)\r\n",
      "Requirement already satisfied: scikit-learn in /Users/patricijamarijanovic/ZAVRSNI RAD/.venv/lib/python3.10/site-packages (1.6.1)\r\n",
      "Requirement already satisfied: shap in /Users/patricijamarijanovic/ZAVRSNI RAD/.venv/lib/python3.10/site-packages (0.47.1)\r\n",
      "Requirement already satisfied: filelock in /Users/patricijamarijanovic/ZAVRSNI RAD/.venv/lib/python3.10/site-packages (from datasets) (3.18.0)\r\n",
      "Requirement already satisfied: numpy>=1.17 in /Users/patricijamarijanovic/ZAVRSNI RAD/.venv/lib/python3.10/site-packages (from datasets) (2.1.3)\r\n",
      "Requirement already satisfied: pyarrow>=15.0.0 in /Users/patricijamarijanovic/ZAVRSNI RAD/.venv/lib/python3.10/site-packages (from datasets) (19.0.1)\r\n",
      "Requirement already satisfied: dill<0.3.9,>=0.3.0 in /Users/patricijamarijanovic/ZAVRSNI RAD/.venv/lib/python3.10/site-packages (from datasets) (0.3.8)\r\n",
      "Requirement already satisfied: pandas in /Users/patricijamarijanovic/ZAVRSNI RAD/.venv/lib/python3.10/site-packages (from datasets) (2.2.3)\r\n",
      "Requirement already satisfied: requests>=2.32.2 in /Users/patricijamarijanovic/ZAVRSNI RAD/.venv/lib/python3.10/site-packages (from datasets) (2.32.3)\r\n",
      "Requirement already satisfied: tqdm>=4.66.3 in /Users/patricijamarijanovic/ZAVRSNI RAD/.venv/lib/python3.10/site-packages (from datasets) (4.67.1)\r\n",
      "Requirement already satisfied: xxhash in /Users/patricijamarijanovic/ZAVRSNI RAD/.venv/lib/python3.10/site-packages (from datasets) (3.5.0)\r\n",
      "Requirement already satisfied: multiprocess<0.70.17 in /Users/patricijamarijanovic/ZAVRSNI RAD/.venv/lib/python3.10/site-packages (from datasets) (0.70.16)\r\n",
      "Requirement already satisfied: fsspec<=2024.12.0,>=2023.1.0 in /Users/patricijamarijanovic/ZAVRSNI RAD/.venv/lib/python3.10/site-packages (from fsspec[http]<=2024.12.0,>=2023.1.0->datasets) (2024.12.0)\r\n",
      "Requirement already satisfied: aiohttp in /Users/patricijamarijanovic/ZAVRSNI RAD/.venv/lib/python3.10/site-packages (from datasets) (3.11.16)\r\n",
      "Requirement already satisfied: huggingface-hub>=0.24.0 in /Users/patricijamarijanovic/ZAVRSNI RAD/.venv/lib/python3.10/site-packages (from datasets) (0.30.2)\r\n",
      "Requirement already satisfied: packaging in /Users/patricijamarijanovic/ZAVRSNI RAD/.venv/lib/python3.10/site-packages (from datasets) (24.2)\r\n",
      "Requirement already satisfied: pyyaml>=5.1 in /Users/patricijamarijanovic/ZAVRSNI RAD/.venv/lib/python3.10/site-packages (from datasets) (6.0.2)\r\n",
      "Requirement already satisfied: regex!=2019.12.17 in /Users/patricijamarijanovic/ZAVRSNI RAD/.venv/lib/python3.10/site-packages (from transformers) (2024.11.6)\r\n",
      "Requirement already satisfied: tokenizers<0.22,>=0.21 in /Users/patricijamarijanovic/ZAVRSNI RAD/.venv/lib/python3.10/site-packages (from transformers) (0.21.1)\r\n",
      "Requirement already satisfied: safetensors>=0.4.3 in /Users/patricijamarijanovic/ZAVRSNI RAD/.venv/lib/python3.10/site-packages (from transformers) (0.5.3)\r\n",
      "Requirement already satisfied: typing-extensions>=4.10.0 in /Users/patricijamarijanovic/ZAVRSNI RAD/.venv/lib/python3.10/site-packages (from torch) (4.12.2)\r\n",
      "Requirement already satisfied: networkx in /Users/patricijamarijanovic/ZAVRSNI RAD/.venv/lib/python3.10/site-packages (from torch) (3.4.2)\r\n",
      "Requirement already satisfied: jinja2 in /Users/patricijamarijanovic/ZAVRSNI RAD/.venv/lib/python3.10/site-packages (from torch) (3.1.6)\r\n",
      "Requirement already satisfied: sympy==1.13.1 in /Users/patricijamarijanovic/ZAVRSNI RAD/.venv/lib/python3.10/site-packages (from torch) (1.13.1)\r\n",
      "Requirement already satisfied: mpmath<1.4,>=1.1.0 in /Users/patricijamarijanovic/ZAVRSNI RAD/.venv/lib/python3.10/site-packages (from sympy==1.13.1->torch) (1.3.0)\r\n",
      "Requirement already satisfied: scipy>=1.6.0 in /Users/patricijamarijanovic/ZAVRSNI RAD/.venv/lib/python3.10/site-packages (from scikit-learn) (1.15.2)\r\n",
      "Requirement already satisfied: joblib>=1.2.0 in /Users/patricijamarijanovic/ZAVRSNI RAD/.venv/lib/python3.10/site-packages (from scikit-learn) (1.4.2)\r\n",
      "Requirement already satisfied: threadpoolctl>=3.1.0 in /Users/patricijamarijanovic/ZAVRSNI RAD/.venv/lib/python3.10/site-packages (from scikit-learn) (3.6.0)\r\n",
      "Requirement already satisfied: slicer==0.0.8 in /Users/patricijamarijanovic/ZAVRSNI RAD/.venv/lib/python3.10/site-packages (from shap) (0.0.8)\r\n",
      "Requirement already satisfied: numba>=0.54 in /Users/patricijamarijanovic/ZAVRSNI RAD/.venv/lib/python3.10/site-packages (from shap) (0.61.2)\r\n",
      "Requirement already satisfied: cloudpickle in /Users/patricijamarijanovic/ZAVRSNI RAD/.venv/lib/python3.10/site-packages (from shap) (3.1.1)\r\n",
      "Requirement already satisfied: aiohappyeyeballs>=2.3.0 in /Users/patricijamarijanovic/ZAVRSNI RAD/.venv/lib/python3.10/site-packages (from aiohttp->datasets) (2.6.1)\r\n",
      "Requirement already satisfied: aiosignal>=1.1.2 in /Users/patricijamarijanovic/ZAVRSNI RAD/.venv/lib/python3.10/site-packages (from aiohttp->datasets) (1.3.2)\r\n",
      "Requirement already satisfied: async-timeout<6.0,>=4.0 in /Users/patricijamarijanovic/ZAVRSNI RAD/.venv/lib/python3.10/site-packages (from aiohttp->datasets) (5.0.1)\r\n",
      "Requirement already satisfied: attrs>=17.3.0 in /Users/patricijamarijanovic/ZAVRSNI RAD/.venv/lib/python3.10/site-packages (from aiohttp->datasets) (25.3.0)\r\n",
      "Requirement already satisfied: frozenlist>=1.1.1 in /Users/patricijamarijanovic/ZAVRSNI RAD/.venv/lib/python3.10/site-packages (from aiohttp->datasets) (1.5.0)\r\n",
      "Requirement already satisfied: multidict<7.0,>=4.5 in /Users/patricijamarijanovic/ZAVRSNI RAD/.venv/lib/python3.10/site-packages (from aiohttp->datasets) (6.4.3)\r\n",
      "Requirement already satisfied: propcache>=0.2.0 in /Users/patricijamarijanovic/ZAVRSNI RAD/.venv/lib/python3.10/site-packages (from aiohttp->datasets) (0.3.1)\r\n",
      "Requirement already satisfied: yarl<2.0,>=1.17.0 in /Users/patricijamarijanovic/ZAVRSNI RAD/.venv/lib/python3.10/site-packages (from aiohttp->datasets) (1.19.0)\r\n",
      "Requirement already satisfied: llvmlite<0.45,>=0.44.0dev0 in /Users/patricijamarijanovic/ZAVRSNI RAD/.venv/lib/python3.10/site-packages (from numba>=0.54->shap) (0.44.0)\r\n",
      "Requirement already satisfied: charset-normalizer<4,>=2 in /Users/patricijamarijanovic/ZAVRSNI RAD/.venv/lib/python3.10/site-packages (from requests>=2.32.2->datasets) (3.4.1)\r\n",
      "Requirement already satisfied: idna<4,>=2.5 in /Users/patricijamarijanovic/ZAVRSNI RAD/.venv/lib/python3.10/site-packages (from requests>=2.32.2->datasets) (3.10)\r\n",
      "Requirement already satisfied: urllib3<3,>=1.21.1 in /Users/patricijamarijanovic/ZAVRSNI RAD/.venv/lib/python3.10/site-packages (from requests>=2.32.2->datasets) (2.3.0)\r\n",
      "Requirement already satisfied: certifi>=2017.4.17 in /Users/patricijamarijanovic/ZAVRSNI RAD/.venv/lib/python3.10/site-packages (from requests>=2.32.2->datasets) (2025.1.31)\r\n",
      "Requirement already satisfied: MarkupSafe>=2.0 in /Users/patricijamarijanovic/ZAVRSNI RAD/.venv/lib/python3.10/site-packages (from jinja2->torch) (3.0.2)\r\n",
      "Requirement already satisfied: python-dateutil>=2.8.2 in /Users/patricijamarijanovic/ZAVRSNI RAD/.venv/lib/python3.10/site-packages (from pandas->datasets) (2.9.0.post0)\r\n",
      "Requirement already satisfied: pytz>=2020.1 in /Users/patricijamarijanovic/ZAVRSNI RAD/.venv/lib/python3.10/site-packages (from pandas->datasets) (2025.1)\r\n",
      "Requirement already satisfied: tzdata>=2022.7 in /Users/patricijamarijanovic/ZAVRSNI RAD/.venv/lib/python3.10/site-packages (from pandas->datasets) (2025.2)\r\n",
      "Requirement already satisfied: six>=1.5 in /Users/patricijamarijanovic/ZAVRSNI RAD/.venv/lib/python3.10/site-packages (from python-dateutil>=2.8.2->pandas->datasets) (1.17.0)\r\n"
     ]
    }
   ],
   "execution_count": 1
  },
  {
   "metadata": {},
   "cell_type": "markdown",
   "source": [
    "## Loading data\n",
    "Emotions dataset : https://www.kaggle.com/datasets/praveengovi/emotions-dataset-for-nlp\n",
    "dolazi u 3 skupa: train, validation, test\n",
    "- linije u obliku text; emotion\n",
    "- velicina skupa za treniranje = 16 000\n",
    "- velicina validacijskog i testnog = 2 000"
   ],
   "id": "54138615571a5cc4"
  },
  {
   "metadata": {
    "ExecuteTime": {
     "end_time": "2025-04-13T15:23:28.510210Z",
     "start_time": "2025-04-13T15:23:28.506597Z"
    }
   },
   "cell_type": "code",
   "source": [
    "import pandas as pd\n",
    "import matplotlib.pyplot as plt"
   ],
   "id": "2a32f9719086cd3f",
   "outputs": [],
   "execution_count": 2
  },
  {
   "metadata": {
    "ExecuteTime": {
     "end_time": "2025-04-13T15:23:28.538324Z",
     "start_time": "2025-04-13T15:23:28.517825Z"
    }
   },
   "cell_type": "code",
   "source": [
    "# vraca Pandas dataframe sa stupcima \"text\" i \"emotion\"\n",
    "def parse_emotion_file(file_path):\n",
    "    texts = []\n",
    "    emotions = []\n",
    "\n",
    "    with open(file_path, 'r', encoding='utf-8') as f:\n",
    "        for line in f:\n",
    "            try:\n",
    "                text, emotion = line.strip().split(';')\n",
    "                texts.append(text)\n",
    "                emotions.append(emotion)\n",
    "            except ValueError:\n",
    "                continue\n",
    "    return pd.DataFrame({'text': texts, 'emotion': emotions})\n",
    "\n",
    "train_df = parse_emotion_file('train.txt')\n",
    "val_df = parse_emotion_file('val.txt')\n",
    "test_df = parse_emotion_file('test.txt')"
   ],
   "id": "58619e46af86255b",
   "outputs": [],
   "execution_count": 3
  },
  {
   "metadata": {
    "ExecuteTime": {
     "end_time": "2025-04-13T15:23:28.710373Z",
     "start_time": "2025-04-13T15:23:28.707611Z"
    }
   },
   "cell_type": "code",
   "source": [
    "print(\"Train size:\", train_df.shape)\n",
    "print(\"Validation size:\", val_df.shape)\n",
    "print(\"Test size:\", test_df.shape)"
   ],
   "id": "e87d71cb2fa1e235",
   "outputs": [
    {
     "name": "stdout",
     "output_type": "stream",
     "text": [
      "Train size: (16000, 2)\n",
      "Validation size: (2000, 2)\n",
      "Test size: (2000, 2)\n"
     ]
    }
   ],
   "execution_count": 4
  },
  {
   "metadata": {},
   "cell_type": "markdown",
   "source": "## Distribucija podataka",
   "id": "27e201f30f9edc5d"
  },
  {
   "metadata": {
    "ExecuteTime": {
     "end_time": "2025-04-13T15:23:28.737690Z",
     "start_time": "2025-04-13T15:23:28.729426Z"
    }
   },
   "cell_type": "code",
   "source": "print(train_df['emotion'].value_counts())",
   "id": "2ab1986a7e2a4333",
   "outputs": [
    {
     "name": "stdout",
     "output_type": "stream",
     "text": [
      "emotion\n",
      "joy         5362\n",
      "sadness     4666\n",
      "anger       2159\n",
      "fear        1937\n",
      "love        1304\n",
      "surprise     572\n",
      "Name: count, dtype: int64\n"
     ]
    }
   ],
   "execution_count": 5
  },
  {
   "metadata": {
    "ExecuteTime": {
     "end_time": "2025-04-13T15:23:28.875863Z",
     "start_time": "2025-04-13T15:23:28.793403Z"
    }
   },
   "cell_type": "code",
   "source": [
    "train_df['emotion'].value_counts().plot(kind='bar', title='Distribucija emocija u trening skupu')\n",
    "plt.xlabel('Emotion')\n",
    "plt.ylabel('Broj primjera')\n",
    "plt.show()"
   ],
   "id": "e572e9fa87d63bfe",
   "outputs": [
    {
     "data": {
      "text/plain": [
       "<Figure size 640x480 with 1 Axes>"
      ],
      "image/png": "[encoded data removed]"
     },
     "metadata": {},
     "output_type": "display_data"
    }
   ],
   "execution_count": 6
  },
  {
   "metadata": {},
   "cell_type": "markdown",
   "source": "Graf prikazuje disbalans u raspodjeli emocija – većina primjera pripada kategorijama joy i sadness, dok su ostale emocije prisutne u znatno manjem broju.",
   "id": "d79fa499220ca389"
  },
  {
   "metadata": {
    "ExecuteTime": {
     "end_time": "2025-04-13T15:23:28.896065Z",
     "start_time": "2025-04-13T15:23:28.890448Z"
    }
   },
   "cell_type": "code",
   "source": "train_df.head()",
   "id": "2d6a175d88cd315",
   "outputs": [
    {
     "data": {
      "text/plain": [
       "                                                text  emotion\n",
       "0                            i didnt feel humiliated  sadness\n",
       "1  i can go from feeling so hopeless to so damned...  sadness\n",
       "2   im grabbing a minute to post i feel greedy wrong    anger\n",
       "3  i am ever feeling nostalgic about the fireplac...     love\n",
       "4                               i am feeling grouchy    anger"
      ],
      "text/html": [
       "<div>\n",
       "<style scoped>\n",
       "    .dataframe tbody tr th:only-of-type {\n",
       "        vertical-align: middle;\n",
       "    }\n",
       "\n",
       "    .dataframe tbody tr th {\n",
       "        vertical-align: top;\n",
       "    }\n",
       "\n",
       "    .dataframe thead th {\n",
       "        text-align: right;\n",
       "    }\n",
       "</style>\n",
       "<table border=\"1\" class=\"dataframe\">\n",
       "  <thead>\n",
       "    <tr style=\"text-align: right;\">\n",
       "      <th></th>\n",
       "      <th>text</th>\n",
       "      <th>emotion</th>\n",
       "    </tr>\n",
       "  </thead>\n",
       "  <tbody>\n",
       "    <tr>\n",
       "      <th>0</th>\n",
       "      <td>i didnt feel humiliated</td>\n",
       "      <td>sadness</td>\n",
       "    </tr>\n",
       "    <tr>\n",
       "      <th>1</th>\n",
       "      <td>i can go from feeling so hopeless to so damned...</td>\n",
       "      <td>sadness</td>\n",
       "    </tr>\n",
       "    <tr>\n",
       "      <th>2</th>\n",
       "      <td>im grabbing a minute to post i feel greedy wrong</td>\n",
       "      <td>anger</td>\n",
       "    </tr>\n",
       "    <tr>\n",
       "      <th>3</th>\n",
       "      <td>i am ever feeling nostalgic about the fireplac...</td>\n",
       "      <td>love</td>\n",
       "    </tr>\n",
       "    <tr>\n",
       "      <th>4</th>\n",
       "      <td>i am feeling grouchy</td>\n",
       "      <td>anger</td>\n",
       "    </tr>\n",
       "  </tbody>\n",
       "</table>\n",
       "</div>"
      ]
     },
     "execution_count": 7,
     "metadata": {},
     "output_type": "execute_result"
    }
   ],
   "execution_count": 7
  },
  {
   "metadata": {},
   "cell_type": "markdown",
   "source": "## Tokenizacija i priprema podataka",
   "id": "ca36c5f17cd1b5ff"
  },
  {
   "metadata": {
    "ExecuteTime": {
     "end_time": "2025-04-13T15:23:30.549654Z",
     "start_time": "2025-04-13T15:23:29.112247Z"
    }
   },
   "cell_type": "code",
   "source": [
    "from transformers import AutoTokenizer, AutoModelForSequenceClassification\n",
    "\n",
    "# model path for DistilBERT\n",
    "model_name = \"distilbert-base-uncased\"\n",
    "\n",
    "# loading the tokenizer\n",
    "tokenizer = AutoTokenizer.from_pretrained(model_name)"
   ],
   "id": "2b08e2a9d9f603e4",
   "outputs": [
    {
     "name": "stderr",
     "output_type": "stream",
     "text": [
      "/Users/patricijamarijanovic/ZAVRSNI RAD/.venv/lib/python3.10/site-packages/tqdm/auto.py:21: TqdmWarning: IProgress not found. Please update jupyter and ipywidgets. See https://ipywidgets.readthedocs.io/en/stable/user_install.html\n",
      "  from .autonotebook import tqdm as notebook_tqdm\n"
     ]
    }
   ],
   "execution_count": 8
  },
  {
   "metadata": {
    "ExecuteTime": {
     "end_time": "2025-04-13T15:23:30.585454Z",
     "start_time": "2025-04-13T15:23:30.581876Z"
    }
   },
   "cell_type": "code",
   "source": [
    "# tokenizacija teksta u numeričke ID-jeve\n",
    "# df = pandas sa stupcima \"text\", \"emotion\"\n",
    "# label2id = mapiranje kategorija emocija u id\n",
    "def preprocess_function(df, label2id):\n",
    "\n",
    "    # tokenizacija stupca \"text\"\n",
    "    tokenized_inputs = tokenizer(\n",
    "        df['text'],\n",
    "        padding='longest',\n",
    "        truncation=True,\n",
    "        max_length=512,\n",
    "        return_tensors='pt' # vraća podatke kao PyTorch tenzore (torch.Tensor) umjesto Python lista\n",
    "    ) # vraca rjecnik s kljucevima 'input_ids', 'attention_mask'\n",
    "\n",
    "    tokenized_inputs[\"label\"] = [label2id.get(emotion, -1) for emotion in df[\"emotion\"]]\n",
    "    return tokenized_inputs\n"
   ],
   "id": "5a933df3ab7ac0f8",
   "outputs": [],
   "execution_count": 9
  },
  {
   "metadata": {
    "ExecuteTime": {
     "end_time": "2025-04-13T15:23:31.665818Z",
     "start_time": "2025-04-13T15:23:30.591025Z"
    }
   },
   "cell_type": "code",
   "source": [
    "from datasets import Dataset\n",
    "# Pretvara običan Pandas DataFrame (train_df) u Hugging Face Dataset objekt\n",
    "# korisno za batchanje\n",
    "train_dataset = Dataset.from_pandas(train_df)\n",
    "\n",
    "# jedinstvene kategorije\n",
    "labels = train_df[\"emotion\"].unique()\n",
    "label2id = {label: idx for idx, label in enumerate(labels)}\n",
    "id2label = {idx: label for idx, label in enumerate(labels)}\n",
    "\n",
    "# tokenizacija\n",
    "train_dataset = train_dataset.map(lambda x : preprocess_function(x, label2id), batched=True)"
   ],
   "id": "6641eeaaaacaab7e",
   "outputs": [
    {
     "name": "stderr",
     "output_type": "stream",
     "text": [
      "Map: 100%|██████████| 16000/16000 [00:00<00:00, 25757.92 examples/s]\n"
     ]
    }
   ],
   "execution_count": 10
  },
  {
   "metadata": {
    "ExecuteTime": {
     "end_time": "2025-04-13T15:23:31.696158Z",
     "start_time": "2025-04-13T15:23:31.687213Z"
    }
   },
   "cell_type": "code",
   "source": "train_dataset[0]",
   "id": "2c260da026b017bd",
   "outputs": [
    {
     "data": {
      "text/plain": [
       "{'text': 'i didnt feel humiliated',\n",
       " 'emotion': 'sadness',\n",
       " 'input_ids': [101,\n",
       "  1045,\n",
       "  2134,\n",
       "  2102,\n",
       "  2514,\n",
       "  26608,\n",
       "  102,\n",
       "  0,\n",
       "  0,\n",
       "  0,\n",
       "  0,\n",
       "  0,\n",
       "  0,\n",
       "  0,\n",
       "  0,\n",
       "  0,\n",
       "  0,\n",
       "  0,\n",
       "  0,\n",
       "  0,\n",
       "  0,\n",
       "  0,\n",
       "  0,\n",
       "  0,\n",
       "  0,\n",
       "  0,\n",
       "  0,\n",
       "  0,\n",
       "  0,\n",
       "  0,\n",
       "  0,\n",
       "  0,\n",
       "  0,\n",
       "  0,\n",
       "  0,\n",
       "  0,\n",
       "  0,\n",
       "  0,\n",
       "  0,\n",
       "  0,\n",
       "  0,\n",
       "  0,\n",
       "  0,\n",
       "  0,\n",
       "  0,\n",
       "  0,\n",
       "  0,\n",
       "  0,\n",
       "  0,\n",
       "  0,\n",
       "  0,\n",
       "  0,\n",
       "  0,\n",
       "  0,\n",
       "  0,\n",
       "  0,\n",
       "  0,\n",
       "  0,\n",
       "  0,\n",
       "  0,\n",
       "  0,\n",
       "  0,\n",
       "  0,\n",
       "  0,\n",
       "  0,\n",
       "  0,\n",
       "  0,\n",
       "  0,\n",
       "  0,\n",
       "  0],\n",
       " 'attention_mask': [1,\n",
       "  1,\n",
       "  1,\n",
       "  1,\n",
       "  1,\n",
       "  1,\n",
       "  1,\n",
       "  0,\n",
       "  0,\n",
       "  0,\n",
       "  0,\n",
       "  0,\n",
       "  0,\n",
       "  0,\n",
       "  0,\n",
       "  0,\n",
       "  0,\n",
       "  0,\n",
       "  0,\n",
       "  0,\n",
       "  0,\n",
       "  0,\n",
       "  0,\n",
       "  0,\n",
       "  0,\n",
       "  0,\n",
       "  0,\n",
       "  0,\n",
       "  0,\n",
       "  0,\n",
       "  0,\n",
       "  0,\n",
       "  0,\n",
       "  0,\n",
       "  0,\n",
       "  0,\n",
       "  0,\n",
       "  0,\n",
       "  0,\n",
       "  0,\n",
       "  0,\n",
       "  0,\n",
       "  0,\n",
       "  0,\n",
       "  0,\n",
       "  0,\n",
       "  0,\n",
       "  0,\n",
       "  0,\n",
       "  0,\n",
       "  0,\n",
       "  0,\n",
       "  0,\n",
       "  0,\n",
       "  0,\n",
       "  0,\n",
       "  0,\n",
       "  0,\n",
       "  0,\n",
       "  0,\n",
       "  0,\n",
       "  0,\n",
       "  0,\n",
       "  0,\n",
       "  0,\n",
       "  0,\n",
       "  0,\n",
       "  0,\n",
       "  0,\n",
       "  0],\n",
       " 'label': 0}"
      ]
     },
     "execution_count": 11,
     "metadata": {},
     "output_type": "execute_result"
    }
   ],
   "execution_count": 11
  },
  {
   "metadata": {
    "ExecuteTime": {
     "end_time": "2025-04-13T15:23:31.751351Z",
     "start_time": "2025-04-13T15:23:31.748992Z"
    }
   },
   "cell_type": "code",
   "source": "print(label2id)",
   "id": "2ed206c44acae1de",
   "outputs": [
    {
     "name": "stdout",
     "output_type": "stream",
     "text": [
      "{'sadness': 0, 'anger': 1, 'love': 2, 'surprise': 3, 'fear': 4, 'joy': 5}\n"
     ]
    }
   ],
   "execution_count": 12
  },
  {
   "metadata": {},
   "cell_type": "markdown",
   "source": "# Fine-tuning",
   "id": "e4af3987b442e6aa"
  },
  {
   "metadata": {
    "ExecuteTime": {
     "end_time": "2025-04-13T15:23:37.493605Z",
     "start_time": "2025-04-13T15:23:31.801571Z"
    }
   },
   "cell_type": "code",
   "source": [
    "from transformers import AutoModelForSequenceClassification\n",
    "\n",
    "model = AutoModelForSequenceClassification.from_pretrained(\n",
    "    model_name, # \"distilbert-base-uncased\"\n",
    "    num_labels=len(label2id),\n",
    "    id2label=id2label,\n",
    "    label2id=label2id\n",
    ")"
   ],
   "id": "ef68a4241d6fcb66",
   "outputs": [
    {
     "name": "stderr",
     "output_type": "stream",
     "text": [
      "Some weights of DistilBertForSequenceClassification were not initialized from the model checkpoint at distilbert-base-uncased and are newly initialized: ['classifier.bias', 'classifier.weight', 'pre_classifier.bias', 'pre_classifier.weight']\n",
      "You should probably TRAIN this model on a down-stream task to be able to use it for predictions and inference.\n"
     ]
    }
   ],
   "execution_count": 13
  },
  {
   "metadata": {},
   "cell_type": "markdown",
   "source": [
    "DistilBERT sastoji se od 5 slojeva + classification head (koristi izlaz iz tih slojeva za predviđanje kategorije)\n",
    "\n",
    "Kako bi spriječili overfitting - freezing prva 4 sloja"
   ],
   "id": "bb9408d58085f526"
  },
  {
   "metadata": {
    "ExecuteTime": {
     "end_time": "2025-04-13T15:23:37.533808Z",
     "start_time": "2025-04-13T15:23:37.527721Z"
    }
   },
   "cell_type": "code",
   "source": [
    "# zamrzavanje svih slojeva osim petog i classifiera\n",
    "\n",
    "for name, param in model.base_model.named_parameters():\n",
    "    param.requires_grad = False # onemogucavam racunanje gradijenta za ove parametre\n",
    "\n",
    "# samo su 5. sloj i classifier trainable\n",
    "for name, param in model.base_model.named_parameters():\n",
    "    if \"transformer.layer.5\" in name or \"classifier\" in name:\n",
    "        param.requires_grad = True"
   ],
   "id": "8baea22198dc0cdd",
   "outputs": [],
   "execution_count": 14
  },
  {
   "metadata": {},
   "cell_type": "markdown",
   "source": "# Metrike",
   "id": "8f654493ccb63613"
  },
  {
   "metadata": {},
   "cell_type": "markdown",
   "source": [
    "Neuravnotožene kategorije emocija - neke su zastupljenije od drugih (joy, sadness)\n",
    "\n",
    "--> accuracy nije najbolja metrika\n",
    "- koristimo: precison, recall, F1 score, AUC score"
   ],
   "id": "faacf6fd64fe283c"
  },
  {
   "metadata": {
    "ExecuteTime": {
     "end_time": "2025-04-13T15:23:37.583296Z",
     "start_time": "2025-04-13T15:23:37.579456Z"
    }
   },
   "cell_type": "code",
   "source": [
    "import torch\n",
    "from sklearn.metrics import accuracy_score, f1_score, precision_score, recall_score, roc_auc_score\n",
    "\n",
    "# izračunava accuracy, F1 score, precision, and recall\n",
    "# p = tuple, predvidanja (logit, \"sirove\" izlazne vrijednosti iz modela (prije softmaxa)) i stvarne oznake (labels)\n",
    "def compute_metrics(p):\n",
    "    logits, labels = p\n",
    "\n",
    "    # sve vrijednosti izmedu 0 i 1, zbroj = 1\n",
    "    softmax = torch.nn.Softmax(dim=1);\n",
    "    probs = softmax(torch.tensor(logits))\n",
    "\n",
    "    # uzmi najvjerojatniju --> predvidena klasa\n",
    "    preds = probs.argmax(axis=1)\n",
    "\n",
    "    return {\n",
    "        \"accuracy\": accuracy_score(labels, preds),  # Accuracy metric\n",
    "        \"f1_score\": f1_score(labels, preds, average='weighted'),  # F1 score with weighted average for imbalanced data\n",
    "        \"precision\": precision_score(labels, preds, average='weighted'),  # Precision score with weighted average\n",
    "        \"recall\": recall_score(labels, preds, average='weighted'),  # Recall score with weighted average\n",
    "        \"auc_score\": roc_auc_score(labels, probs, average=\"macro\", multi_class=\"ovr\")\n",
    "    }"
   ],
   "id": "47d79a410403b75c",
   "outputs": [],
   "execution_count": 15
  },
  {
   "metadata": {},
   "cell_type": "markdown",
   "source": "# Treniranje",
   "id": "85429c2da62c938c"
  },
  {
   "metadata": {
    "ExecuteTime": {
     "end_time": "2025-04-13T15:23:37.602979Z",
     "start_time": "2025-04-13T15:23:37.600427Z"
    }
   },
   "cell_type": "code",
   "source": [
    "# postavljanje hiperparametara\n",
    "lr = 2e-5 # learning rate\n",
    "batch_size = 16     # koliko se podataka obraduje odjednom\n",
    "num_epochs = 3      # koliko puta prolazimo kroz citav skup za treniranje\n",
    "weight_decay = 0.01 # sprječava prenaučenost penaliziranjem velikih težina"
   ],
   "id": "47ef671c08ea063d",
   "outputs": [],
   "execution_count": 16
  },
  {
   "metadata": {
    "ExecuteTime": {
     "end_time": "2025-04-13T15:23:37.890511Z",
     "start_time": "2025-04-13T15:23:37.616798Z"
    }
   },
   "cell_type": "code",
   "source": [
    "from transformers import TrainingArguments, Trainer\n",
    "# training arguments\n",
    "training_args = TrainingArguments(\n",
    "    output_dir=\"./results\",\n",
    "    eval_strategy=\"steps\",\n",
    "    eval_steps=500,\n",
    "    learning_rate=lr,\n",
    "    per_device_train_batch_size=batch_size,\n",
    "    per_device_eval_batch_size=batch_size,\n",
    "    num_train_epochs=num_epochs,\n",
    "    weight_decay=weight_decay,\n",
    "    logging_dir=\"./logs\",\n",
    "    logging_steps=500,\n",
    "    load_best_model_at_end=True,\n",
    "    metric_for_best_model=\"eval_f1_score\",\n",
    "    greater_is_better=True,\n",
    ")"
   ],
   "id": "7166117c6aecbd6e",
   "outputs": [],
   "execution_count": 17
  },
  {
   "metadata": {
    "ExecuteTime": {
     "end_time": "2025-04-13T15:26:47.426744Z",
     "start_time": "2025-04-13T15:26:46.697793Z"
    }
   },
   "cell_type": "code",
   "source": [
    "val_dataset = Dataset.from_pandas(train_df)\n",
    "# tokenizacija\n",
    "val_dataset = val_dataset.map(lambda x : preprocess_function(x, label2id), batched=True)"
   ],
   "id": "c1ae2e2d5251e056",
   "outputs": [
    {
     "name": "stderr",
     "output_type": "stream",
     "text": [
      "Map: 100%|██████████| 16000/16000 [00:00<00:00, 26241.86 examples/s]\n"
     ]
    }
   ],
   "execution_count": 18
  },
  {
   "metadata": {
    "ExecuteTime": {
     "end_time": "2025-04-13T15:51:40.237040Z",
     "start_time": "2025-04-13T15:27:02.583037Z"
    }
   },
   "cell_type": "code",
   "source": [
    "# inicijalizacija modela\n",
    "trainer = Trainer(\n",
    "    model=model,\n",
    "    args=training_args,\n",
    "    train_dataset=train_dataset,\n",
    "    eval_dataset=val_dataset,\n",
    "    tokenizer=tokenizer,\n",
    "    compute_metrics=compute_metrics,\n",
    ")\n",
    "\n",
    "# treniranje\n",
    "print(f\"Training {model_name}...\")\n",
    "trainer.train()"
   ],
   "id": "601a95e9a41f6328",
   "outputs": [
    {
     "name": "stderr",
     "output_type": "stream",
     "text": [
      "/var/folders/mk/drz6rhr972v4l3bn903sdl600000gn/T/ipykernel_60958/1912552796.py:2: FutureWarning: `tokenizer` is deprecated and will be removed in version 5.0.0 for `Trainer.__init__`. Use `processing_class` instead.\n",
      "  trainer = Trainer(\n"
     ]
    },
    {
     "name": "stdout",
     "output_type": "stream",
     "text": [
      "Training distilbert-base-uncased...\n"
     ]
    },
    {
     "data": {
      "text/plain": [
       "<IPython.core.display.HTML object>"
      ],
      "text/html": [
       "\n",
       "    <div>\n",
       "      \n",
       "      <progress value='3000' max='3000' style='width:300px; height:20px; vertical-align: middle;'></progress>\n",
       "      [3000/3000 24:29, Epoch 3/3]\n",
       "    </div>\n",
       "    <table border=\"1\" class=\"dataframe\">\n",
       "  <thead>\n",
       " <tr style=\"text-align: left;\">\n",
       "      <th>Step</th>\n",
       "      <th>Training Loss</th>\n",
       "      <th>Validation Loss</th>\n",
       "      <th>Accuracy</th>\n",
       "      <th>F1 Score</th>\n",
       "      <th>Precision</th>\n",
       "      <th>Recall</th>\n",
       "      <th>Auc Score</th>\n",
       "    </tr>\n",
       "  </thead>\n",
       "  <tbody>\n",
       "    <tr>\n",
       "      <td>500</td>\n",
       "      <td>1.204900</td>\n",
       "      <td>0.791852</td>\n",
       "      <td>0.716750</td>\n",
       "      <td>0.679469</td>\n",
       "      <td>0.723686</td>\n",
       "      <td>0.716750</td>\n",
       "      <td>0.924943</td>\n",
       "    </tr>\n",
       "    <tr>\n",
       "      <td>1000</td>\n",
       "      <td>0.729400</td>\n",
       "      <td>0.591156</td>\n",
       "      <td>0.789250</td>\n",
       "      <td>0.784908</td>\n",
       "      <td>0.787056</td>\n",
       "      <td>0.789250</td>\n",
       "      <td>0.958402</td>\n",
       "    </tr>\n",
       "    <tr>\n",
       "      <td>1500</td>\n",
       "      <td>0.609500</td>\n",
       "      <td>0.512860</td>\n",
       "      <td>0.820812</td>\n",
       "      <td>0.818681</td>\n",
       "      <td>0.819731</td>\n",
       "      <td>0.820812</td>\n",
       "      <td>0.967998</td>\n",
       "    </tr>\n",
       "    <tr>\n",
       "      <td>2000</td>\n",
       "      <td>0.555200</td>\n",
       "      <td>0.469428</td>\n",
       "      <td>0.837313</td>\n",
       "      <td>0.835348</td>\n",
       "      <td>0.835798</td>\n",
       "      <td>0.837313</td>\n",
       "      <td>0.972424</td>\n",
       "    </tr>\n",
       "    <tr>\n",
       "      <td>2500</td>\n",
       "      <td>0.508000</td>\n",
       "      <td>0.442999</td>\n",
       "      <td>0.843125</td>\n",
       "      <td>0.841657</td>\n",
       "      <td>0.841268</td>\n",
       "      <td>0.843125</td>\n",
       "      <td>0.975130</td>\n",
       "    </tr>\n",
       "    <tr>\n",
       "      <td>3000</td>\n",
       "      <td>0.502300</td>\n",
       "      <td>0.434855</td>\n",
       "      <td>0.847562</td>\n",
       "      <td>0.846640</td>\n",
       "      <td>0.846496</td>\n",
       "      <td>0.847562</td>\n",
       "      <td>0.976033</td>\n",
       "    </tr>\n",
       "  </tbody>\n",
       "</table><p>"
      ]
     },
     "metadata": {},
     "output_type": "display_data"
    },
    {
     "data": {
      "text/plain": [
       "TrainOutput(global_step=3000, training_loss=0.6848727416992187, metrics={'train_runtime': 1475.4191, 'train_samples_per_second': 32.533, 'train_steps_per_second': 2.033, 'total_flos': 1034979515901504.0, 'train_loss': 0.6848727416992187, 'epoch': 3.0})"
      ]
     },
     "execution_count": 19,
     "metadata": {},
     "output_type": "execute_result"
    }
   ],
   "execution_count": 19
  },
  {
   "metadata": {},
   "cell_type": "markdown",
   "source": "# Evaluacija modela",
   "id": "b36b8e01356da189"
  },
  {
   "metadata": {
    "ExecuteTime": {
     "end_time": "2025-04-13T15:52:12.747987Z",
     "start_time": "2025-04-13T15:52:11.881980Z"
    }
   },
   "cell_type": "code",
   "source": [
    "test_dataset = Dataset.from_pandas(train_df)\n",
    "test_dataset = test_dataset.map(lambda x : preprocess_function(x, label2id), batched=True)"
   ],
   "id": "d01d742dd39074a9",
   "outputs": [
    {
     "name": "stderr",
     "output_type": "stream",
     "text": [
      "Map: 100%|██████████| 16000/16000 [00:00<00:00, 23526.99 examples/s]\n"
     ]
    }
   ],
   "execution_count": 20
  },
  {
   "metadata": {
    "ExecuteTime": {
     "end_time": "2025-04-13T15:54:21.533183Z",
     "start_time": "2025-04-13T15:52:17.528627Z"
    }
   },
   "cell_type": "code",
   "source": [
    "# predictions on the test dataset with fine-tuned model\n",
    "predictions_finetuned_model = trainer.predict(test_dataset)\n",
    "preds_finetuned = predictions_finetuned_model.predictions.argmax(axis=1) # uzmi najvece vrijednosti\n",
    "\n",
    "# evaluation metrics (accuracy, precision, recall, and F1 score)\n",
    "eval_results_finetuned_model = compute_metrics((predictions_finetuned_model.predictions, test_dataset[\"label\"]))\n"
   ],
   "id": "197a96d8f5d8cb91",
   "outputs": [
    {
     "data": {
      "text/plain": [
       "<IPython.core.display.HTML object>"
      ],
      "text/html": []
     },
     "metadata": {},
     "output_type": "display_data"
    }
   ],
   "execution_count": 21
  },
  {
   "metadata": {
    "ExecuteTime": {
     "end_time": "2025-04-13T15:55:06.065936Z",
     "start_time": "2025-04-13T15:55:06.056028Z"
    }
   },
   "cell_type": "code",
   "source": "print(eval_results_finetuned_model)",
   "id": "3cd135a7d3438e2d",
   "outputs": [
    {
     "name": "stdout",
     "output_type": "stream",
     "text": [
      "{'accuracy': 0.8475625, 'f1_score': 0.8466396324861732, 'precision': 0.8464963616997556, 'recall': 0.8475625, 'auc_score': np.float64(0.9760332867348516)}\n"
     ]
    }
   ],
   "execution_count": 22
  },
  {
   "metadata": {
    "ExecuteTime": {
     "end_time": "2025-04-13T16:03:22.027163Z",
     "start_time": "2025-04-13T16:03:20.498572Z"
    }
   },
   "cell_type": "code",
   "source": [
    "my_sentence = \"I can't stand this anymore, i'm furious\"\n",
    "dummy_emotion = \"joy\"  # mora biti nešto iz label2id\n",
    "\n",
    "# Pandas DataFrame\n",
    "df = pd.DataFrame({\n",
    "    \"text\": [my_sentence],\n",
    "    \"emotion\": [dummy_emotion]\n",
    "})\n",
    "\n",
    "# HuggingFace Dataset\n",
    "sentence_dataset = Dataset.from_pandas(df)\n",
    "\n",
    "# Prilagodi preprocess function za samo predikciju (bez labela)\n",
    "def preprocess_function_for_inference(df, label2id):\n",
    "    # Samo tokenizacija, bez dodavanja labela\n",
    "    tokenized_inputs = tokenizer(\n",
    "        df['text'],\n",
    "        padding='longest',\n",
    "        truncation=True,\n",
    "        max_length=512,\n",
    "        return_tensors='pt'  # vraća podatke kao PyTorch tenzore\n",
    "    )\n",
    "    return tokenized_inputs\n",
    "\n",
    "# Koristi mapiranje samo za tekst\n",
    "sentence_dataset = sentence_dataset.map(lambda x: preprocess_function_for_inference(x, label2id), batched=True)\n",
    "\n",
    "# Predikcija\n",
    "prediction = trainer.predict(sentence_dataset)\n",
    "\n",
    "# Uzmi klasu s najvećim scoreom\n",
    "predicted_class = prediction.predictions.argmax(axis=1)[0]\n",
    "\n",
    "# Ako imaš id2label mapu\n",
    "predicted_label = id2label[predicted_class]\n",
    "print(f\"Predikcija emocije: {predicted_label}\")"
   ],
   "id": "44425532ffc45a67",
   "outputs": [
    {
     "name": "stderr",
     "output_type": "stream",
     "text": [
      "Map: 100%|██████████| 1/1 [00:00<00:00, 53.23 examples/s]\n"
     ]
    },
    {
     "data": {
      "text/plain": [
       "<IPython.core.display.HTML object>"
      ],
      "text/html": []
     },
     "metadata": {},
     "output_type": "display_data"
    },
    {
     "name": "stdout",
     "output_type": "stream",
     "text": [
      "Predikcija emocije: anger\n"
     ]
    }
   ],
   "execution_count": 33
  }
 ],
 "metadata": {
  "kernelspec": {
   "display_name": "Python 3",
   "language": "python",
   "name": "python3"
  },
  "language_info": {
   "codemirror_mode": {
    "name": "ipython",
    "version": 2
   },
   "file_extension": ".py",
   "mimetype": "text/x-python",
   "name": "python",
   "nbconvert_exporter": "python",
   "pygments_lexer": "ipython2",
   "version": "2.7.6"
  }
 },
 "nbformat": 4,
 "nbformat_minor": 5
}
