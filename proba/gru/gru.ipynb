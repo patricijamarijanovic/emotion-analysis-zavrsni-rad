{
 "cells": [
  {
   "cell_type": "code",
   "id": "initial_id",
   "metadata": {
    "collapsed": true,
    "ExecuteTime": {
     "end_time": "2025-03-31T19:22:00.395795Z",
     "start_time": "2025-03-31T19:21:37.294372Z"
    }
   },
   "source": [
    "import numpy as np # linear algebra\n",
    "import pandas as pd # data processing, CSV file I/O (e.g. pd.read_csv)\n",
    "import matplotlib.pyplot as plt\n",
    "import seaborn as sns\n",
    "# Word Cloud\n",
    "from wordcloud import WordCloud\n",
    "# from textacy import preprocessing\n",
    "from nltk.stem.snowball import SnowballStemmer\n",
    "from keras.preprocessing import sequence\n",
    "from sklearn.model_selection import train_test_split\n",
    "from tensorflow.keras.models import Sequential\n",
    "from tensorflow.keras.layers import *\n",
    "from tensorflow.keras.preprocessing.sequence import pad_sequences\n",
    "from tensorflow.keras.preprocessing.text import Tokenizer\n",
    "from tensorflow.keras.models import Sequential\n",
    "from tensorflow.keras.layers import Embedding, Dropout, Bidirectional, GRU, BatchNormalization, Dense, Input, LSTM\n",
    "from tensorflow.keras.optimizers import Adam\n",
    "import re"
   ],
   "outputs": [],
   "execution_count": 2
  },
  {
   "metadata": {},
   "cell_type": "markdown",
   "source": [
    "# Loading Data\n",
    "sadness (0), joy (1), love (2), anger (3), fear (4), and surprise (5)"
   ],
   "id": "3723d23d37c35451"
  },
  {
   "metadata": {
    "ExecuteTime": {
     "end_time": "2025-03-31T19:22:01.146004Z",
     "start_time": "2025-03-31T19:22:00.451849Z"
    }
   },
   "cell_type": "code",
   "source": [
    "df = pd.read_csv(\"text.csv\")\n",
    "df.head()"
   ],
   "id": "317e92911e057cb2",
   "outputs": [
    {
     "data": {
      "text/plain": [
       "   Unnamed: 0                                               text  label\n",
       "0           0      i just feel really helpless and heavy hearted      4\n",
       "1           1  ive enjoyed being able to slouch about relax a...      0\n",
       "2           2  i gave up my internship with the dmrg and am f...      4\n",
       "3           3                         i dont know i feel so lost      0\n",
       "4           4  i am a kindergarten teacher and i am thoroughl...      4"
      ],
      "text/html": [
       "<div>\n",
       "<style scoped>\n",
       "    .dataframe tbody tr th:only-of-type {\n",
       "        vertical-align: middle;\n",
       "    }\n",
       "\n",
       "    .dataframe tbody tr th {\n",
       "        vertical-align: top;\n",
       "    }\n",
       "\n",
       "    .dataframe thead th {\n",
       "        text-align: right;\n",
       "    }\n",
       "</style>\n",
       "<table border=\"1\" class=\"dataframe\">\n",
       "  <thead>\n",
       "    <tr style=\"text-align: right;\">\n",
       "      <th></th>\n",
       "      <th>Unnamed: 0</th>\n",
       "      <th>text</th>\n",
       "      <th>label</th>\n",
       "    </tr>\n",
       "  </thead>\n",
       "  <tbody>\n",
       "    <tr>\n",
       "      <th>0</th>\n",
       "      <td>0</td>\n",
       "      <td>i just feel really helpless and heavy hearted</td>\n",
       "      <td>4</td>\n",
       "    </tr>\n",
       "    <tr>\n",
       "      <th>1</th>\n",
       "      <td>1</td>\n",
       "      <td>ive enjoyed being able to slouch about relax a...</td>\n",
       "      <td>0</td>\n",
       "    </tr>\n",
       "    <tr>\n",
       "      <th>2</th>\n",
       "      <td>2</td>\n",
       "      <td>i gave up my internship with the dmrg and am f...</td>\n",
       "      <td>4</td>\n",
       "    </tr>\n",
       "    <tr>\n",
       "      <th>3</th>\n",
       "      <td>3</td>\n",
       "      <td>i dont know i feel so lost</td>\n",
       "      <td>0</td>\n",
       "    </tr>\n",
       "    <tr>\n",
       "      <th>4</th>\n",
       "      <td>4</td>\n",
       "      <td>i am a kindergarten teacher and i am thoroughl...</td>\n",
       "      <td>4</td>\n",
       "    </tr>\n",
       "  </tbody>\n",
       "</table>\n",
       "</div>"
      ]
     },
     "execution_count": 3,
     "metadata": {},
     "output_type": "execute_result"
    }
   ],
   "execution_count": 3
  },
  {
   "metadata": {
    "ExecuteTime": {
     "end_time": "2025-03-31T19:22:01.239015Z",
     "start_time": "2025-03-31T19:22:01.215712Z"
    }
   },
   "cell_type": "code",
   "source": [
    "print(df.shape)\n",
    "print(df[\"text\"].head())\n",
    "df.isnull().sum()"
   ],
   "id": "a2e3c8adfdc41725",
   "outputs": [
    {
     "name": "stdout",
     "output_type": "stream",
     "text": [
      "(416809, 3)\n",
      "0        i just feel really helpless and heavy hearted\n",
      "1    ive enjoyed being able to slouch about relax a...\n",
      "2    i gave up my internship with the dmrg and am f...\n",
      "3                           i dont know i feel so lost\n",
      "4    i am a kindergarten teacher and i am thoroughl...\n",
      "Name: text, dtype: object\n"
     ]
    },
    {
     "data": {
      "text/plain": [
       "Unnamed: 0    0\n",
       "text          0\n",
       "label         0\n",
       "dtype: int64"
      ]
     },
     "execution_count": 4,
     "metadata": {},
     "output_type": "execute_result"
    }
   ],
   "execution_count": 4
  },
  {
   "metadata": {
    "ExecuteTime": {
     "end_time": "2025-03-31T19:22:01.313323Z",
     "start_time": "2025-03-31T19:22:01.294100Z"
    }
   },
   "cell_type": "code",
   "source": "df.drop(\"Unnamed: 0\", axis=1, inplace=True)",
   "id": "1b6987ebaacbdac9",
   "outputs": [],
   "execution_count": 5
  },
  {
   "metadata": {
    "ExecuteTime": {
     "end_time": "2025-03-31T19:22:01.384481Z",
     "start_time": "2025-03-31T19:22:01.373191Z"
    }
   },
   "cell_type": "code",
   "source": [
    "df[\"label\"].value_counts()\n",
    "# sadness (0), joy (1), love (2), anger (3), fear (4), and surprise (5)"
   ],
   "id": "40f62a4b17cf5b06",
   "outputs": [
    {
     "data": {
      "text/plain": [
       "label\n",
       "1    141067\n",
       "0    121187\n",
       "3     57317\n",
       "4     47712\n",
       "2     34554\n",
       "5     14972\n",
       "Name: count, dtype: int64"
      ]
     },
     "execution_count": 6,
     "metadata": {},
     "output_type": "execute_result"
    }
   ],
   "execution_count": 6
  },
  {
   "metadata": {
    "ExecuteTime": {
     "end_time": "2025-03-31T19:22:02.713810Z",
     "start_time": "2025-03-31T19:22:01.462847Z"
    }
   },
   "cell_type": "code",
   "source": [
    "import nltk\n",
    "from nltk.corpus import stopwords\n",
    "from nltk.stem import PorterStemmer\n",
    "\n",
    "# Download NLTK resources (uncomment the following line if not already downloaded)?\n",
    "nltk.download('punkt')\n",
    "nltk.download('stopwords')"
   ],
   "id": "2c7a450c2eb65e17",
   "outputs": [
    {
     "name": "stderr",
     "output_type": "stream",
     "text": [
      "[nltk_data] Downloading package punkt to\n",
      "[nltk_data]     /Users/patricijamarijanovic/nltk_data...\n",
      "[nltk_data]   Package punkt is already up-to-date!\n",
      "[nltk_data] Downloading package stopwords to\n",
      "[nltk_data]     /Users/patricijamarijanovic/nltk_data...\n",
      "[nltk_data]   Package stopwords is already up-to-date!\n"
     ]
    },
    {
     "data": {
      "text/plain": [
       "True"
      ]
     },
     "execution_count": 7,
     "metadata": {},
     "output_type": "execute_result"
    }
   ],
   "execution_count": 7
  },
  {
   "metadata": {},
   "cell_type": "markdown",
   "source": "1) Brisanje URL-ova",
   "id": "eb937332ef4c3c8e"
  },
  {
   "metadata": {
    "ExecuteTime": {
     "end_time": "2025-03-31T19:22:02.962288Z",
     "start_time": "2025-03-31T19:22:02.749306Z"
    }
   },
   "cell_type": "code",
   "source": [
    "df['text'] = df['text'].str.replace(r'http\\S+', '', regex=True)\n",
    "print(df.head())"
   ],
   "id": "75ea7d07f7d606e3",
   "outputs": [
    {
     "name": "stdout",
     "output_type": "stream",
     "text": [
      "                                                text  label\n",
      "0      i just feel really helpless and heavy hearted      4\n",
      "1  ive enjoyed being able to slouch about relax a...      0\n",
      "2  i gave up my internship with the dmrg and am f...      4\n",
      "3                         i dont know i feel so lost      0\n",
      "4  i am a kindergarten teacher and i am thoroughl...      4\n"
     ]
    }
   ],
   "execution_count": 8
  },
  {
   "metadata": {},
   "cell_type": "markdown",
   "source": "2) Uklanjanje suvišnih razmaka",
   "id": "cc6b97337ede9b73"
  },
  {
   "metadata": {
    "ExecuteTime": {
     "end_time": "2025-03-31T19:22:05.078609Z",
     "start_time": "2025-03-31T19:22:03.007310Z"
    }
   },
   "cell_type": "code",
   "source": [
    "df['text'] = df['text'].str.replace(r'\\s+', ' ', regex=True)\n",
    "print(df.head())"
   ],
   "id": "ca90f35b9d838fa0",
   "outputs": [
    {
     "name": "stdout",
     "output_type": "stream",
     "text": [
      "                                                text  label\n",
      "0      i just feel really helpless and heavy hearted      4\n",
      "1  ive enjoyed being able to slouch about relax a...      0\n",
      "2  i gave up my internship with the dmrg and am f...      4\n",
      "3                         i dont know i feel so lost      0\n",
      "4  i am a kindergarten teacher and i am thoroughl...      4\n"
     ]
    }
   ],
   "execution_count": 9
  },
  {
   "metadata": {},
   "cell_type": "markdown",
   "source": "3) Uklanjanje brojeva",
   "id": "7ff306eba70748f2"
  },
  {
   "metadata": {
    "ExecuteTime": {
     "end_time": "2025-03-31T19:22:06.137062Z",
     "start_time": "2025-03-31T19:22:05.126078Z"
    }
   },
   "cell_type": "code",
   "source": [
    "df['text'] = df['text'].str.replace(r'\\d+', '', regex=True)\n",
    "print(df.head())"
   ],
   "id": "291e4930968ea4fd",
   "outputs": [
    {
     "name": "stdout",
     "output_type": "stream",
     "text": [
      "                                                text  label\n",
      "0      i just feel really helpless and heavy hearted      4\n",
      "1  ive enjoyed being able to slouch about relax a...      0\n",
      "2  i gave up my internship with the dmrg and am f...      4\n",
      "3                         i dont know i feel so lost      0\n",
      "4  i am a kindergarten teacher and i am thoroughl...      4\n"
     ]
    }
   ],
   "execution_count": 10
  },
  {
   "metadata": {},
   "cell_type": "markdown",
   "source": "4) U mala slova",
   "id": "9138637339b7c73d"
  },
  {
   "metadata": {
    "ExecuteTime": {
     "end_time": "2025-03-31T19:22:06.230634Z",
     "start_time": "2025-03-31T19:22:06.149183Z"
    }
   },
   "cell_type": "code",
   "source": [
    "df['text'] = df['text'].str.lower()\n",
    "print(df.head())"
   ],
   "id": "ff91698e0126f603",
   "outputs": [
    {
     "name": "stdout",
     "output_type": "stream",
     "text": [
      "                                                text  label\n",
      "0      i just feel really helpless and heavy hearted      4\n",
      "1  ive enjoyed being able to slouch about relax a...      0\n",
      "2  i gave up my internship with the dmrg and am f...      4\n",
      "3                         i dont know i feel so lost      0\n",
      "4  i am a kindergarten teacher and i am thoroughl...      4\n"
     ]
    }
   ],
   "execution_count": 11
  },
  {
   "metadata": {},
   "cell_type": "markdown",
   "source": "5) Micanje stopwords (a, the, is, ...)",
   "id": "4a67220101bd4e69"
  },
  {
   "metadata": {
    "ExecuteTime": {
     "end_time": "2025-03-31T19:22:18.223964Z",
     "start_time": "2025-03-31T19:22:06.246466Z"
    }
   },
   "cell_type": "code",
   "source": [
    "stop = stopwords.words('english')\n",
    "print(stop)\n",
    "def remove_stopwords(text):\n",
    "    words = text.split()\n",
    "    filtered_words = [word for word in words if word not in stop]\n",
    "    return ' '.join(filtered_words)\n",
    "\n",
    "df[\"text\"] = df[\"text\"].apply(remove_stopwords)\n",
    "df.head()"
   ],
   "id": "8b880b39d165291c",
   "outputs": [
    {
     "name": "stdout",
     "output_type": "stream",
     "text": [
      "['a', 'about', 'above', 'after', 'again', 'against', 'ain', 'all', 'am', 'an', 'and', 'any', 'are', 'aren', \"aren't\", 'as', 'at', 'be', 'because', 'been', 'before', 'being', 'below', 'between', 'both', 'but', 'by', 'can', 'couldn', \"couldn't\", 'd', 'did', 'didn', \"didn't\", 'do', 'does', 'doesn', \"doesn't\", 'doing', 'don', \"don't\", 'down', 'during', 'each', 'few', 'for', 'from', 'further', 'had', 'hadn', \"hadn't\", 'has', 'hasn', \"hasn't\", 'have', 'haven', \"haven't\", 'having', 'he', \"he'd\", \"he'll\", 'her', 'here', 'hers', 'herself', \"he's\", 'him', 'himself', 'his', 'how', 'i', \"i'd\", 'if', \"i'll\", \"i'm\", 'in', 'into', 'is', 'isn', \"isn't\", 'it', \"it'd\", \"it'll\", \"it's\", 'its', 'itself', \"i've\", 'just', 'll', 'm', 'ma', 'me', 'mightn', \"mightn't\", 'more', 'most', 'mustn', \"mustn't\", 'my', 'myself', 'needn', \"needn't\", 'no', 'nor', 'not', 'now', 'o', 'of', 'off', 'on', 'once', 'only', 'or', 'other', 'our', 'ours', 'ourselves', 'out', 'over', 'own', 're', 's', 'same', 'shan', \"shan't\", 'she', \"she'd\", \"she'll\", \"she's\", 'should', 'shouldn', \"shouldn't\", \"should've\", 'so', 'some', 'such', 't', 'than', 'that', \"that'll\", 'the', 'their', 'theirs', 'them', 'themselves', 'then', 'there', 'these', 'they', \"they'd\", \"they'll\", \"they're\", \"they've\", 'this', 'those', 'through', 'to', 'too', 'under', 'until', 'up', 've', 'very', 'was', 'wasn', \"wasn't\", 'we', \"we'd\", \"we'll\", \"we're\", 'were', 'weren', \"weren't\", \"we've\", 'what', 'when', 'where', 'which', 'while', 'who', 'whom', 'why', 'will', 'with', 'won', \"won't\", 'wouldn', \"wouldn't\", 'y', 'you', \"you'd\", \"you'll\", 'your', \"you're\", 'yours', 'yourself', 'yourselves', \"you've\"]\n"
     ]
    },
    {
     "data": {
      "text/plain": [
       "                                                text  label\n",
       "0                 feel really helpless heavy hearted      4\n",
       "1  ive enjoyed able slouch relax unwind frankly n...      0\n",
       "2            gave internship dmrg feeling distraught      4\n",
       "3                                dont know feel lost      0\n",
       "4  kindergarten teacher thoroughly weary job take...      4"
      ],
      "text/html": [
       "<div>\n",
       "<style scoped>\n",
       "    .dataframe tbody tr th:only-of-type {\n",
       "        vertical-align: middle;\n",
       "    }\n",
       "\n",
       "    .dataframe tbody tr th {\n",
       "        vertical-align: top;\n",
       "    }\n",
       "\n",
       "    .dataframe thead th {\n",
       "        text-align: right;\n",
       "    }\n",
       "</style>\n",
       "<table border=\"1\" class=\"dataframe\">\n",
       "  <thead>\n",
       "    <tr style=\"text-align: right;\">\n",
       "      <th></th>\n",
       "      <th>text</th>\n",
       "      <th>label</th>\n",
       "    </tr>\n",
       "  </thead>\n",
       "  <tbody>\n",
       "    <tr>\n",
       "      <th>0</th>\n",
       "      <td>feel really helpless heavy hearted</td>\n",
       "      <td>4</td>\n",
       "    </tr>\n",
       "    <tr>\n",
       "      <th>1</th>\n",
       "      <td>ive enjoyed able slouch relax unwind frankly n...</td>\n",
       "      <td>0</td>\n",
       "    </tr>\n",
       "    <tr>\n",
       "      <th>2</th>\n",
       "      <td>gave internship dmrg feeling distraught</td>\n",
       "      <td>4</td>\n",
       "    </tr>\n",
       "    <tr>\n",
       "      <th>3</th>\n",
       "      <td>dont know feel lost</td>\n",
       "      <td>0</td>\n",
       "    </tr>\n",
       "    <tr>\n",
       "      <th>4</th>\n",
       "      <td>kindergarten teacher thoroughly weary job take...</td>\n",
       "      <td>4</td>\n",
       "    </tr>\n",
       "  </tbody>\n",
       "</table>\n",
       "</div>"
      ]
     },
     "execution_count": 12,
     "metadata": {},
     "output_type": "execute_result"
    }
   ],
   "execution_count": 12
  },
  {
   "metadata": {},
   "cell_type": "markdown",
   "source": "## Train Test Split",
   "id": "1dea5608bc464b5c"
  },
  {
   "metadata": {
    "ExecuteTime": {
     "end_time": "2025-03-31T19:22:18.376467Z",
     "start_time": "2025-03-31T19:22:18.337018Z"
    }
   },
   "cell_type": "code",
   "source": [
    "X = df[\"text\"]\n",
    "y = df[\"label\"]\n",
    "\n",
    "X_train, X_test, y_train, y_test = train_test_split(X, y, test_size=0.2, random_state=42)\n",
    "\n",
    "# Print the shapes of the training and testing sets\n",
    "print(\"X_train shape:\", X_train.shape)\n",
    "print(\"X_test shape:\", X_test.shape)\n",
    "print(\"y_train shape:\", y_train.shape)\n",
    "print(\"y_test shape:\", y_test.shape)\n"
   ],
   "id": "36e5c3b534f86e09",
   "outputs": [
    {
     "name": "stdout",
     "output_type": "stream",
     "text": [
      "X_train shape: (333447,)\n",
      "X_test shape: (83362,)\n",
      "y_train shape: (333447,)\n",
      "y_test shape: (83362,)\n"
     ]
    }
   ],
   "execution_count": 13
  },
  {
   "metadata": {},
   "cell_type": "markdown",
   "source": "## Tokenizacija",
   "id": "780186f4b35c6c1e"
  },
  {
   "metadata": {},
   "cell_type": "markdown",
   "source": [
    "- koristi se Keras Tokenizer\n",
    "- svaka jedinstvena riječ predstavljena brojem\n",
    "- tekst = niz riječi -> niz brojeva"
   ],
   "id": "512a972bfd455c6e"
  },
  {
   "metadata": {
    "ExecuteTime": {
     "end_time": "2025-03-31T19:22:27.152337Z",
     "start_time": "2025-03-31T19:22:18.428425Z"
    }
   },
   "cell_type": "code",
   "source": [
    "tokenizer = Tokenizer(num_words=50000) # ograničenje na 50 000 najčešćih riječi\n",
    "\n",
    "#stvaranje rječnika s riječima i njihovim vrijednostima\n",
    "tokenizer.fit_on_texts(X_train)\n",
    "tokenizer.fit_on_texts(X_test)\n",
    "\n",
    "# pretvorba teksta u niz brojeva (pomoću rječnika)\n",
    "X_train_sequences = tokenizer.texts_to_sequences(X_train)\n",
    "X_test_sequences = tokenizer.texts_to_sequences(X_test)"
   ],
   "id": "57bb6c8db1001c19",
   "outputs": [],
   "execution_count": 14
  },
  {
   "metadata": {},
   "cell_type": "markdown",
   "source": "# Padding\n",
   "id": "41d4bc7a935b0190"
  },
  {
   "metadata": {
    "ExecuteTime": {
     "end_time": "2025-03-31T19:22:27.191264Z",
     "start_time": "2025-03-31T19:22:27.167169Z"
    }
   },
   "cell_type": "code",
   "source": [
    "maxlen = max(len(niz) for niz in X_train_sequences)\n",
    "print(maxlen)"
   ],
   "id": "c37215dd8c89051b",
   "outputs": [
    {
     "name": "stdout",
     "output_type": "stream",
     "text": [
      "79\n"
     ]
    }
   ],
   "execution_count": 15
  },
  {
   "metadata": {
    "ExecuteTime": {
     "end_time": "2025-03-31T19:22:27.914024Z",
     "start_time": "2025-03-31T19:22:27.217400Z"
    }
   },
   "cell_type": "code",
   "source": [
    "X_train_padded = pad_sequences(X_train_sequences, maxlen=maxlen, padding='post')\n",
    "X_test_padded = pad_sequences(X_test_sequences, maxlen=maxlen, padding='post')\n",
    "\n",
    "print(X_train_padded.shape)\n",
    "print(X_train_padded[0])"
   ],
   "id": "bf5c569663e65c45",
   "outputs": [
    {
     "name": "stdout",
     "output_type": "stream",
     "text": [
      "(333447, 79)\n",
      "[   16 30399    69   483     4   183    16     2    34   480 10963   991\n",
      "     0     0     0     0     0     0     0     0     0     0     0     0\n",
      "     0     0     0     0     0     0     0     0     0     0     0     0\n",
      "     0     0     0     0     0     0     0     0     0     0     0     0\n",
      "     0     0     0     0     0     0     0     0     0     0     0     0\n",
      "     0     0     0     0     0     0     0     0     0     0     0     0\n",
      "     0     0     0     0     0     0     0]\n"
     ]
    }
   ],
   "execution_count": 16
  },
  {
   "metadata": {},
   "cell_type": "markdown",
   "source": "# Input\n",
   "id": "6b794e9ac56b1850"
  },
  {
   "metadata": {
    "ExecuteTime": {
     "end_time": "2025-03-31T19:22:27.934106Z",
     "start_time": "2025-03-31T19:22:27.925388Z"
    }
   },
   "cell_type": "code",
   "source": [
    "# veličina vokabulara = 50 000 jedinstvenih riječi (prethodno ograničili)\n",
    "input_size = np.max(X_train_padded) + 1\n",
    "input_size"
   ],
   "id": "bd585bae4c86d138",
   "outputs": [
    {
     "data": {
      "text/plain": [
       "np.int32(50000)"
      ]
     },
     "execution_count": 17,
     "metadata": {},
     "output_type": "execute_result"
    }
   ],
   "execution_count": 17
  },
  {
   "metadata": {},
   "cell_type": "markdown",
   "source": "# Model",
   "id": "2cba20c033d8f80c"
  },
  {
   "metadata": {},
   "cell_type": "markdown",
   "source": [
    "- Bidirectional GRU - posebna vrsta RNN\n",
    "- procesiraju ulazne sekvence u oba smjera istovremeno -> informacije iz prošlog i budućeg konteksta"
   ],
   "id": "66567b9f48bfac7e"
  },
  {
   "metadata": {
    "ExecuteTime": {
     "end_time": "2025-03-31T19:22:28.249234Z",
     "start_time": "2025-03-31T19:22:27.953284Z"
    }
   },
   "cell_type": "code",
   "source": [
    "model = Sequential()\n",
    "\n",
    "# svaka riječ bit će predstavljena kao vektor od 50 brojeva\n",
    "model.add(Embedding(50000, 50))\n",
    "\n",
    "# 0.5 označava postotak jedinica (neurona) koje će biti slučajno isključene tijekom treniranja\n",
    "# za smanjenje overfittinga\n",
    "model.add(Dropout(0.5))\n",
    "\n",
    "model.add(Bidirectional(GRU(120, return_sequences=True)))\n",
    "model.add(Bidirectional(GRU(64, return_sequences=True)))\n",
    "\n",
    "# normalizira aktivacije\n",
    "model.add(BatchNormalization())\n",
    "\n",
    "model.add(Bidirectional(GRU(64)))\n",
    "\n",
    "# output layer\n",
    "model.add(Dense(6, activation='softmax'))\n",
    "\n",
    "# compiling\n",
    "model.compile(optimizer='adam', loss='sparse_categorical_crossentropy', metrics=['accuracy'])\n",
    "model.build(input_shape=(None, maxlen))  # Broj uzoraka može biti bilo koji, zato koristimo None\n",
    "\n",
    "model.summary()"
   ],
   "id": "2064b5bbb64c465f",
   "outputs": [
    {
     "data": {
      "text/plain": [
       "\u001B[1mModel: \"sequential\"\u001B[0m\n"
      ],
      "text/html": [
       "<pre style=\"white-space:pre;overflow-x:auto;line-height:normal;font-family:Menlo,'DejaVu Sans Mono',consolas,'Courier New',monospace\"><span style=\"font-weight: bold\">Model: \"sequential\"</span>\n",
       "</pre>\n"
      ]
     },
     "metadata": {},
     "output_type": "display_data"
    },
    {
     "data": {
      "text/plain": [
       "┏━━━━━━━━━━━━━━━━━━━━━━━━━━━━━━━━━┳━━━━━━━━━━━━━━━━━━━━━━━━┳━━━━━━━━━━━━━━━┓\n",
       "┃\u001B[1m \u001B[0m\u001B[1mLayer (type)                   \u001B[0m\u001B[1m \u001B[0m┃\u001B[1m \u001B[0m\u001B[1mOutput Shape          \u001B[0m\u001B[1m \u001B[0m┃\u001B[1m \u001B[0m\u001B[1m      Param #\u001B[0m\u001B[1m \u001B[0m┃\n",
       "┡━━━━━━━━━━━━━━━━━━━━━━━━━━━━━━━━━╇━━━━━━━━━━━━━━━━━━━━━━━━╇━━━━━━━━━━━━━━━┩\n",
       "│ embedding (\u001B[38;5;33mEmbedding\u001B[0m)           │ (\u001B[38;5;45mNone\u001B[0m, \u001B[38;5;34m79\u001B[0m, \u001B[38;5;34m50\u001B[0m)         │     \u001B[38;5;34m2,500,000\u001B[0m │\n",
       "├─────────────────────────────────┼────────────────────────┼───────────────┤\n",
       "│ dropout (\u001B[38;5;33mDropout\u001B[0m)               │ (\u001B[38;5;45mNone\u001B[0m, \u001B[38;5;34m79\u001B[0m, \u001B[38;5;34m50\u001B[0m)         │             \u001B[38;5;34m0\u001B[0m │\n",
       "├─────────────────────────────────┼────────────────────────┼───────────────┤\n",
       "│ bidirectional (\u001B[38;5;33mBidirectional\u001B[0m)   │ (\u001B[38;5;45mNone\u001B[0m, \u001B[38;5;34m79\u001B[0m, \u001B[38;5;34m240\u001B[0m)        │       \u001B[38;5;34m123,840\u001B[0m │\n",
       "├─────────────────────────────────┼────────────────────────┼───────────────┤\n",
       "│ bidirectional_1 (\u001B[38;5;33mBidirectional\u001B[0m) │ (\u001B[38;5;45mNone\u001B[0m, \u001B[38;5;34m79\u001B[0m, \u001B[38;5;34m128\u001B[0m)        │       \u001B[38;5;34m117,504\u001B[0m │\n",
       "├─────────────────────────────────┼────────────────────────┼───────────────┤\n",
       "│ batch_normalization             │ (\u001B[38;5;45mNone\u001B[0m, \u001B[38;5;34m79\u001B[0m, \u001B[38;5;34m128\u001B[0m)        │           \u001B[38;5;34m512\u001B[0m │\n",
       "│ (\u001B[38;5;33mBatchNormalization\u001B[0m)            │                        │               │\n",
       "├─────────────────────────────────┼────────────────────────┼───────────────┤\n",
       "│ bidirectional_2 (\u001B[38;5;33mBidirectional\u001B[0m) │ (\u001B[38;5;45mNone\u001B[0m, \u001B[38;5;34m128\u001B[0m)            │        \u001B[38;5;34m74,496\u001B[0m │\n",
       "├─────────────────────────────────┼────────────────────────┼───────────────┤\n",
       "│ dense (\u001B[38;5;33mDense\u001B[0m)                   │ (\u001B[38;5;45mNone\u001B[0m, \u001B[38;5;34m6\u001B[0m)              │           \u001B[38;5;34m774\u001B[0m │\n",
       "└─────────────────────────────────┴────────────────────────┴───────────────┘\n"
      ],
      "text/html": [
       "<pre style=\"white-space:pre;overflow-x:auto;line-height:normal;font-family:Menlo,'DejaVu Sans Mono',consolas,'Courier New',monospace\">┏━━━━━━━━━━━━━━━━━━━━━━━━━━━━━━━━━┳━━━━━━━━━━━━━━━━━━━━━━━━┳━━━━━━━━━━━━━━━┓\n",
       "┃<span style=\"font-weight: bold\"> Layer (type)                    </span>┃<span style=\"font-weight: bold\"> Output Shape           </span>┃<span style=\"font-weight: bold\">       Param # </span>┃\n",
       "┡━━━━━━━━━━━━━━━━━━━━━━━━━━━━━━━━━╇━━━━━━━━━━━━━━━━━━━━━━━━╇━━━━━━━━━━━━━━━┩\n",
       "│ embedding (<span style=\"color: #0087ff; text-decoration-color: #0087ff\">Embedding</span>)           │ (<span style=\"color: #00d7ff; text-decoration-color: #00d7ff\">None</span>, <span style=\"color: #00af00; text-decoration-color: #00af00\">79</span>, <span style=\"color: #00af00; text-decoration-color: #00af00\">50</span>)         │     <span style=\"color: #00af00; text-decoration-color: #00af00\">2,500,000</span> │\n",
       "├─────────────────────────────────┼────────────────────────┼───────────────┤\n",
       "│ dropout (<span style=\"color: #0087ff; text-decoration-color: #0087ff\">Dropout</span>)               │ (<span style=\"color: #00d7ff; text-decoration-color: #00d7ff\">None</span>, <span style=\"color: #00af00; text-decoration-color: #00af00\">79</span>, <span style=\"color: #00af00; text-decoration-color: #00af00\">50</span>)         │             <span style=\"color: #00af00; text-decoration-color: #00af00\">0</span> │\n",
       "├─────────────────────────────────┼────────────────────────┼───────────────┤\n",
       "│ bidirectional (<span style=\"color: #0087ff; text-decoration-color: #0087ff\">Bidirectional</span>)   │ (<span style=\"color: #00d7ff; text-decoration-color: #00d7ff\">None</span>, <span style=\"color: #00af00; text-decoration-color: #00af00\">79</span>, <span style=\"color: #00af00; text-decoration-color: #00af00\">240</span>)        │       <span style=\"color: #00af00; text-decoration-color: #00af00\">123,840</span> │\n",
       "├─────────────────────────────────┼────────────────────────┼───────────────┤\n",
       "│ bidirectional_1 (<span style=\"color: #0087ff; text-decoration-color: #0087ff\">Bidirectional</span>) │ (<span style=\"color: #00d7ff; text-decoration-color: #00d7ff\">None</span>, <span style=\"color: #00af00; text-decoration-color: #00af00\">79</span>, <span style=\"color: #00af00; text-decoration-color: #00af00\">128</span>)        │       <span style=\"color: #00af00; text-decoration-color: #00af00\">117,504</span> │\n",
       "├─────────────────────────────────┼────────────────────────┼───────────────┤\n",
       "│ batch_normalization             │ (<span style=\"color: #00d7ff; text-decoration-color: #00d7ff\">None</span>, <span style=\"color: #00af00; text-decoration-color: #00af00\">79</span>, <span style=\"color: #00af00; text-decoration-color: #00af00\">128</span>)        │           <span style=\"color: #00af00; text-decoration-color: #00af00\">512</span> │\n",
       "│ (<span style=\"color: #0087ff; text-decoration-color: #0087ff\">BatchNormalization</span>)            │                        │               │\n",
       "├─────────────────────────────────┼────────────────────────┼───────────────┤\n",
       "│ bidirectional_2 (<span style=\"color: #0087ff; text-decoration-color: #0087ff\">Bidirectional</span>) │ (<span style=\"color: #00d7ff; text-decoration-color: #00d7ff\">None</span>, <span style=\"color: #00af00; text-decoration-color: #00af00\">128</span>)            │        <span style=\"color: #00af00; text-decoration-color: #00af00\">74,496</span> │\n",
       "├─────────────────────────────────┼────────────────────────┼───────────────┤\n",
       "│ dense (<span style=\"color: #0087ff; text-decoration-color: #0087ff\">Dense</span>)                   │ (<span style=\"color: #00d7ff; text-decoration-color: #00d7ff\">None</span>, <span style=\"color: #00af00; text-decoration-color: #00af00\">6</span>)              │           <span style=\"color: #00af00; text-decoration-color: #00af00\">774</span> │\n",
       "└─────────────────────────────────┴────────────────────────┴───────────────┘\n",
       "</pre>\n"
      ]
     },
     "metadata": {},
     "output_type": "display_data"
    },
    {
     "data": {
      "text/plain": [
       "\u001B[1m Total params: \u001B[0m\u001B[38;5;34m2,817,126\u001B[0m (10.75 MB)\n"
      ],
      "text/html": [
       "<pre style=\"white-space:pre;overflow-x:auto;line-height:normal;font-family:Menlo,'DejaVu Sans Mono',consolas,'Courier New',monospace\"><span style=\"font-weight: bold\"> Total params: </span><span style=\"color: #00af00; text-decoration-color: #00af00\">2,817,126</span> (10.75 MB)\n",
       "</pre>\n"
      ]
     },
     "metadata": {},
     "output_type": "display_data"
    },
    {
     "data": {
      "text/plain": [
       "\u001B[1m Trainable params: \u001B[0m\u001B[38;5;34m2,816,870\u001B[0m (10.75 MB)\n"
      ],
      "text/html": [
       "<pre style=\"white-space:pre;overflow-x:auto;line-height:normal;font-family:Menlo,'DejaVu Sans Mono',consolas,'Courier New',monospace\"><span style=\"font-weight: bold\"> Trainable params: </span><span style=\"color: #00af00; text-decoration-color: #00af00\">2,816,870</span> (10.75 MB)\n",
       "</pre>\n"
      ]
     },
     "metadata": {},
     "output_type": "display_data"
    },
    {
     "data": {
      "text/plain": [
       "\u001B[1m Non-trainable params: \u001B[0m\u001B[38;5;34m256\u001B[0m (1.00 KB)\n"
      ],
      "text/html": [
       "<pre style=\"white-space:pre;overflow-x:auto;line-height:normal;font-family:Menlo,'DejaVu Sans Mono',consolas,'Courier New',monospace\"><span style=\"font-weight: bold\"> Non-trainable params: </span><span style=\"color: #00af00; text-decoration-color: #00af00\">256</span> (1.00 KB)\n",
       "</pre>\n"
      ]
     },
     "metadata": {},
     "output_type": "display_data"
    }
   ],
   "execution_count": 18
  },
  {
   "metadata": {},
   "cell_type": "markdown",
   "source": "# Training\n",
   "id": "30ed59817bf4069c"
  },
  {
   "metadata": {
    "ExecuteTime": {
     "end_time": "2025-03-31T20:48:31.312867Z",
     "start_time": "2025-03-31T19:22:28.315138Z"
    }
   },
   "cell_type": "code",
   "source": "history = model.fit(X_train_padded, y_train, epochs = 5, batch_size = 1500, validation_data = (X_test_padded, y_test))",
   "id": "fdf5bee19310eb6",
   "outputs": [
    {
     "name": "stdout",
     "output_type": "stream",
     "text": [
      "Epoch 1/5\n",
      "\u001B[1m223/223\u001B[0m \u001B[32m━━━━━━━━━━━━━━━━━━━━\u001B[0m\u001B[37m\u001B[0m \u001B[1m1043s\u001B[0m 5s/step - accuracy: 0.6508 - loss: 0.9128 - val_accuracy: 0.8908 - val_loss: 0.5978\n",
      "Epoch 2/5\n",
      "\u001B[1m223/223\u001B[0m \u001B[32m━━━━━━━━━━━━━━━━━━━━\u001B[0m\u001B[37m\u001B[0m \u001B[1m1053s\u001B[0m 5s/step - accuracy: 0.9328 - loss: 0.1297 - val_accuracy: 0.9313 - val_loss: 0.1296\n",
      "Epoch 3/5\n",
      "\u001B[1m223/223\u001B[0m \u001B[32m━━━━━━━━━━━━━━━━━━━━\u001B[0m\u001B[37m\u001B[0m \u001B[1m1101s\u001B[0m 5s/step - accuracy: 0.9408 - loss: 0.1001 - val_accuracy: 0.9360 - val_loss: 0.0973\n",
      "Epoch 4/5\n",
      "\u001B[1m223/223\u001B[0m \u001B[32m━━━━━━━━━━━━━━━━━━━━\u001B[0m\u001B[37m\u001B[0m \u001B[1m1050s\u001B[0m 5s/step - accuracy: 0.9428 - loss: 0.0925 - val_accuracy: 0.9363 - val_loss: 0.0957\n",
      "Epoch 5/5\n",
      "\u001B[1m223/223\u001B[0m \u001B[32m━━━━━━━━━━━━━━━━━━━━\u001B[0m\u001B[37m\u001B[0m \u001B[1m917s\u001B[0m 4s/step - accuracy: 0.9438 - loss: 0.0878 - val_accuracy: 0.9297 - val_loss: 0.1043\n"
     ]
    }
   ],
   "execution_count": 19
  },
  {
   "metadata": {},
   "cell_type": "markdown",
   "source": "# Evaluation",
   "id": "c5cda0bc551b8769"
  },
  {
   "metadata": {
    "ExecuteTime": {
     "end_time": "2025-03-31T20:51:23.539560Z",
     "start_time": "2025-03-31T20:48:31.497250Z"
    }
   },
   "cell_type": "code",
   "source": "model.evaluate(X_test_padded, y_test)",
   "id": "d0e4f14c9ad29663",
   "outputs": [
    {
     "name": "stdout",
     "output_type": "stream",
     "text": [
      "\u001B[1m2606/2606\u001B[0m \u001B[32m━━━━━━━━━━━━━━━━━━━━\u001B[0m\u001B[37m\u001B[0m \u001B[1m172s\u001B[0m 66ms/step - accuracy: 0.9295 - loss: 0.1046\n"
     ]
    },
    {
     "data": {
      "text/plain": [
       "[0.10432878881692886, 0.9296562075614929]"
      ]
     },
     "execution_count": 20,
     "metadata": {},
     "output_type": "execute_result"
    }
   ],
   "execution_count": 20
  },
  {
   "metadata": {},
   "cell_type": "markdown",
   "source": "# Prediction\n",
   "id": "73a5f8bb45d343e9"
  },
  {
   "metadata": {
    "ExecuteTime": {
     "end_time": "2025-03-31T21:06:14.867010Z",
     "start_time": "2025-03-31T21:06:14.766583Z"
    }
   },
   "cell_type": "code",
   "source": [
    "input_text = \"i cannot believe she forgot my birthday, that's really rude of her\"\n",
    "\n",
    "# Uklanjanje URL-ova\n",
    "input_text = re.sub(r'http\\S+', '', input_text)\n",
    "\n",
    "# Uklanjanje višestrukih razmaka\n",
    "input_text = re.sub(r'\\s+', ' ', input_text)\n",
    "\n",
    "# Pretvaranje u mala slova\n",
    "input_text = input_text.lower()\n",
    "\n",
    "# uklanjanje stop riječi\n",
    "words = input_text.split()\n",
    "filtered_words = [word for word in words if word not in stop]\n",
    "\n",
    "input_sequence = tokenizer.texts_to_sequences([input_text])\n",
    "\n",
    "input_padded = pad_sequences(input_sequence, maxlen=maxlen, padding='post')\n",
    "\n",
    "predicted_probs = model.predict(input_padded)\n",
    "print(predicted_probs)\n",
    "\n",
    "emocija_index = predicted_probs.argmax()\n",
    "\n",
    "lista_emocija = [\"sadness\", \"joy\", \"love\", \"anger\", \"fear\", \"surprise\"]\n",
    "print(\"predicted emotion: \", lista_emocija[emocija_index])\n"
   ],
   "id": "852e3910f15c4984",
   "outputs": [
    {
     "name": "stdout",
     "output_type": "stream",
     "text": [
      "\u001B[1m1/1\u001B[0m \u001B[32m━━━━━━━━━━━━━━━━━━━━\u001B[0m\u001B[37m\u001B[0m \u001B[1m0s\u001B[0m 41ms/step\n",
      "[[5.7743851e-04 1.8564118e-02 3.8238622e-03 9.7581792e-01 2.5003197e-04\n",
      "  9.6665963e-04]]\n",
      "predicted emotion:  anger\n"
     ]
    }
   ],
   "execution_count": 35
  }
 ],
 "metadata": {
  "kernelspec": {
   "display_name": "Python 3",
   "language": "python",
   "name": "python3"
  },
  "language_info": {
   "codemirror_mode": {
    "name": "ipython",
    "version": 2
   },
   "file_extension": ".py",
   "mimetype": "text/x-python",
   "name": "python",
   "nbconvert_exporter": "python",
   "pygments_lexer": "ipython2",
   "version": "2.7.6"
  }
 },
 "nbformat": 4,
 "nbformat_minor": 5
}
