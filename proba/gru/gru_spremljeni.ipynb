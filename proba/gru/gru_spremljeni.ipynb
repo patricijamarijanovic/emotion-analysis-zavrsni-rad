{
 "cells": [
  {
   "metadata": {},
   "cell_type": "markdown",
   "source": "# Učitavanje spremljenog modela - GRU",
   "id": "e7686e05b2bf5522"
  },
  {
   "metadata": {
    "ExecuteTime": {
     "end_time": "2025-04-14T19:39:21.681654Z",
     "start_time": "2025-04-14T19:39:20.851921Z"
    }
   },
   "cell_type": "code",
   "source": [
    "from tensorflow.keras.models import load_model\n",
    "import re\n",
    "from tensorflow.keras.preprocessing.sequence import pad_sequences\n",
    "from tensorflow.keras.preprocessing.text import Tokenizer\n",
    "import nltk\n",
    "from nltk.corpus import stopwords\n",
    "from nltk.stem import PorterStemmer\n",
    "\n",
    "# Download NLTK resources (uncomment the following line if not already downloaded)?\n",
    "nltk.download('punkt')\n",
    "nltk.download('stopwords')\n",
    "\n",
    "# ucitavanje modela\n",
    "model = load_model(\"moj_model.keras\")"
   ],
   "id": "c2bfff7ccfe548cb",
   "outputs": [
    {
     "name": "stdout",
     "output_type": "stream",
     "text": [
      "[nltk_data] Downloading package punkt to\n",
      "[nltk_data]     /Users/patricijamarijanovic/nltk_data...\n",
      "[nltk_data]   Package punkt is already up-to-date!\n",
      "[nltk_data] Downloading package stopwords to\n",
      "[nltk_data]     /Users/patricijamarijanovic/nltk_data...\n",
      "[nltk_data]   Package stopwords is already up-to-date!\n"
     ]
    }
   ],
   "execution_count": 10
  },
  {
   "metadata": {
    "ExecuteTime": {
     "end_time": "2025-04-14T19:38:03.038119Z",
     "start_time": "2025-04-14T19:38:02.921747Z"
    }
   },
   "cell_type": "code",
   "source": [
    "from tensorflow.keras.preprocessing.text import tokenizer_from_json\n",
    "import json\n",
    "\n",
    "# Učitaj JSON kao string\n",
    "with open(\"tokenizer.json\", \"r\", encoding='utf-8') as f:\n",
    "    tokenizer_json = f.read()  # OVO JE BITNO: čita se kao string!\n",
    "\n",
    "# Rekonstruiraj Tokenizer iz JSON stringa\n",
    "tokenizer = tokenizer_from_json(tokenizer_json)"
   ],
   "id": "f0f6613c478458ec",
   "outputs": [],
   "execution_count": 7
  },
  {
   "metadata": {
    "ExecuteTime": {
     "end_time": "2025-04-14T19:40:07.798870Z",
     "start_time": "2025-04-14T19:40:07.775559Z"
    }
   },
   "cell_type": "code",
   "source": [
    "stop = stopwords.words('english')\n",
    "maxlen = 79\n",
    "\n",
    "# funkcija za predikciju emocija recenice\n",
    "def predict_emotion_from_sentence(input_text):\n",
    "\n",
    "    # Uklanjanje URL-ova\n",
    "    input_text = re.sub(r'http\\S+', '', input_text)\n",
    "\n",
    "    # Uklanjanje višestrukih razmaka\n",
    "    input_text = re.sub(r'\\s+', ' ', input_text)\n",
    "\n",
    "    # Pretvaranje u mala slova\n",
    "    input_text = input_text.lower()\n",
    "\n",
    "    # uklanjanje stop riječi\n",
    "    words = input_text.split()\n",
    "    filtered_words = [word for word in words if word not in stop]\n",
    "\n",
    "    input_sequence = tokenizer.texts_to_sequences([input_text])\n",
    "\n",
    "    input_padded = pad_sequences(input_sequence, maxlen=maxlen, padding='post')\n",
    "\n",
    "    predicted_probs = model.predict(input_padded)\n",
    "    print(predicted_probs)\n",
    "\n",
    "    emocija_index = predicted_probs.argmax()\n",
    "\n",
    "    lista_emocija = [\"sadness\", \"joy\", \"love\", \"anger\", \"fear\", \"surprise\"]\n",
    "    print(\"predicted emotion: \", lista_emocija[emocija_index])"
   ],
   "id": "46f57ccbb9ee460",
   "outputs": [],
   "execution_count": 11
  },
  {
   "metadata": {
    "ExecuteTime": {
     "end_time": "2025-04-14T19:42:01.315856Z",
     "start_time": "2025-04-14T19:42:01.244066Z"
    }
   },
   "cell_type": "code",
   "source": "predict_emotion_from_sentence(\"i feel so disappointed, i can't believe she did that to me\")",
   "id": "86f8e24c013ba32b",
   "outputs": [
    {
     "name": "stdout",
     "output_type": "stream",
     "text": [
      "\u001B[1m1/1\u001B[0m \u001B[32m━━━━━━━━━━━━━━━━━━━━\u001B[0m\u001B[37m\u001B[0m \u001B[1m0s\u001B[0m 28ms/step\n",
      "[[9.9990785e-01 5.0270723e-06 1.8908183e-06 3.0970852e-05 5.2372558e-05\n",
      "  1.8428671e-06]]\n",
      "predicted emotion:  sadness\n"
     ]
    }
   ],
   "execution_count": 14
  },
  {
   "metadata": {
    "ExecuteTime": {
     "end_time": "2025-04-14T20:53:49.013874Z",
     "start_time": "2025-04-14T20:53:48.847818Z"
    }
   },
   "cell_type": "code",
   "source": "predict_emotion_from_sentence(\"i'm so excited for that concert\")",
   "id": "de2150364ef71b54",
   "outputs": [
    {
     "name": "stdout",
     "output_type": "stream",
     "text": [
      "\u001B[1m1/1\u001B[0m \u001B[32m━━━━━━━━━━━━━━━━━━━━\u001B[0m\u001B[37m\u001B[0m \u001B[1m0s\u001B[0m 90ms/step\n",
      "[[7.2569534e-02 8.9331526e-01 2.0455716e-04 2.3953035e-02 9.5149782e-03\n",
      "  4.4259286e-04]]\n",
      "predicted emotion:  joy\n"
     ]
    }
   ],
   "execution_count": 17
  }
 ],
 "metadata": {
  "kernelspec": {
   "display_name": "Python 3",
   "language": "python",
   "name": "python3"
  },
  "language_info": {
   "codemirror_mode": {
    "name": "ipython",
    "version": 2
   },
   "file_extension": ".py",
   "mimetype": "text/x-python",
   "name": "python",
   "nbconvert_exporter": "python",
   "pygments_lexer": "ipython2",
   "version": "2.7.6"
  }
 },
 "nbformat": 4,
 "nbformat_minor": 5
}
