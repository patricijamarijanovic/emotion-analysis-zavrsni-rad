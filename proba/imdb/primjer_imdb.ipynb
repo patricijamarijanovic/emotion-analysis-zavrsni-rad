{
 "cells": [
  {
   "metadata": {},
   "cell_type": "markdown",
   "source": [
    "### IMDB REVIEWS SENTIMENT ANALYSIS\n",
    "- 50 000 recenzija u obliku: recenzija, positive/negative\n",
    "- dataset source: https://www.kaggle.com/datasets/lakshmi25npathi/imdb-dataset-of-50k-movie-reviews"
   ],
   "id": "407d3ffa0d477a77"
  },
  {
   "metadata": {
    "ExecuteTime": {
     "end_time": "2025-03-22T12:24:46.918836Z",
     "start_time": "2025-03-22T12:24:43.309676Z"
    }
   },
   "cell_type": "code",
   "source": [
    "# importing essential libraries and functions\n",
    "import pandas as pd\n",
    "import numpy as np\n",
    "import re\n",
    "import nltk\n",
    "from nltk.corpus import stopwords\n",
    "from numpy import array\n",
    "from tensorflow.keras.preprocessing.text import Tokenizer\n",
    "from tensorflow.keras.preprocessing.text import one_hot\n",
    "from tensorflow.keras.preprocessing.sequence import pad_sequences\n",
    "from tensorflow.keras.models import Sequential\n",
    "# from keras.layers.core import Activation, Dropout, Dense\n",
    "from tensorflow.keras.layers import Activation, Dropout, Dense, Flatten, GlobalMaxPooling1D, Embedding, Conv1D, LSTM\n",
    "\n",
    "from sklearn.model_selection import train_test_split\n",
    "\n"
   ],
   "id": "922bb2d7d5dd4a45",
   "outputs": [],
   "execution_count": 1
  },
  {
   "metadata": {},
   "cell_type": "markdown",
   "source": "## Loading dataset",
   "id": "a9db3824a8eff771"
  },
  {
   "metadata": {
    "ExecuteTime": {
     "end_time": "2025-03-22T12:15:40.396547Z",
     "start_time": "2025-03-22T12:15:39.925299Z"
    }
   },
   "cell_type": "code",
   "source": "movie_reviews = pd.read_csv(\"a1_IMDB_Dataset.csv\")",
   "id": "2662a3210de5e4bc",
   "outputs": [],
   "execution_count": 2
  },
  {
   "metadata": {
    "ExecuteTime": {
     "end_time": "2025-03-22T12:15:40.498180Z",
     "start_time": "2025-03-22T12:15:40.493065Z"
    }
   },
   "cell_type": "code",
   "source": [
    "# data exploration\n",
    "print(movie_reviews.head())\n",
    "movie_reviews.shape"
   ],
   "id": "97345e2e0bc07554",
   "outputs": [
    {
     "name": "stdout",
     "output_type": "stream",
     "text": [
      "                                              review sentiment\n",
      "0  One of the other reviewers has mentioned that ...  positive\n",
      "1  A wonderful little production. <br /><br />The...  positive\n",
      "2  I thought this was a wonderful way to spend ti...  positive\n",
      "3  Basically there's a family where a little boy ...  negative\n",
      "4  Petter Mattei's \"Love in the Time of Money\" is...  positive\n"
     ]
    },
    {
     "data": {
      "text/plain": [
       "(50000, 2)"
      ]
     },
     "execution_count": 3,
     "metadata": {},
     "output_type": "execute_result"
    }
   ],
   "execution_count": 3
  },
  {
   "metadata": {
    "ExecuteTime": {
     "end_time": "2025-03-22T12:15:40.521659Z",
     "start_time": "2025-03-22T12:15:40.514721Z"
    }
   },
   "cell_type": "code",
   "source": [
    "# are there any null values\n",
    "movie_reviews.isnull().values.any()"
   ],
   "id": "d0f8911dfdea7fab",
   "outputs": [
    {
     "data": {
      "text/plain": [
       "np.False_"
      ]
     },
     "execution_count": 4,
     "metadata": {},
     "output_type": "execute_result"
    }
   ],
   "execution_count": 4
  },
  {
   "metadata": {
    "ExecuteTime": {
     "end_time": "2025-03-22T12:15:40.647837Z",
     "start_time": "2025-03-22T12:15:40.530821Z"
    }
   },
   "cell_type": "code",
   "source": [
    "# distribution of positive/negative sentiments in dataset\n",
    "import seaborn as sns\n",
    "sns.countplot(x = \"sentiment\", data = movie_reviews)"
   ],
   "id": "72a4cb1db81d0d67",
   "outputs": [
    {
     "data": {
      "text/plain": [
       "<Axes: xlabel='sentiment', ylabel='count'>"
      ]
     },
     "execution_count": 5,
     "metadata": {},
     "output_type": "execute_result"
    },
    {
     "data": {
      "text/plain": [
       "<Figure size 640x480 with 1 Axes>"
      ],
      "image/png": "[encoded data removed]"
     },
     "metadata": {},
     "output_type": "display_data"
    }
   ],
   "execution_count": 5
  },
  {
   "metadata": {},
   "cell_type": "markdown",
   "source": "## Data preprocessing\n",
   "id": "bf92b6ab6f91861c"
  },
  {
   "metadata": {
    "ExecuteTime": {
     "end_time": "2025-03-22T12:15:40.661624Z",
     "start_time": "2025-03-22T12:15:40.657896Z"
    }
   },
   "cell_type": "code",
   "source": [
    "# take the review column, and print the third review\n",
    "movie_reviews[\"review\"][2]"
   ],
   "id": "a471956e1f6a59d6",
   "outputs": [
    {
     "data": {
      "text/plain": [
       "'I thought this was a wonderful way to spend time on a too hot summer weekend, sitting in the air conditioned theater and watching a light-hearted comedy. The plot is simplistic, but the dialogue is witty and the characters are likable (even the well bread suspected serial killer). While some may be disappointed when they realize this is not Match Point 2: Risk Addiction, I thought it was proof that Woody Allen is still fully in control of the style many of us have grown to love.<br /><br />This was the most I\\'d laughed at one of Woody\\'s comedies in years (dare I say a decade?). While I\\'ve never been impressed with Scarlet Johanson, in this she managed to tone down her \"sexy\" image and jumped right into a average, but spirited young woman.<br /><br />This may not be the crown jewel of his career, but it was wittier than \"Devil Wears Prada\" and more interesting than \"Superman\" a great comedy to go see with friends.'"
      ]
     },
     "execution_count": 6,
     "metadata": {},
     "output_type": "execute_result"
    }
   ],
   "execution_count": 6
  },
  {
   "metadata": {},
   "cell_type": "markdown",
   "source": "--> Uočavam da review sadrži html tag-ove, zagrade, točke...",
   "id": "7437bc3ae5e49b94"
  },
  {
   "metadata": {
    "ExecuteTime": {
     "end_time": "2025-03-22T12:15:40.681850Z",
     "start_time": "2025-03-22T12:15:40.679306Z"
    }
   },
   "cell_type": "code",
   "source": [
    "# function for removing HTML tags\n",
    "TAG_RE = re.compile(r'<[^>]+>') # regex for HTML tags\n",
    "def remove_tags(text):\n",
    "    return TAG_RE.sub(' ', text) # replaces all HTML tags with \" \""
   ],
   "id": "cf1236995703e408",
   "outputs": [],
   "execution_count": 7
  },
  {
   "metadata": {
    "ExecuteTime": {
     "end_time": "2025-03-22T12:15:40.806399Z",
     "start_time": "2025-03-22T12:15:40.688975Z"
    }
   },
   "cell_type": "code",
   "source": [
    "import nltk\n",
    "# downloading the stopwords dataset from NLTK\n",
    "# contains common words that are usually ignored in text analysis (\"the,\" \"is,\" \"and,\" \"in,\")\n",
    "nltk.download('stopwords')"
   ],
   "id": "2787b54c93574456",
   "outputs": [
    {
     "name": "stderr",
     "output_type": "stream",
     "text": [
      "[nltk_data] Downloading package stopwords to\n",
      "[nltk_data]     /Users/patricijamarijanovic/nltk_data...\n",
      "[nltk_data]   Package stopwords is already up-to-date!\n"
     ]
    },
    {
     "data": {
      "text/plain": [
       "True"
      ]
     },
     "execution_count": 8,
     "metadata": {},
     "output_type": "execute_result"
    }
   ],
   "execution_count": 8
  },
  {
   "metadata": {
    "ExecuteTime": {
     "end_time": "2025-03-22T12:15:40.814681Z",
     "start_time": "2025-03-22T12:15:40.812120Z"
    }
   },
   "cell_type": "code",
   "source": [
    "def preprocess_text(sen):\n",
    "    sentence = sen.lower() # to lowercase\n",
    "    sentence = remove_tags(sentence) # remove HTML tags\n",
    "    sentence = re.sub('[^a-zA-Z]', ' ', sentence) # remove punctuations and numbers\n",
    "    sentence = re.sub(r\"\\s+[a-zA-Z]\\s+\", ' ', sentence) # single character removal\n",
    "    sentence = re.sub(r'\\s+', ' ', sentence) # remove multiple spaces\n",
    "\n",
    "    # remove Stopwords\n",
    "    # regex: r'\\b(i|me|my|myself|we|our|ours|...) \\b\\s*'\n",
    "    pattern = re.compile(r'\\b(' + r'|'.join(stopwords.words('english')) + r')\\b\\s*')\n",
    "    sentence = pattern.sub('', sentence)\n",
    "\n",
    "    return sentence"
   ],
   "id": "96f9f7f8d18bc67e",
   "outputs": [],
   "execution_count": 9
  },
  {
   "metadata": {
    "ExecuteTime": {
     "end_time": "2025-03-22T12:15:56.181827Z",
     "start_time": "2025-03-22T12:15:40.826469Z"
    }
   },
   "cell_type": "code",
   "source": [
    "# calling preprocess_text function on movie_reviews\n",
    "X = []\n",
    "sentences = list(movie_reviews['review'])\n",
    "for sen in sentences:\n",
    "    X.append(preprocess_text(sen))"
   ],
   "id": "3ad27d4b28ada64c",
   "outputs": [],
   "execution_count": 10
  },
  {
   "metadata": {
    "ExecuteTime": {
     "end_time": "2025-03-22T12:15:56.210990Z",
     "start_time": "2025-03-22T12:15:56.207473Z"
    }
   },
   "cell_type": "code",
   "source": [
    "# third review cleaned up\n",
    "X[2]"
   ],
   "id": "4b6a4b93f9a84d4a",
   "outputs": [
    {
     "data": {
      "text/plain": [
       "'thought wonderful way spend time hot summer weekend sitting air conditioned theater watching light hearted comedy plot simplistic dialogue witty characters likable even well bread suspected serial killer may disappointed realize match point risk addiction thought proof woody allen still fully control style many us grown love laughed one woody comedies years dare say decade never impressed scarlet johanson managed tone sexy image jumped right average spirited young woman may crown jewel career wittier devil wears prada interesting superman great comedy go see friends '"
      ]
     },
     "execution_count": 11,
     "metadata": {},
     "output_type": "execute_result"
    }
   ],
   "execution_count": 11
  },
  {
   "metadata": {
    "ExecuteTime": {
     "end_time": "2025-03-22T12:15:56.243674Z",
     "start_time": "2025-03-22T12:15:56.234622Z"
    }
   },
   "cell_type": "code",
   "source": [
    "# converting sentiment to 0 and 1\n",
    "y = movie_reviews['sentiment']\n",
    "y = np.array(list(map(lambda x: 1 if x == \"positive\" else 0, y)))"
   ],
   "id": "6a2ea3637ff508ff",
   "outputs": [],
   "execution_count": 12
  },
  {
   "metadata": {
    "ExecuteTime": {
     "end_time": "2025-03-22T12:15:56.270808Z",
     "start_time": "2025-03-22T12:15:56.250797Z"
    }
   },
   "cell_type": "code",
   "source": [
    "# splitting the dataset into train and test\n",
    "# 80% for training, 20% for testing\n",
    "X_train, X_test, y_train, y_test = train_test_split(X, y, test_size=0.2, random_state=42)"
   ],
   "id": "f147a95ad1a553d0",
   "outputs": [],
   "execution_count": 13
  },
  {
   "metadata": {},
   "cell_type": "markdown",
   "source": "## Preparing embedding layer",
   "id": "675626385307c72e"
  },
  {
   "metadata": {},
   "cell_type": "markdown",
   "source": "converts text data into numeric form",
   "id": "9161a7dff5a0bfd9"
  },
  {
   "metadata": {
    "ExecuteTime": {
     "end_time": "2025-03-22T12:15:58.093830Z",
     "start_time": "2025-03-22T12:15:56.277328Z"
    }
   },
   "cell_type": "code",
   "source": [
    "word_tokenizer = Tokenizer()\n",
    "word_tokenizer.fit_on_texts(X_train) # The tokenizer will assign each unique word a unique integer index\n",
    "# builds an internal word index (a dictionary) that maps each unique word to a unique integer index"
   ],
   "id": "8261fa91c7ce03e5",
   "outputs": [],
   "execution_count": 14
  },
  {
   "metadata": {
    "ExecuteTime": {
     "end_time": "2025-03-22T12:15:59.309990Z",
     "start_time": "2025-03-22T12:15:58.100475Z"
    }
   },
   "cell_type": "code",
   "source": [
    "X_train = word_tokenizer.texts_to_sequences(X_train) # converts each sentence in X_train to a sequence of integers\n",
    "X_test = word_tokenizer.texts_to_sequences(X_test)"
   ],
   "id": "a0f824e8e111042b",
   "outputs": [],
   "execution_count": 15
  },
  {
   "metadata": {
    "ExecuteTime": {
     "end_time": "2025-03-22T12:15:59.319159Z",
     "start_time": "2025-03-22T12:15:59.316513Z"
    }
   },
   "cell_type": "code",
   "source": [
    "# total number of unique words in your dataset\n",
    "# .word_index is a dictionary (pairs of word and its index)\n",
    "vocab_length = len(word_tokenizer.word_index) + 1\n",
    "vocab_length"
   ],
   "id": "eded1ab5a82bae8a",
   "outputs": [
    {
     "data": {
      "text/plain": [
       "90703"
      ]
     },
     "execution_count": 16,
     "metadata": {},
     "output_type": "execute_result"
    }
   ],
   "execution_count": 16
  },
  {
   "metadata": {
    "ExecuteTime": {
     "end_time": "2025-03-22T12:15:59.471960Z",
     "start_time": "2025-03-22T12:15:59.327104Z"
    }
   },
   "cell_type": "code",
   "source": [
    "# padding all reviews to fixed length (100 words)\n",
    "maxlen = 100\n",
    "X_train = pad_sequences(X_train, padding='post', maxlen=maxlen)\n",
    "X_test = pad_sequences(X_test, padding='post', maxlen=maxlen)"
   ],
   "id": "394ac6bc22425f09",
   "outputs": [],
   "execution_count": 17
  },
  {
   "metadata": {
    "ExecuteTime": {
     "end_time": "2025-03-22T12:16:03.586939Z",
     "start_time": "2025-03-22T12:15:59.478049Z"
    }
   },
   "cell_type": "code",
   "source": [
    "# tokenizer converts text into numbers, but they don't tell us anything about the meaning of words\n",
    "# that's why we use GloVe - to get a vector for the meaning of words\n",
    "# load GloVe word embeddings and create and Embeddings dictionary\n",
    "from numpy import asarray\n",
    "from numpy import zeros\n",
    "\n",
    "embeddings_dictionary = dict()\n",
    "glove_file = open('a2_glove.6B.100d.txt', encoding=\"utf8\") # each line contains a word followed by a sequence of numbers\n",
    "\n",
    "for line in glove_file:\n",
    "    records = line.split() # ['king', '0.215', '0.311', '-0.024', ...]\n",
    "    word = records[0]\n",
    "    vector_dimensions = asarray(records[1:], dtype='float32') # numpy array of numbers\n",
    "    embeddings_dictionary[word] = vector_dimensions\n",
    "\n",
    "glove_file.close()"
   ],
   "id": "ce05ff69088044a8",
   "outputs": [],
   "execution_count": 18
  },
  {
   "metadata": {
    "ExecuteTime": {
     "end_time": "2025-03-22T12:16:04.008743Z",
     "start_time": "2025-03-22T12:16:03.880714Z"
    }
   },
   "cell_type": "code",
   "source": [
    "# create embedding matrix having 100 columns\n",
    "# containing 100-dimensional GloVe word embeddings for all words in our corpus\n",
    "\n",
    "embedding_matrix = zeros((vocab_length, 100)) # contains GloVe vector for all unique words in our reviews\n",
    "for word, index in word_tokenizer.word_index.items(): # iterate through all unique words\n",
    "    embedding_vector = embeddings_dictionary.get(word) # get the GloVe vector for a specific word\n",
    "    if embedding_vector is not None:\n",
    "        embedding_matrix[index] = embedding_vector\n"
   ],
   "id": "9933c7ab8d542246",
   "outputs": [],
   "execution_count": 19
  },
  {
   "metadata": {
    "ExecuteTime": {
     "end_time": "2025-03-22T12:16:04.014320Z",
     "start_time": "2025-03-22T12:16:04.011797Z"
    }
   },
   "cell_type": "code",
   "source": "embedding_matrix.shape",
   "id": "529d5ef6dcc04e2c",
   "outputs": [
    {
     "data": {
      "text/plain": [
       "(90703, 100)"
      ]
     },
     "execution_count": 20,
     "metadata": {},
     "output_type": "execute_result"
    }
   ],
   "execution_count": 20
  },
  {
   "metadata": {},
   "cell_type": "markdown",
   "source": "## Model training with SIMPLE NEURAL NETWORK",
   "id": "cc20921e33716454"
  },
  {
   "metadata": {
    "ExecuteTime": {
     "end_time": "2025-03-22T12:16:04.324860Z",
     "start_time": "2025-03-22T12:16:04.144680Z"
    }
   },
   "cell_type": "code",
   "source": [
    "# sequential - layers of the network are in a sequence, one layer's output is another layer's input\n",
    "snn_model = Sequential()\n",
    "\n",
    "# input to the Embedding layer is a sequence of indices, not words\n",
    "# After passing the indices through the Embedding layer, each index is mapped to a 100-dimensional vector\n",
    "# These vectors are semantic (similar words will have similar representations in the embedding space)\n",
    "embedding_layer = Embedding(vocab_length, 100, weights=[embedding_matrix], trainable=False) # the matrix is constant during training\n",
    "snn_model.add(embedding_layer)\n",
    "\n",
    "# embedding_layer output: for a 5-word sentence -> 5 x 100 matrix (each row represents the embedding for one word in the sentence)\n",
    "# Flatten layer takes this 2D tensor with shape (5, 100) and reshapes it into a 1D array of size 5 * 100 = 500\n",
    "snn_model.add(Flatten()) # to 1D\n",
    "\n",
    "snn_model.add(Dense(1, activation='sigmoid')) # binary classification"
   ],
   "id": "3919788cd709e432",
   "outputs": [],
   "execution_count": 21
  },
  {
   "metadata": {
    "ExecuteTime": {
     "end_time": "2025-03-22T12:16:04.465398Z",
     "start_time": "2025-03-22T12:16:04.453083Z"
    }
   },
   "cell_type": "code",
   "source": [
    "# model compiling\n",
    "# specifying how the model should be trained\n",
    "\n",
    "snn_model.compile(optimizer = \"adam\", loss = \"binary_crossentropy\", metrics = [\"accuracy\"])\n",
    "# optimizer - determines how the model's weights are adjusted during training\n",
    "#           - minimizes the loss function (how far are we from the correct output) by adjusting the model's weights\n",
    "# loss function - measures the difference between the model's predictions and the actual target values\n",
    "# metrics - how well the model is performing and whether the accuracy is improving\n",
    "#         - \"accuracy\" - correct/total\n",
    "print(snn_model.summary())\n"
   ],
   "id": "3d035a30f6bbc743",
   "outputs": [
    {
     "data": {
      "text/plain": [
       "\u001B[1mModel: \"sequential\"\u001B[0m\n"
      ],
      "text/html": [
       "<pre style=\"white-space:pre;overflow-x:auto;line-height:normal;font-family:Menlo,'DejaVu Sans Mono',consolas,'Courier New',monospace\"><span style=\"font-weight: bold\">Model: \"sequential\"</span>\n",
       "</pre>\n"
      ]
     },
     "metadata": {},
     "output_type": "display_data"
    },
    {
     "data": {
      "text/plain": [
       "┏━━━━━━━━━━━━━━━━━━━━━━━━━━━━━━━━━┳━━━━━━━━━━━━━━━━━━━━━━━━┳━━━━━━━━━━━━━━━┓\n",
       "┃\u001B[1m \u001B[0m\u001B[1mLayer (type)                   \u001B[0m\u001B[1m \u001B[0m┃\u001B[1m \u001B[0m\u001B[1mOutput Shape          \u001B[0m\u001B[1m \u001B[0m┃\u001B[1m \u001B[0m\u001B[1m      Param #\u001B[0m\u001B[1m \u001B[0m┃\n",
       "┡━━━━━━━━━━━━━━━━━━━━━━━━━━━━━━━━━╇━━━━━━━━━━━━━━━━━━━━━━━━╇━━━━━━━━━━━━━━━┩\n",
       "│ embedding (\u001B[38;5;33mEmbedding\u001B[0m)           │ ?                      │     \u001B[38;5;34m9,070,300\u001B[0m │\n",
       "├─────────────────────────────────┼────────────────────────┼───────────────┤\n",
       "│ flatten (\u001B[38;5;33mFlatten\u001B[0m)               │ ?                      │   \u001B[38;5;34m0\u001B[0m (unbuilt) │\n",
       "├─────────────────────────────────┼────────────────────────┼───────────────┤\n",
       "│ dense (\u001B[38;5;33mDense\u001B[0m)                   │ ?                      │   \u001B[38;5;34m0\u001B[0m (unbuilt) │\n",
       "└─────────────────────────────────┴────────────────────────┴───────────────┘\n"
      ],
      "text/html": [
       "<pre style=\"white-space:pre;overflow-x:auto;line-height:normal;font-family:Menlo,'DejaVu Sans Mono',consolas,'Courier New',monospace\">┏━━━━━━━━━━━━━━━━━━━━━━━━━━━━━━━━━┳━━━━━━━━━━━━━━━━━━━━━━━━┳━━━━━━━━━━━━━━━┓\n",
       "┃<span style=\"font-weight: bold\"> Layer (type)                    </span>┃<span style=\"font-weight: bold\"> Output Shape           </span>┃<span style=\"font-weight: bold\">       Param # </span>┃\n",
       "┡━━━━━━━━━━━━━━━━━━━━━━━━━━━━━━━━━╇━━━━━━━━━━━━━━━━━━━━━━━━╇━━━━━━━━━━━━━━━┩\n",
       "│ embedding (<span style=\"color: #0087ff; text-decoration-color: #0087ff\">Embedding</span>)           │ ?                      │     <span style=\"color: #00af00; text-decoration-color: #00af00\">9,070,300</span> │\n",
       "├─────────────────────────────────┼────────────────────────┼───────────────┤\n",
       "│ flatten (<span style=\"color: #0087ff; text-decoration-color: #0087ff\">Flatten</span>)               │ ?                      │   <span style=\"color: #00af00; text-decoration-color: #00af00\">0</span> (unbuilt) │\n",
       "├─────────────────────────────────┼────────────────────────┼───────────────┤\n",
       "│ dense (<span style=\"color: #0087ff; text-decoration-color: #0087ff\">Dense</span>)                   │ ?                      │   <span style=\"color: #00af00; text-decoration-color: #00af00\">0</span> (unbuilt) │\n",
       "└─────────────────────────────────┴────────────────────────┴───────────────┘\n",
       "</pre>\n"
      ]
     },
     "metadata": {},
     "output_type": "display_data"
    },
    {
     "data": {
      "text/plain": [
       "\u001B[1m Total params: \u001B[0m\u001B[38;5;34m9,070,300\u001B[0m (34.60 MB)\n"
      ],
      "text/html": [
       "<pre style=\"white-space:pre;overflow-x:auto;line-height:normal;font-family:Menlo,'DejaVu Sans Mono',consolas,'Courier New',monospace\"><span style=\"font-weight: bold\"> Total params: </span><span style=\"color: #00af00; text-decoration-color: #00af00\">9,070,300</span> (34.60 MB)\n",
       "</pre>\n"
      ]
     },
     "metadata": {},
     "output_type": "display_data"
    },
    {
     "data": {
      "text/plain": [
       "\u001B[1m Trainable params: \u001B[0m\u001B[38;5;34m0\u001B[0m (0.00 B)\n"
      ],
      "text/html": [
       "<pre style=\"white-space:pre;overflow-x:auto;line-height:normal;font-family:Menlo,'DejaVu Sans Mono',consolas,'Courier New',monospace\"><span style=\"font-weight: bold\"> Trainable params: </span><span style=\"color: #00af00; text-decoration-color: #00af00\">0</span> (0.00 B)\n",
       "</pre>\n"
      ]
     },
     "metadata": {},
     "output_type": "display_data"
    },
    {
     "data": {
      "text/plain": [
       "\u001B[1m Non-trainable params: \u001B[0m\u001B[38;5;34m9,070,300\u001B[0m (34.60 MB)\n"
      ],
      "text/html": [
       "<pre style=\"white-space:pre;overflow-x:auto;line-height:normal;font-family:Menlo,'DejaVu Sans Mono',consolas,'Courier New',monospace\"><span style=\"font-weight: bold\"> Non-trainable params: </span><span style=\"color: #00af00; text-decoration-color: #00af00\">9,070,300</span> (34.60 MB)\n",
       "</pre>\n"
      ]
     },
     "metadata": {},
     "output_type": "display_data"
    },
    {
     "name": "stdout",
     "output_type": "stream",
     "text": [
      "None\n"
     ]
    }
   ],
   "execution_count": 22
  },
  {
   "metadata": {
    "ExecuteTime": {
     "end_time": "2025-03-22T12:16:06.904134Z",
     "start_time": "2025-03-22T12:16:04.646430Z"
    }
   },
   "cell_type": "code",
   "source": [
    "# model training\n",
    "snn_model_history = snn_model.fit(X_train, y_train, batch_size = 200, epochs = 6, verbose = 1, validation_split = 0.2)\n",
    "\n",
    "# batch_size - the number of training samples that will be passed through the model before the model's weights are updated\n",
    "#            - processes 128 samples at a time, and then updates the weights\n",
    "#            - Small batch size (e.g., 32) means frequent updates and more detailed learning but slower training time\n",
    "\n",
    "# epochs -  how many times the model will pass through the ENTIRE training dataset\n",
    "\n",
    "# verbose - how much information is displayed during training\n",
    "# validation split - 80% of the data is used for training, 20% is set aside for validation"
   ],
   "id": "12e512f9cf21f767",
   "outputs": [
    {
     "name": "stdout",
     "output_type": "stream",
     "text": [
      "Epoch 1/6\n",
      "\u001B[1m160/160\u001B[0m \u001B[32m━━━━━━━━━━━━━━━━━━━━\u001B[0m\u001B[37m\u001B[0m \u001B[1m1s\u001B[0m 2ms/step - accuracy: 0.6469 - loss: 0.6219 - val_accuracy: 0.7538 - val_loss: 0.5098\n",
      "Epoch 2/6\n",
      "\u001B[1m160/160\u001B[0m \u001B[32m━━━━━━━━━━━━━━━━━━━━\u001B[0m\u001B[37m\u001B[0m \u001B[1m0s\u001B[0m 2ms/step - accuracy: 0.7992 - loss: 0.4527 - val_accuracy: 0.7619 - val_loss: 0.5007\n",
      "Epoch 3/6\n",
      "\u001B[1m160/160\u001B[0m \u001B[32m━━━━━━━━━━━━━━━━━━━━\u001B[0m\u001B[37m\u001B[0m \u001B[1m0s\u001B[0m 2ms/step - accuracy: 0.8250 - loss: 0.4057 - val_accuracy: 0.7657 - val_loss: 0.4952\n",
      "Epoch 4/6\n",
      "\u001B[1m160/160\u001B[0m \u001B[32m━━━━━━━━━━━━━━━━━━━━\u001B[0m\u001B[37m\u001B[0m \u001B[1m0s\u001B[0m 2ms/step - accuracy: 0.8369 - loss: 0.3842 - val_accuracy: 0.7646 - val_loss: 0.4994\n",
      "Epoch 5/6\n",
      "\u001B[1m160/160\u001B[0m \u001B[32m━━━━━━━━━━━━━━━━━━━━\u001B[0m\u001B[37m\u001B[0m \u001B[1m0s\u001B[0m 2ms/step - accuracy: 0.8428 - loss: 0.3701 - val_accuracy: 0.7632 - val_loss: 0.5114\n",
      "Epoch 6/6\n",
      "\u001B[1m160/160\u001B[0m \u001B[32m━━━━━━━━━━━━━━━━━━━━\u001B[0m\u001B[37m\u001B[0m \u001B[1m0s\u001B[0m 2ms/step - accuracy: 0.8503 - loss: 0.3577 - val_accuracy: 0.7615 - val_loss: 0.5140\n"
     ]
    }
   ],
   "execution_count": 23
  },
  {
   "metadata": {
    "ExecuteTime": {
     "end_time": "2025-03-22T12:16:07.264331Z",
     "start_time": "2025-03-22T12:16:07.042280Z"
    }
   },
   "cell_type": "code",
   "source": [
    "# prediction on the Test Set\n",
    "\n",
    "score = snn_model.evaluate(X_test, y_test, verbose = 1)"
   ],
   "id": "b13f1ce1ea09b846",
   "outputs": [
    {
     "name": "stdout",
     "output_type": "stream",
     "text": [
      "\u001B[1m313/313\u001B[0m \u001B[32m━━━━━━━━━━━━━━━━━━━━\u001B[0m\u001B[37m\u001B[0m \u001B[1m0s\u001B[0m 489us/step - accuracy: 0.7434 - loss: 0.5420\n"
     ]
    }
   ],
   "execution_count": 24
  },
  {
   "metadata": {
    "ExecuteTime": {
     "end_time": "2025-03-22T12:16:07.394841Z",
     "start_time": "2025-03-22T12:16:07.392711Z"
    }
   },
   "cell_type": "code",
   "source": [
    "# model performance\n",
    "print('Test accuracy:', score[1])\n",
    "print('Test score:', score[0])"
   ],
   "id": "4e3e659a71d9db89",
   "outputs": [
    {
     "name": "stdout",
     "output_type": "stream",
     "text": [
      "Test accuracy: 0.7483999729156494\n",
      "Test score: 0.5419409871101379\n"
     ]
    }
   ],
   "execution_count": 25
  },
  {
   "metadata": {
    "ExecuteTime": {
     "end_time": "2025-03-22T12:16:07.651668Z",
     "start_time": "2025-03-22T12:16:07.524758Z"
    }
   },
   "cell_type": "code",
   "source": [
    "# model performance charts\n",
    "import matplotlib.pyplot as plt\n",
    "\n",
    "import matplotlib.pyplot as plt\n",
    "\n",
    "plt.plot(snn_model_history.history['accuracy'])\n",
    "plt.plot(snn_model_history.history['val_accuracy'])\n",
    "\n",
    "plt.title('model accuracy')\n",
    "plt.ylabel('accuracy')\n",
    "plt.xlabel('epoch')\n",
    "plt.legend(['train','test'], loc='upper left')\n",
    "plt.show()\n",
    "\n",
    "plt.plot(snn_model_history.history['loss'])\n",
    "plt.plot(snn_model_history.history['val_loss'])\n",
    "\n",
    "plt.title('model loss')\n",
    "plt.ylabel('loss')\n",
    "plt.xlabel('epoch')\n",
    "plt.legend(['train','test'], loc='upper left')\n",
    "plt.show()"
   ],
   "id": "3ad10714add45d53",
   "outputs": [
    {
     "data": {
      "text/plain": [
       "<Figure size 640x480 with 1 Axes>"
      ],
      "image/png": "[encoded data removed]"
     },
     "metadata": {},
     "output_type": "display_data"
    },
    {
     "data": {
      "text/plain": [
       "<Figure size 640x480 with 1 Axes>"
      ],
      "image/png": "[encoded data removed]"
     },
     "metadata": {},
     "output_type": "display_data"
    }
   ],
   "execution_count": 26
  },
  {
   "metadata": {},
   "cell_type": "markdown",
   "source": "## Model training with CONVOLUTIONAL NEURAL NETWORK (CNN)",
   "id": "f37b19017a5113cd"
  },
  {
   "metadata": {},
   "cell_type": "markdown",
   "source": [
    "- primarily used for 2D data classification (images)\n",
    "- tries to find specific features in an image (1st layer), and then the initial detected features are joint together to form bigger features (2nd layer) --> the whole image is detected\n",
    "- text data - we use 1D CNN-s\n"
   ],
   "id": "ec4a5909d8cc4962"
  },
  {
   "metadata": {
    "ExecuteTime": {
     "end_time": "2025-03-22T12:16:07.868841Z",
     "start_time": "2025-03-22T12:16:07.781103Z"
    }
   },
   "cell_type": "code",
   "source": [
    "# neural network architecture\n",
    "cnn_model = Sequential()\n",
    "\n",
    "embedding_layer = Embedding(vocab_length, 100, weights=[embedding_matrix], trainable=False)\n",
    "cnn_model.add(embedding_layer)\n",
    "\n",
    "cnn_model.add(Conv1D(128, 5, activation = 'relu'))\n",
    "# 128 kernels (filters)\n",
    "# 5 = kernel size (5 words at the time)\n",
    "# detects local patterns or features in the sequence of words (e.g., certain word combinations or phrases)\n",
    "# applies 128 different filters (feature detectors) to each sliding window of 5 words in the input sequence. Each filter produces a feature map -> capturing patterns\n",
    "\n",
    "# pooling layer\n",
    "# reduces dimensionality\n",
    "# looks for the strongest activation - the most relevant pattern in text\n",
    "cnn_model.add(GlobalMaxPooling1D())\n",
    "\n",
    "cnn_model.add(Dense(1, activation='sigmoid'))"
   ],
   "id": "58ae4fa72f2d7b56",
   "outputs": [],
   "execution_count": 27
  },
  {
   "metadata": {
    "ExecuteTime": {
     "end_time": "2025-03-22T12:16:08.006817Z",
     "start_time": "2025-03-22T12:16:07.995800Z"
    }
   },
   "cell_type": "code",
   "source": [
    "# model compiling\n",
    "\n",
    "cnn_model.compile(optimizer = \"adam\", loss = \"binary_crossentropy\", metrics = [\"accuracy\"])\n",
    "print(cnn_model.summary())"
   ],
   "id": "3083fed1ca3c071f",
   "outputs": [
    {
     "data": {
      "text/plain": [
       "\u001B[1mModel: \"sequential_1\"\u001B[0m\n"
      ],
      "text/html": [
       "<pre style=\"white-space:pre;overflow-x:auto;line-height:normal;font-family:Menlo,'DejaVu Sans Mono',consolas,'Courier New',monospace\"><span style=\"font-weight: bold\">Model: \"sequential_1\"</span>\n",
       "</pre>\n"
      ]
     },
     "metadata": {},
     "output_type": "display_data"
    },
    {
     "data": {
      "text/plain": [
       "┏━━━━━━━━━━━━━━━━━━━━━━━━━━━━━━━━━┳━━━━━━━━━━━━━━━━━━━━━━━━┳━━━━━━━━━━━━━━━┓\n",
       "┃\u001B[1m \u001B[0m\u001B[1mLayer (type)                   \u001B[0m\u001B[1m \u001B[0m┃\u001B[1m \u001B[0m\u001B[1mOutput Shape          \u001B[0m\u001B[1m \u001B[0m┃\u001B[1m \u001B[0m\u001B[1m      Param #\u001B[0m\u001B[1m \u001B[0m┃\n",
       "┡━━━━━━━━━━━━━━━━━━━━━━━━━━━━━━━━━╇━━━━━━━━━━━━━━━━━━━━━━━━╇━━━━━━━━━━━━━━━┩\n",
       "│ embedding_1 (\u001B[38;5;33mEmbedding\u001B[0m)         │ ?                      │     \u001B[38;5;34m9,070,300\u001B[0m │\n",
       "├─────────────────────────────────┼────────────────────────┼───────────────┤\n",
       "│ conv1d (\u001B[38;5;33mConv1D\u001B[0m)                 │ ?                      │   \u001B[38;5;34m0\u001B[0m (unbuilt) │\n",
       "├─────────────────────────────────┼────────────────────────┼───────────────┤\n",
       "│ global_max_pooling1d            │ ?                      │             \u001B[38;5;34m0\u001B[0m │\n",
       "│ (\u001B[38;5;33mGlobalMaxPooling1D\u001B[0m)            │                        │               │\n",
       "├─────────────────────────────────┼────────────────────────┼───────────────┤\n",
       "│ dense_1 (\u001B[38;5;33mDense\u001B[0m)                 │ ?                      │   \u001B[38;5;34m0\u001B[0m (unbuilt) │\n",
       "└─────────────────────────────────┴────────────────────────┴───────────────┘\n"
      ],
      "text/html": [
       "<pre style=\"white-space:pre;overflow-x:auto;line-height:normal;font-family:Menlo,'DejaVu Sans Mono',consolas,'Courier New',monospace\">┏━━━━━━━━━━━━━━━━━━━━━━━━━━━━━━━━━┳━━━━━━━━━━━━━━━━━━━━━━━━┳━━━━━━━━━━━━━━━┓\n",
       "┃<span style=\"font-weight: bold\"> Layer (type)                    </span>┃<span style=\"font-weight: bold\"> Output Shape           </span>┃<span style=\"font-weight: bold\">       Param # </span>┃\n",
       "┡━━━━━━━━━━━━━━━━━━━━━━━━━━━━━━━━━╇━━━━━━━━━━━━━━━━━━━━━━━━╇━━━━━━━━━━━━━━━┩\n",
       "│ embedding_1 (<span style=\"color: #0087ff; text-decoration-color: #0087ff\">Embedding</span>)         │ ?                      │     <span style=\"color: #00af00; text-decoration-color: #00af00\">9,070,300</span> │\n",
       "├─────────────────────────────────┼────────────────────────┼───────────────┤\n",
       "│ conv1d (<span style=\"color: #0087ff; text-decoration-color: #0087ff\">Conv1D</span>)                 │ ?                      │   <span style=\"color: #00af00; text-decoration-color: #00af00\">0</span> (unbuilt) │\n",
       "├─────────────────────────────────┼────────────────────────┼───────────────┤\n",
       "│ global_max_pooling1d            │ ?                      │             <span style=\"color: #00af00; text-decoration-color: #00af00\">0</span> │\n",
       "│ (<span style=\"color: #0087ff; text-decoration-color: #0087ff\">GlobalMaxPooling1D</span>)            │                        │               │\n",
       "├─────────────────────────────────┼────────────────────────┼───────────────┤\n",
       "│ dense_1 (<span style=\"color: #0087ff; text-decoration-color: #0087ff\">Dense</span>)                 │ ?                      │   <span style=\"color: #00af00; text-decoration-color: #00af00\">0</span> (unbuilt) │\n",
       "└─────────────────────────────────┴────────────────────────┴───────────────┘\n",
       "</pre>\n"
      ]
     },
     "metadata": {},
     "output_type": "display_data"
    },
    {
     "data": {
      "text/plain": [
       "\u001B[1m Total params: \u001B[0m\u001B[38;5;34m9,070,300\u001B[0m (34.60 MB)\n"
      ],
      "text/html": [
       "<pre style=\"white-space:pre;overflow-x:auto;line-height:normal;font-family:Menlo,'DejaVu Sans Mono',consolas,'Courier New',monospace\"><span style=\"font-weight: bold\"> Total params: </span><span style=\"color: #00af00; text-decoration-color: #00af00\">9,070,300</span> (34.60 MB)\n",
       "</pre>\n"
      ]
     },
     "metadata": {},
     "output_type": "display_data"
    },
    {
     "data": {
      "text/plain": [
       "\u001B[1m Trainable params: \u001B[0m\u001B[38;5;34m0\u001B[0m (0.00 B)\n"
      ],
      "text/html": [
       "<pre style=\"white-space:pre;overflow-x:auto;line-height:normal;font-family:Menlo,'DejaVu Sans Mono',consolas,'Courier New',monospace\"><span style=\"font-weight: bold\"> Trainable params: </span><span style=\"color: #00af00; text-decoration-color: #00af00\">0</span> (0.00 B)\n",
       "</pre>\n"
      ]
     },
     "metadata": {},
     "output_type": "display_data"
    },
    {
     "data": {
      "text/plain": [
       "\u001B[1m Non-trainable params: \u001B[0m\u001B[38;5;34m9,070,300\u001B[0m (34.60 MB)\n"
      ],
      "text/html": [
       "<pre style=\"white-space:pre;overflow-x:auto;line-height:normal;font-family:Menlo,'DejaVu Sans Mono',consolas,'Courier New',monospace\"><span style=\"font-weight: bold\"> Non-trainable params: </span><span style=\"color: #00af00; text-decoration-color: #00af00\">9,070,300</span> (34.60 MB)\n",
       "</pre>\n"
      ]
     },
     "metadata": {},
     "output_type": "display_data"
    },
    {
     "name": "stdout",
     "output_type": "stream",
     "text": [
      "None\n"
     ]
    }
   ],
   "execution_count": 28
  },
  {
   "metadata": {
    "ExecuteTime": {
     "end_time": "2025-03-22T12:16:35.672107Z",
     "start_time": "2025-03-22T12:16:08.291498Z"
    }
   },
   "cell_type": "code",
   "source": [
    "# model training\n",
    "cnn_model_history = cnn_model.fit(X_train, y_train, batch_size = 128, epochs = 6, verbose = 1, validation_split = 0.2)"
   ],
   "id": "eba92765e18c8285",
   "outputs": [
    {
     "name": "stdout",
     "output_type": "stream",
     "text": [
      "Epoch 1/6\n",
      "\u001B[1m250/250\u001B[0m \u001B[32m━━━━━━━━━━━━━━━━━━━━\u001B[0m\u001B[37m\u001B[0m \u001B[1m5s\u001B[0m 18ms/step - accuracy: 0.6986 - loss: 0.5636 - val_accuracy: 0.8326 - val_loss: 0.3798\n",
      "Epoch 2/6\n",
      "\u001B[1m250/250\u001B[0m \u001B[32m━━━━━━━━━━━━━━━━━━━━\u001B[0m\u001B[37m\u001B[0m \u001B[1m4s\u001B[0m 18ms/step - accuracy: 0.8565 - loss: 0.3410 - val_accuracy: 0.8465 - val_loss: 0.3469\n",
      "Epoch 3/6\n",
      "\u001B[1m250/250\u001B[0m \u001B[32m━━━━━━━━━━━━━━━━━━━━\u001B[0m\u001B[37m\u001B[0m \u001B[1m5s\u001B[0m 18ms/step - accuracy: 0.8821 - loss: 0.2923 - val_accuracy: 0.8510 - val_loss: 0.3431\n",
      "Epoch 4/6\n",
      "\u001B[1m250/250\u001B[0m \u001B[32m━━━━━━━━━━━━━━━━━━━━\u001B[0m\u001B[37m\u001B[0m \u001B[1m4s\u001B[0m 18ms/step - accuracy: 0.9122 - loss: 0.2358 - val_accuracy: 0.8429 - val_loss: 0.3525\n",
      "Epoch 5/6\n",
      "\u001B[1m250/250\u001B[0m \u001B[32m━━━━━━━━━━━━━━━━━━━━\u001B[0m\u001B[37m\u001B[0m \u001B[1m5s\u001B[0m 18ms/step - accuracy: 0.9392 - loss: 0.1933 - val_accuracy: 0.8560 - val_loss: 0.3355\n",
      "Epoch 6/6\n",
      "\u001B[1m250/250\u001B[0m \u001B[32m━━━━━━━━━━━━━━━━━━━━\u001B[0m\u001B[37m\u001B[0m \u001B[1m5s\u001B[0m 18ms/step - accuracy: 0.9530 - loss: 0.1603 - val_accuracy: 0.8539 - val_loss: 0.3372\n"
     ]
    }
   ],
   "execution_count": 29
  },
  {
   "metadata": {
    "ExecuteTime": {
     "end_time": "2025-03-22T12:16:36.374330Z",
     "start_time": "2025-03-22T12:16:35.677265Z"
    }
   },
   "cell_type": "code",
   "source": [
    "# predictions on the Test Set\n",
    "score = cnn_model.evaluate(X_test, y_test, verbose = 1)"
   ],
   "id": "e1ffcb88aa8837b",
   "outputs": [
    {
     "name": "stdout",
     "output_type": "stream",
     "text": [
      "\u001B[1m313/313\u001B[0m \u001B[32m━━━━━━━━━━━━━━━━━━━━\u001B[0m\u001B[37m\u001B[0m \u001B[1m1s\u001B[0m 2ms/step - accuracy: 0.8551 - loss: 0.3397\n"
     ]
    }
   ],
   "execution_count": 30
  },
  {
   "metadata": {
    "ExecuteTime": {
     "end_time": "2025-03-22T12:16:36.540896Z",
     "start_time": "2025-03-22T12:16:36.539073Z"
    }
   },
   "cell_type": "code",
   "source": [
    "# model performance\n",
    "print('Test accuracy:', score[1])\n",
    "print('Test score:', score[0])"
   ],
   "id": "4642a409ec9ee293",
   "outputs": [
    {
     "name": "stdout",
     "output_type": "stream",
     "text": [
      "Test accuracy: 0.8535000085830688\n",
      "Test score: 0.34421733021736145\n"
     ]
    }
   ],
   "execution_count": 31
  },
  {
   "metadata": {
    "ExecuteTime": {
     "end_time": "2025-03-22T12:16:36.777875Z",
     "start_time": "2025-03-22T12:16:36.669357Z"
    }
   },
   "cell_type": "code",
   "source": [
    "# Model Performance Charts\n",
    "\n",
    "import matplotlib.pyplot as plt\n",
    "\n",
    "plt.plot(cnn_model_history.history['accuracy'])\n",
    "plt.plot(cnn_model_history.history['val_accuracy'])\n",
    "\n",
    "plt.title('model accuracy')\n",
    "plt.ylabel('accuracy')\n",
    "plt.xlabel('epoch')\n",
    "plt.legend(['train','test'], loc = 'upper left')\n",
    "plt.show()\n",
    "\n",
    "plt.plot(cnn_model_history.history['loss'])\n",
    "plt.plot(cnn_model_history.history['val_loss'])\n",
    "\n",
    "plt.title('model loss')\n",
    "plt.ylabel('loss')\n",
    "plt.xlabel('epoch')\n",
    "plt.legend(['train','test'], loc = 'upper left')\n",
    "plt.show()"
   ],
   "id": "fa03448abf320dd5",
   "outputs": [
    {
     "data": {
      "text/plain": [
       "<Figure size 640x480 with 1 Axes>"
      ],
      "image/png": "[encoded data removed]"
     },
     "metadata": {},
     "output_type": "display_data"
    },
    {
     "data": {
      "text/plain": [
       "<Figure size 640x480 with 1 Axes>"
      ],
      "image/png": "[encoded data removed]"
     },
     "metadata": {},
     "output_type": "display_data"
    }
   ],
   "execution_count": 32
  },
  {
   "metadata": {},
   "cell_type": "markdown",
   "source": "## Model training with LSTM (RNN)",
   "id": "87095b1c982f92c8"
  },
  {
   "metadata": {},
   "cell_type": "markdown",
   "source": "- Recurrent Neural Network - proven to work well with sequential data",
   "id": "beab0a6ee4123e4c"
  },
  {
   "metadata": {
    "ExecuteTime": {
     "end_time": "2025-03-22T12:16:36.984313Z",
     "start_time": "2025-03-22T12:16:36.906668Z"
    }
   },
   "cell_type": "code",
   "source": [
    "# neural network architecture\n",
    "\n",
    "lstm_model = Sequential()\n",
    "\n",
    "embedding_layer = Embedding(vocab_length, 100, weights=[embedding_matrix],  trainable=False)\n",
    "lstm_model.add(embedding_layer)\n",
    "\n",
    "# LSTM layer\n",
    "# reads a sentence one word at a time\n",
    "# remembers important words and patterns from earlier in the sentence - captures CONTEXT\n",
    "# 128 = number of memory units (neurons) in the LSTM layer (Each unit acts like a small memory cell that helps the model remember important patterns from the input sequence)\n",
    "# more units -> more memory capacity to learn patterns and long-term dependencies in the data\n",
    "\n",
    "lstm_model.add(LSTM(128))\n",
    "lstm_model.add(Dense(1, activation='sigmoid'))\n"
   ],
   "id": "9679613f12b163b5",
   "outputs": [],
   "execution_count": 33
  },
  {
   "metadata": {
    "ExecuteTime": {
     "end_time": "2025-03-22T12:16:37.123128Z",
     "start_time": "2025-03-22T12:16:37.114538Z"
    }
   },
   "cell_type": "code",
   "source": [
    "# model compiling\n",
    "lstm_model.compile(optimizer = \"adam\", loss = \"binary_crossentropy\", metrics = [\"accuracy\"])\n",
    "print(lstm_model.summary())"
   ],
   "id": "772c2add620a3040",
   "outputs": [
    {
     "data": {
      "text/plain": [
       "\u001B[1mModel: \"sequential_2\"\u001B[0m\n"
      ],
      "text/html": [
       "<pre style=\"white-space:pre;overflow-x:auto;line-height:normal;font-family:Menlo,'DejaVu Sans Mono',consolas,'Courier New',monospace\"><span style=\"font-weight: bold\">Model: \"sequential_2\"</span>\n",
       "</pre>\n"
      ]
     },
     "metadata": {},
     "output_type": "display_data"
    },
    {
     "data": {
      "text/plain": [
       "┏━━━━━━━━━━━━━━━━━━━━━━━━━━━━━━━━━┳━━━━━━━━━━━━━━━━━━━━━━━━┳━━━━━━━━━━━━━━━┓\n",
       "┃\u001B[1m \u001B[0m\u001B[1mLayer (type)                   \u001B[0m\u001B[1m \u001B[0m┃\u001B[1m \u001B[0m\u001B[1mOutput Shape          \u001B[0m\u001B[1m \u001B[0m┃\u001B[1m \u001B[0m\u001B[1m      Param #\u001B[0m\u001B[1m \u001B[0m┃\n",
       "┡━━━━━━━━━━━━━━━━━━━━━━━━━━━━━━━━━╇━━━━━━━━━━━━━━━━━━━━━━━━╇━━━━━━━━━━━━━━━┩\n",
       "│ embedding_2 (\u001B[38;5;33mEmbedding\u001B[0m)         │ ?                      │     \u001B[38;5;34m9,070,300\u001B[0m │\n",
       "├─────────────────────────────────┼────────────────────────┼───────────────┤\n",
       "│ lstm (\u001B[38;5;33mLSTM\u001B[0m)                     │ ?                      │   \u001B[38;5;34m0\u001B[0m (unbuilt) │\n",
       "├─────────────────────────────────┼────────────────────────┼───────────────┤\n",
       "│ dense_2 (\u001B[38;5;33mDense\u001B[0m)                 │ ?                      │   \u001B[38;5;34m0\u001B[0m (unbuilt) │\n",
       "└─────────────────────────────────┴────────────────────────┴───────────────┘\n"
      ],
      "text/html": [
       "<pre style=\"white-space:pre;overflow-x:auto;line-height:normal;font-family:Menlo,'DejaVu Sans Mono',consolas,'Courier New',monospace\">┏━━━━━━━━━━━━━━━━━━━━━━━━━━━━━━━━━┳━━━━━━━━━━━━━━━━━━━━━━━━┳━━━━━━━━━━━━━━━┓\n",
       "┃<span style=\"font-weight: bold\"> Layer (type)                    </span>┃<span style=\"font-weight: bold\"> Output Shape           </span>┃<span style=\"font-weight: bold\">       Param # </span>┃\n",
       "┡━━━━━━━━━━━━━━━━━━━━━━━━━━━━━━━━━╇━━━━━━━━━━━━━━━━━━━━━━━━╇━━━━━━━━━━━━━━━┩\n",
       "│ embedding_2 (<span style=\"color: #0087ff; text-decoration-color: #0087ff\">Embedding</span>)         │ ?                      │     <span style=\"color: #00af00; text-decoration-color: #00af00\">9,070,300</span> │\n",
       "├─────────────────────────────────┼────────────────────────┼───────────────┤\n",
       "│ lstm (<span style=\"color: #0087ff; text-decoration-color: #0087ff\">LSTM</span>)                     │ ?                      │   <span style=\"color: #00af00; text-decoration-color: #00af00\">0</span> (unbuilt) │\n",
       "├─────────────────────────────────┼────────────────────────┼───────────────┤\n",
       "│ dense_2 (<span style=\"color: #0087ff; text-decoration-color: #0087ff\">Dense</span>)                 │ ?                      │   <span style=\"color: #00af00; text-decoration-color: #00af00\">0</span> (unbuilt) │\n",
       "└─────────────────────────────────┴────────────────────────┴───────────────┘\n",
       "</pre>\n"
      ]
     },
     "metadata": {},
     "output_type": "display_data"
    },
    {
     "data": {
      "text/plain": [
       "\u001B[1m Total params: \u001B[0m\u001B[38;5;34m9,070,300\u001B[0m (34.60 MB)\n"
      ],
      "text/html": [
       "<pre style=\"white-space:pre;overflow-x:auto;line-height:normal;font-family:Menlo,'DejaVu Sans Mono',consolas,'Courier New',monospace\"><span style=\"font-weight: bold\"> Total params: </span><span style=\"color: #00af00; text-decoration-color: #00af00\">9,070,300</span> (34.60 MB)\n",
       "</pre>\n"
      ]
     },
     "metadata": {},
     "output_type": "display_data"
    },
    {
     "data": {
      "text/plain": [
       "\u001B[1m Trainable params: \u001B[0m\u001B[38;5;34m0\u001B[0m (0.00 B)\n"
      ],
      "text/html": [
       "<pre style=\"white-space:pre;overflow-x:auto;line-height:normal;font-family:Menlo,'DejaVu Sans Mono',consolas,'Courier New',monospace\"><span style=\"font-weight: bold\"> Trainable params: </span><span style=\"color: #00af00; text-decoration-color: #00af00\">0</span> (0.00 B)\n",
       "</pre>\n"
      ]
     },
     "metadata": {},
     "output_type": "display_data"
    },
    {
     "data": {
      "text/plain": [
       "\u001B[1m Non-trainable params: \u001B[0m\u001B[38;5;34m9,070,300\u001B[0m (34.60 MB)\n"
      ],
      "text/html": [
       "<pre style=\"white-space:pre;overflow-x:auto;line-height:normal;font-family:Menlo,'DejaVu Sans Mono',consolas,'Courier New',monospace\"><span style=\"font-weight: bold\"> Non-trainable params: </span><span style=\"color: #00af00; text-decoration-color: #00af00\">9,070,300</span> (34.60 MB)\n",
       "</pre>\n"
      ]
     },
     "metadata": {},
     "output_type": "display_data"
    },
    {
     "name": "stdout",
     "output_type": "stream",
     "text": [
      "None\n"
     ]
    }
   ],
   "execution_count": 34
  },
  {
   "metadata": {
    "ExecuteTime": {
     "end_time": "2025-03-22T12:19:34.448783Z",
     "start_time": "2025-03-22T12:16:37.391774Z"
    }
   },
   "cell_type": "code",
   "source": [
    "# model training\n",
    "lstm_model_history = lstm_model.fit(X_train, y_train, batch_size = 128, epochs = 6, verbose = 1, validation_split = 0.2)"
   ],
   "id": "1ce06e81fb62dd4d",
   "outputs": [
    {
     "name": "stdout",
     "output_type": "stream",
     "text": [
      "Epoch 1/6\n",
      "\u001B[1m250/250\u001B[0m \u001B[32m━━━━━━━━━━━━━━━━━━━━\u001B[0m\u001B[37m\u001B[0m \u001B[1m29s\u001B[0m 112ms/step - accuracy: 0.6944 - loss: 0.5716 - val_accuracy: 0.7740 - val_loss: 0.4696\n",
      "Epoch 2/6\n",
      "\u001B[1m250/250\u001B[0m \u001B[32m━━━━━━━━━━━━━━━━━━━━\u001B[0m\u001B[37m\u001B[0m \u001B[1m29s\u001B[0m 116ms/step - accuracy: 0.8028 - loss: 0.4372 - val_accuracy: 0.8334 - val_loss: 0.3877\n",
      "Epoch 3/6\n",
      "\u001B[1m250/250\u001B[0m \u001B[32m━━━━━━━━━━━━━━━━━━━━\u001B[0m\u001B[37m\u001B[0m \u001B[1m28s\u001B[0m 114ms/step - accuracy: 0.8293 - loss: 0.3922 - val_accuracy: 0.8466 - val_loss: 0.3476\n",
      "Epoch 4/6\n",
      "\u001B[1m250/250\u001B[0m \u001B[32m━━━━━━━━━━━━━━━━━━━━\u001B[0m\u001B[37m\u001B[0m \u001B[1m29s\u001B[0m 115ms/step - accuracy: 0.8560 - loss: 0.3420 - val_accuracy: 0.8457 - val_loss: 0.3539\n",
      "Epoch 5/6\n",
      "\u001B[1m250/250\u001B[0m \u001B[32m━━━━━━━━━━━━━━━━━━━━\u001B[0m\u001B[37m\u001B[0m \u001B[1m30s\u001B[0m 119ms/step - accuracy: 0.8650 - loss: 0.3227 - val_accuracy: 0.8429 - val_loss: 0.3802\n",
      "Epoch 6/6\n",
      "\u001B[1m250/250\u001B[0m \u001B[32m━━━━━━━━━━━━━━━━━━━━\u001B[0m\u001B[37m\u001B[0m \u001B[1m32s\u001B[0m 129ms/step - accuracy: 0.8712 - loss: 0.3103 - val_accuracy: 0.8670 - val_loss: 0.3204\n"
     ]
    }
   ],
   "execution_count": 35
  },
  {
   "metadata": {
    "ExecuteTime": {
     "end_time": "2025-03-22T12:19:40.960295Z",
     "start_time": "2025-03-22T12:19:34.674671Z"
    }
   },
   "cell_type": "code",
   "source": [
    "# predictions on the Test Set\n",
    "score = lstm_model.evaluate(X_test, y_test, verbose = 1)"
   ],
   "id": "a8d111417b4e9037",
   "outputs": [
    {
     "name": "stdout",
     "output_type": "stream",
     "text": [
      "\u001B[1m313/313\u001B[0m \u001B[32m━━━━━━━━━━━━━━━━━━━━\u001B[0m\u001B[37m\u001B[0m \u001B[1m6s\u001B[0m 20ms/step - accuracy: 0.8647 - loss: 0.3255\n"
     ]
    }
   ],
   "execution_count": 36
  },
  {
   "metadata": {
    "ExecuteTime": {
     "end_time": "2025-03-22T12:19:40.965761Z",
     "start_time": "2025-03-22T12:19:40.963821Z"
    }
   },
   "cell_type": "code",
   "source": [
    "# model performance\n",
    "print('Test accuracy:', score[1])\n",
    "print('Test score:', score[0])"
   ],
   "id": "ac9ae38c1bf58cc3",
   "outputs": [
    {
     "name": "stdout",
     "output_type": "stream",
     "text": [
      "Test accuracy: 0.8623999953269958\n",
      "Test score: 0.3270726501941681\n"
     ]
    }
   ],
   "execution_count": 37
  },
  {
   "metadata": {
    "ExecuteTime": {
     "end_time": "2025-03-22T12:19:41.209524Z",
     "start_time": "2025-03-22T12:19:41.100266Z"
    }
   },
   "cell_type": "code",
   "source": [
    "    # Model Performance Charts\n",
    "\n",
    "import matplotlib.pyplot as plt\n",
    "\n",
    "plt.plot(lstm_model_history.history['accuracy'])\n",
    "plt.plot(lstm_model_history.history['val_accuracy'])\n",
    "\n",
    "plt.title('model accuracy')\n",
    "plt.ylabel('accuracy')\n",
    "plt.xlabel('epoch')\n",
    "plt.legend(['train','test'], loc='upper left')\n",
    "plt.show()\n",
    "\n",
    "plt.plot(lstm_model_history.history['loss'])\n",
    "plt.plot(lstm_model_history.history['val_loss'])\n",
    "\n",
    "plt.title('model loss')\n",
    "plt.ylabel('loss')\n",
    "plt.xlabel('epoch')\n",
    "plt.legend(['train','test'], loc='upper left')\n",
    "plt.show()"
   ],
   "id": "e1773b31acb2ba43",
   "outputs": [
    {
     "data": {
      "text/plain": [
       "<Figure size 640x480 with 1 Axes>"
      ],
      "image/png": "[encoded data removed]"
     },
     "metadata": {},
     "output_type": "display_data"
    },
    {
     "data": {
      "text/plain": [
       "<Figure size 640x480 with 1 Axes>"
      ],
      "image/png": "[encoded data removed]"
     },
     "metadata": {},
     "output_type": "display_data"
    }
   ],
   "execution_count": 38
  },
  {
   "metadata": {},
   "cell_type": "markdown",
   "source": "## Making predictions on unseen IMDB data",
   "id": "a56fe1916a2f1b43"
  },
  {
   "metadata": {
    "ExecuteTime": {
     "end_time": "2025-03-22T12:19:41.354432Z",
     "start_time": "2025-03-22T12:19:41.340420Z"
    }
   },
   "cell_type": "code",
   "source": [
    "dataset_unseen_reviews = pd.read_csv(\"a3_IMDb_Unseen_Reviews.csv\")\n",
    "dataset_unseen_reviews.head()"
   ],
   "id": "dd887288d90a2fb2",
   "outputs": [
    {
     "data": {
      "text/plain": [
       "   Unnamed: 0       Movie                                        Review Text  \\\n",
       "0           0  Ex Machina  Intelligent Movie.\\nThis movie is obviously al...   \n",
       "1           1  Ex Machina  Extraordinary and thought-provoking.\\n'Ex mach...   \n",
       "2           2  Ex Machina  Poor story, only reasonable otherwise.\\nIf I h...   \n",
       "3           3  Ex Machina  Had Great Potential.\\nThis movie is one of the...   \n",
       "4           4    Eternals  Amazing visuals and philosophical concepts!\\n\\...   \n",
       "\n",
       "   IMDb Rating  \n",
       "0            9  \n",
       "1           10  \n",
       "2            3  \n",
       "3            1  \n",
       "4           10  "
      ],
      "text/html": [
       "<div>\n",
       "<style scoped>\n",
       "    .dataframe tbody tr th:only-of-type {\n",
       "        vertical-align: middle;\n",
       "    }\n",
       "\n",
       "    .dataframe tbody tr th {\n",
       "        vertical-align: top;\n",
       "    }\n",
       "\n",
       "    .dataframe thead th {\n",
       "        text-align: right;\n",
       "    }\n",
       "</style>\n",
       "<table border=\"1\" class=\"dataframe\">\n",
       "  <thead>\n",
       "    <tr style=\"text-align: right;\">\n",
       "      <th></th>\n",
       "      <th>Unnamed: 0</th>\n",
       "      <th>Movie</th>\n",
       "      <th>Review Text</th>\n",
       "      <th>IMDb Rating</th>\n",
       "    </tr>\n",
       "  </thead>\n",
       "  <tbody>\n",
       "    <tr>\n",
       "      <th>0</th>\n",
       "      <td>0</td>\n",
       "      <td>Ex Machina</td>\n",
       "      <td>Intelligent Movie.\\nThis movie is obviously al...</td>\n",
       "      <td>9</td>\n",
       "    </tr>\n",
       "    <tr>\n",
       "      <th>1</th>\n",
       "      <td>1</td>\n",
       "      <td>Ex Machina</td>\n",
       "      <td>Extraordinary and thought-provoking.\\n'Ex mach...</td>\n",
       "      <td>10</td>\n",
       "    </tr>\n",
       "    <tr>\n",
       "      <th>2</th>\n",
       "      <td>2</td>\n",
       "      <td>Ex Machina</td>\n",
       "      <td>Poor story, only reasonable otherwise.\\nIf I h...</td>\n",
       "      <td>3</td>\n",
       "    </tr>\n",
       "    <tr>\n",
       "      <th>3</th>\n",
       "      <td>3</td>\n",
       "      <td>Ex Machina</td>\n",
       "      <td>Had Great Potential.\\nThis movie is one of the...</td>\n",
       "      <td>1</td>\n",
       "    </tr>\n",
       "    <tr>\n",
       "      <th>4</th>\n",
       "      <td>4</td>\n",
       "      <td>Eternals</td>\n",
       "      <td>Amazing visuals and philosophical concepts!\\n\\...</td>\n",
       "      <td>10</td>\n",
       "    </tr>\n",
       "  </tbody>\n",
       "</table>\n",
       "</div>"
      ]
     },
     "execution_count": 39,
     "metadata": {},
     "output_type": "execute_result"
    }
   ],
   "execution_count": 39
  },
  {
   "metadata": {
    "ExecuteTime": {
     "end_time": "2025-03-22T12:19:41.491563Z",
     "start_time": "2025-03-22T12:19:41.486398Z"
    }
   },
   "cell_type": "code",
   "source": [
    "# preprocessing\n",
    "unseen_reviews = dataset_unseen_reviews[\"Review Text\"]\n",
    "\n",
    "unseen_processed = []\n",
    "for r in unseen_reviews:\n",
    "    unseen_processed.append(preprocess_text(r))"
   ],
   "id": "3cc1e372ef2ccc02",
   "outputs": [],
   "execution_count": 40
  },
  {
   "metadata": {
    "ExecuteTime": {
     "end_time": "2025-03-22T12:19:41.515474Z",
     "start_time": "2025-03-22T12:19:41.513239Z"
    }
   },
   "cell_type": "code",
   "source": "print(unseen_processed[0])",
   "id": "56103db61f7c7e65",
   "outputs": [
    {
     "name": "stdout",
     "output_type": "stream",
     "text": [
      "intelligent movie movie obviously allegorical fascinating tale ai mainly manipulation power wanting action spectacular cgi movie aimed people like think rather passively wait entertained themes ai also surveillance excellent points data us collected phone companies search engine companies commercial operating systems makers plot seems simple extremely clever protagonist playing games trying stay one step ahead one another movie perfectly consistent internal logic plays perfectly go expecting much however see people satisfied movie sets brilliantly therefore give least recent movies getting movie succeeds another recent movie ai transcendence think called failed interesting failure third movie ai spanish movie called eva also brilliant eva moving movie philosophical movies perfect different ways ai name movie ava seems nod title spanish movie aside nice stars appeared ex machina eva casting great course several aspects movie unrealistic often absurd allegorical movie acceptable movie making points rather striving realism fairytale accurate portrayal \n"
     ]
    }
   ],
   "execution_count": 41
  },
  {
   "metadata": {
    "ExecuteTime": {
     "end_time": "2025-03-22T12:19:41.594245Z",
     "start_time": "2025-03-22T12:19:41.586395Z"
    }
   },
   "cell_type": "code",
   "source": [
    "# tokenising (with earlier trained tokeniser)\n",
    "unseen_tokenized = word_tokenizer.texts_to_sequences(unseen_processed)\n",
    "\n",
    "# pooling instance to have maxlen of 100 tokens\n",
    "unseen_padded = pad_sequences(unseen_tokenized, padding='post', maxlen=maxlen)"
   ],
   "id": "6376fae25783bccf",
   "outputs": [],
   "execution_count": 42
  },
  {
   "metadata": {
    "ExecuteTime": {
     "end_time": "2025-03-22T12:19:42.097003Z",
     "start_time": "2025-03-22T12:19:41.865034Z"
    }
   },
   "cell_type": "code",
   "source": [
    "# passing tokenised instance to the LSTM model for predictions\n",
    "unseen_sentiments = lstm_model.predict(unseen_padded)\n",
    "\n",
    "unseen_sentiments"
   ],
   "id": "563c9baffd4ce235",
   "outputs": [
    {
     "name": "stdout",
     "output_type": "stream",
     "text": [
      "\u001B[1m1/1\u001B[0m \u001B[32m━━━━━━━━━━━━━━━━━━━━\u001B[0m\u001B[37m\u001B[0m \u001B[1m0s\u001B[0m 157ms/step\n"
     ]
    },
    {
     "data": {
      "text/plain": [
       "array([[0.9166313 ],\n",
       "       [0.9914896 ],\n",
       "       [0.29443562],\n",
       "       [0.91203797],\n",
       "       [0.97459126],\n",
       "       [0.02137031]], dtype=float32)"
      ]
     },
     "execution_count": 43,
     "metadata": {},
     "output_type": "execute_result"
    }
   ],
   "execution_count": 43
  },
  {
   "metadata": {
    "ExecuteTime": {
     "end_time": "2025-03-22T12:19:42.154039Z",
     "start_time": "2025-03-22T12:19:42.138234Z"
    }
   },
   "cell_type": "code",
   "source": [
    "# Writing model output file back to Google Drive\n",
    "\n",
    "dataset_unseen_reviews['Predicted Sentiments'] = np.round(unseen_sentiments*10,1)\n",
    "\n",
    "df_prediction_sentiments = pd.DataFrame(dataset_unseen_reviews['Predicted Sentiments'], columns = ['Predicted Sentiments'])\n",
    "df_movie                 = pd.DataFrame(dataset_unseen_reviews['Movie'], columns = ['Movie'])\n",
    "df_review_text           = pd.DataFrame(dataset_unseen_reviews['Review Text'], columns = ['Review Text'])\n",
    "df_imdb_rating           = pd.DataFrame(dataset_unseen_reviews['IMDb Rating'], columns = ['IMDb Rating'])\n",
    "\n",
    "\n",
    "dfx=pd.concat([df_movie, df_review_text, df_imdb_rating, df_prediction_sentiments], axis=1)\n",
    "\n",
    "dfx.to_csv(\"./c2_IMDb_Unseen_Predictions.csv\", sep=',', encoding='UTF-8')\n",
    "\n",
    "dfx.head(6)"
   ],
   "id": "7eb9b2edba936c7a",
   "outputs": [
    {
     "data": {
      "text/plain": [
       "        Movie  \\\n",
       "0  Ex Machina   \n",
       "1  Ex Machina   \n",
       "2  Ex Machina   \n",
       "3  Ex Machina   \n",
       "4    Eternals   \n",
       "5    Eternals   \n",
       "\n",
       "                                                                                                                                                                                                                                                                                                                                                                                                                                                                                                                                                                                                                                                                                                                                                                                                                                                                                                                                                                                                                                                                                                                                                                                                                                                                                                                                                                                                                                                                                                                                                                                                                                                                                                                                                                                                                                                                                                                                                                                                                                                                                                                                                                                                                                                                                                                                                                                                                                                                                                                                                                                                                                                                                                                                                                                                                                                                                                                                                                                                                                                                                                                                                                                          Review Text  \\\n",
       "0                                                                                                                                                                                                                                                                                                                                                                                                                                                                                                                                                                                                                                                                                                                                                                                                                                                                                                                                                                                                                                                                                                                                                                                                                                                                                                                                                                                   Intelligent Movie.\\nThis movie is obviously allegorical, a fascinating tale about AI, but it is mainly about manipulation and power. It isn't for those wanting action or spectacular CGI, the movie is aimed at people who like to think, rather than passively wait to be entertained. There are themes here not only about AI, but also about surveillance, with excellent points about how data about us is collected by phone companies, search engine companies, commercial operating systems makers and so on. The plot seems simple but isn't, it's extremely clever, with the protagonist playing games, trying to stay one step ahead of one another. This is a movie with perfectly consistent internal logic that plays out perfectly. Don't go in expecting too much, however, as I can see most people will not be satisfied by this movie, but for me, it does what it sets out to do brilliantly. Therefore I give at least 9/10. And most recent movies have been getting 5/10 from me. This movie succeeds where another recent movie about AI, Transcendence, I think it is called, failed (but it was an interesting failure). A third movie about AI, a Spanish movie called Eva, was also brilliant. Eva was more moving and this movie more philosophical. But both movies were perfect in their different ways. The AI's name in this movie, Ava, seems to be a nod to the title of the Spanish movie. As an aside, it's nice that no \"stars\" appeared in \"Ex Machina\" and \"Eva\", the casting was great. Of course there are several aspects of this movie that are unrealistic and often absurd. But because this is an allegorical movie, these are acceptable, because the movie is making points, rather than striving for realism. It's more of a fairytale than accurate portrayal.   \n",
       "1  Extraordinary and thought-provoking.\\n'Ex machina' is surprisingly dense, more so than other titles Alex Garland has written, perhaps excepting only 'Annihilation.' The simple concept is given a definite narrative, but that narrative pointedly explores the very nature of thought, and perception, and further broaching the nature and ramifications of morality. This is a psychological thriller, and in fundamental construction and in minute rendering alike, it is more intense than any other feature in the genre that I can name offhand, so much so as to almost classify as horror. The movie emphasizes and plays on dire uncertainty of intent, motivation, and reality all the way through to the climax, and even then leaves us with a somewhat ambiguous ending. And from ordinary beginning to captivating ending, at every point 'Ex machina' is absolutely marvelous.\\n\\nOf any performance I've seen from Oscar Isaac, none have been nearly so forceful as his portrayal of Nathan, exhibiting outstanding nuance and sharp personality in the realization of a man exceptionally intelligent, and exceptionally cruel and conniving. I'm not especially familiar with Domhnall Gleeson, but the Irish actor demonstrates admirable range and poise readily matching the same traits that are more immediately notable in his costars. And with that said - certainly not to count out anyone else involved - Alicia Vikander is phenomenal as Ava, showing a careful exactness to every motion and expression befitting the character, and impressing with her skills in the most subtle of ways.\\n\\nI love the score composed between Ben Salisbury and Geoff Barrow, lending to the pensive unease about the film and building to a great crescendo at the precise appropriate moments. The sound design is exquisite - soft and unobtrusive, and with those qualities denoting both the meticulous craft of the feature, and the highly advanced status of Ava. So it is, too, with the special effects; to read a little bit of the production history informs of the substantial effort made to ensure every element of Nathan's creation was visualized with the utmost possibility of realism. And I think that endeavor paid off handsomely.\\n\\nThe characters as written are wonderfully complex, and the dialogue deceptively so. Garland's scene writing is impeccable and deeply engrossing, to say nothing of the overall narrative that delves into such heavy subject matter. Even being aware of the acclaim the feature had garnered since its release, I wasn't wholly sure what to expect as I sat to watch. What I got far exceeded anything I had imagined, mostly stepping away significantly from the common story ideas that populate most sci-fi films about artificial intelligence. Garland's screenplay analyzes consciousness with depth, completeness, and potency that I wouldn't have anticipated from a genre picture, and the result is so terrifically engaging as to be exhilarating. Factor in sound performances and excellent music, and 'Ex machina' is a firmly first-rate slice of science fiction that I call a must-see.   \n",
       "2                                                                                                                                                                                                                                                                                                                                                                                                                                                                                                                                                                                                                                                                                                                                                                                                                                                                                                                                                                                                                                                                                                                                                                                                                                                                                                                                                                                                                                                                                                                                                                                                                                                                                                                                   Poor story, only reasonable otherwise.\\nIf I had realised this was by Alex Garland I would not have bothered watching. I remember reading his book the Beach years ago and thinking 'there's something not very nice about this'. At the time I wasn't sure what it was. But now having seen Ex Machina, I have the same feeling. That the story has been chosen simply to appeal to a large audience, in a rather manipulative, unthinking and unfeeling way.\\n\\nI don't normally write bad reviews - of anything. Preferring to focus on the positive. But I so dislike this I felt I had to write something to put people off wasting their time, or assimilating some of this 'nastiness'.\\n\\nIn the case of Ex Machina I can just imagine Garland wondering what he would do for his next project, googling AI and quickly finding the AI Box Experiment. And rather than do the heart- and soul-searching work that would be necessary to produce anything original I imagine him quickly turning somebody else's idea into his next big proposal to present to the film studio.\\n\\nSo an unoriginal idea, presented in a fairly pedestrian way. Lots of images derived from a young person's view of 'sexuality', made me also wonder if this film is rather prejudiced against women?\\n\\nIt is reasonably paced but I found myself yawning a lot - not quite what I would expect from a good thriller.\\n\\nDomhnall Gleeson is OK, does a pretty good job.   \n",
       "3                                                                                                                                                                                                                                                                                                                                                                                                                                                                                                                                                                                                                                                                                                                                                                                                                                                                                                                                                                                                                                                                                                                                                                                                                                                                                                                                                                                                                                                                                                                                                                                                                                                                                                                                                                                                                                                                                                                                                                                                                                                                                                                                                                                                                                                                                                                                                                                                                                          Had Great Potential.\\nThis movie is one of the countless that have come out of Hollywood that had great potential.\\n\\nHowever, like so many personalities in Hollywood, it sold it's soul for a cheap finish.\\n\\nThere were some beautiful ideas in this movie, and it could of been great.\\n\\nHowever, the producers chose to go for the cheap thriller effect, instead of exploring what truly makes us human or machine. Conceived, written, and produced by idiots with now soul.\\n\\nDon't waste your time.\\n\\nThe only redeeming part of this movie was when the dweeb gets sent to the sticks, and is surprised when his smartphone tell him that there was no signal. The producers and writers of this piece of crap obviously had no signal also.   \n",
       "4                                                                                                                                                                                                                                                                                                                                                                                                                                                                                                                                                                                                                                                                                                                                                                                                                                                                                                                                                                                                                                                                                                                                                                                                                                                                                                                                                                                                                                                                                                                                                                                                                                                                                                                                                                                                                                                                                               Amazing visuals and philosophical concepts!\\n\\nNot only is the Eternals a visual masterpiece, the inner challenges each of the eternals face is a great signifier of the MCU moving into a more mature, meaningful phase.\\n\\nWhen you look deeper into the plot and each events significance, and appreciate the detail put into a timeline that spans thousands of years, the low underwhelming ratings seem obviously out of place. And despite the fact that many people loved the MCU as a couple of buff guys and over-sexualised women, the transition the MCU is going through is inevitable, as a franchise that has supported generations, and quite frankly awesome.\\n\\nBesides from the stunning visuals and deep undertones Chloe Zhao certainly packs in enough fight scenes as possibly needed. Each eternal represents a unique power, connected through their source of cosmic energy. This variability allows for exhilarating fight scenes that are arguably more interesting than a couple of punches, kicks and the stray flying weapon. The love stories are quaint and meaningful, and certainly don't take up too much of the run time.\\n\\nOverall, the new age of maturity and deeper concepts seen in this movie is most definitely something to look forward to in Phase 4!   \n",
       "5                                                                                                                                                                                                                                                                                                                                                                                                                                                                                                                                                                                                                                                                                                                                                                                                                                                                                                                                                                                                                                                                                                                                                                                                                                                                                                                                                                                                                                                                                                                                                                                                                                                                                                                                                                                                                                                                                                                                                                                                                                                                                                                                                                                                                                                                                                                                          Worst MCU film ever\\n\\nFollowing the events of Avengers: Endgame (2019), an unexpected tragedy forces the Eternals, ancient aliens who have been living on Earth in secret for thousands of years, out of the shadows to reunite against mankind's most ancient enemy, the Deviants.\\n\\nThis film is by far the worst MCU film I have watch. It's massive insuylt to the comics from the Jack Kirby days. Gender swapping some of the eternals, bad story telling which makes absolutely no sense, unlikeable characters, little to no action and ridicules changes to the MCU just sum up how bad this film. Completely ruined Endgame\\n\\nThe only goods were the music and the CGI for Arishen as well as bonus points for being voiced by David Kaye.\\n\\nOther then that it's just not a good movie makes both Captain Marvel and Iron Man 3 look good.   \n",
       "\n",
       "   IMDb Rating  Predicted Sentiments  \n",
       "0            9                   9.2  \n",
       "1           10                   9.9  \n",
       "2            3                   2.9  \n",
       "3            1                   9.1  \n",
       "4           10                   9.7  \n",
       "5            3                   0.2  "
      ],
      "text/html": [
       "<div>\n",
       "<style scoped>\n",
       "    .dataframe tbody tr th:only-of-type {\n",
       "        vertical-align: middle;\n",
       "    }\n",
       "\n",
       "    .dataframe tbody tr th {\n",
       "        vertical-align: top;\n",
       "    }\n",
       "\n",
       "    .dataframe thead th {\n",
       "        text-align: right;\n",
       "    }\n",
       "</style>\n",
       "<table border=\"1\" class=\"dataframe\">\n",
       "  <thead>\n",
       "    <tr style=\"text-align: right;\">\n",
       "      <th></th>\n",
       "      <th>Movie</th>\n",
       "      <th>Review Text</th>\n",
       "      <th>IMDb Rating</th>\n",
       "      <th>Predicted Sentiments</th>\n",
       "    </tr>\n",
       "  </thead>\n",
       "  <tbody>\n",
       "    <tr>\n",
       "      <th>0</th>\n",
       "      <td>Ex Machina</td>\n",
       "      <td>Intelligent Movie.\\nThis movie is obviously allegorical, a fascinating tale about AI, but it is mainly about manipulation and power. It isn't for those wanting action or spectacular CGI, the movie is aimed at people who like to think, rather than passively wait to be entertained. There are themes here not only about AI, but also about surveillance, with excellent points about how data about us is collected by phone companies, search engine companies, commercial operating systems makers and so on. The plot seems simple but isn't, it's extremely clever, with the protagonist playing games, trying to stay one step ahead of one another. This is a movie with perfectly consistent internal logic that plays out perfectly. Don't go in expecting too much, however, as I can see most people will not be satisfied by this movie, but for me, it does what it sets out to do brilliantly. Therefore I give at least 9/10. And most recent movies have been getting 5/10 from me. This movie succeeds where another recent movie about AI, Transcendence, I think it is called, failed (but it was an interesting failure). A third movie about AI, a Spanish movie called Eva, was also brilliant. Eva was more moving and this movie more philosophical. But both movies were perfect in their different ways. The AI's name in this movie, Ava, seems to be a nod to the title of the Spanish movie. As an aside, it's nice that no \"stars\" appeared in \"Ex Machina\" and \"Eva\", the casting was great. Of course there are several aspects of this movie that are unrealistic and often absurd. But because this is an allegorical movie, these are acceptable, because the movie is making points, rather than striving for realism. It's more of a fairytale than accurate portrayal.</td>\n",
       "      <td>9</td>\n",
       "      <td>9.2</td>\n",
       "    </tr>\n",
       "    <tr>\n",
       "      <th>1</th>\n",
       "      <td>Ex Machina</td>\n",
       "      <td>Extraordinary and thought-provoking.\\n'Ex machina' is surprisingly dense, more so than other titles Alex Garland has written, perhaps excepting only 'Annihilation.' The simple concept is given a definite narrative, but that narrative pointedly explores the very nature of thought, and perception, and further broaching the nature and ramifications of morality. This is a psychological thriller, and in fundamental construction and in minute rendering alike, it is more intense than any other feature in the genre that I can name offhand, so much so as to almost classify as horror. The movie emphasizes and plays on dire uncertainty of intent, motivation, and reality all the way through to the climax, and even then leaves us with a somewhat ambiguous ending. And from ordinary beginning to captivating ending, at every point 'Ex machina' is absolutely marvelous.\\n\\nOf any performance I've seen from Oscar Isaac, none have been nearly so forceful as his portrayal of Nathan, exhibiting outstanding nuance and sharp personality in the realization of a man exceptionally intelligent, and exceptionally cruel and conniving. I'm not especially familiar with Domhnall Gleeson, but the Irish actor demonstrates admirable range and poise readily matching the same traits that are more immediately notable in his costars. And with that said - certainly not to count out anyone else involved - Alicia Vikander is phenomenal as Ava, showing a careful exactness to every motion and expression befitting the character, and impressing with her skills in the most subtle of ways.\\n\\nI love the score composed between Ben Salisbury and Geoff Barrow, lending to the pensive unease about the film and building to a great crescendo at the precise appropriate moments. The sound design is exquisite - soft and unobtrusive, and with those qualities denoting both the meticulous craft of the feature, and the highly advanced status of Ava. So it is, too, with the special effects; to read a little bit of the production history informs of the substantial effort made to ensure every element of Nathan's creation was visualized with the utmost possibility of realism. And I think that endeavor paid off handsomely.\\n\\nThe characters as written are wonderfully complex, and the dialogue deceptively so. Garland's scene writing is impeccable and deeply engrossing, to say nothing of the overall narrative that delves into such heavy subject matter. Even being aware of the acclaim the feature had garnered since its release, I wasn't wholly sure what to expect as I sat to watch. What I got far exceeded anything I had imagined, mostly stepping away significantly from the common story ideas that populate most sci-fi films about artificial intelligence. Garland's screenplay analyzes consciousness with depth, completeness, and potency that I wouldn't have anticipated from a genre picture, and the result is so terrifically engaging as to be exhilarating. Factor in sound performances and excellent music, and 'Ex machina' is a firmly first-rate slice of science fiction that I call a must-see.</td>\n",
       "      <td>10</td>\n",
       "      <td>9.9</td>\n",
       "    </tr>\n",
       "    <tr>\n",
       "      <th>2</th>\n",
       "      <td>Ex Machina</td>\n",
       "      <td>Poor story, only reasonable otherwise.\\nIf I had realised this was by Alex Garland I would not have bothered watching. I remember reading his book the Beach years ago and thinking 'there's something not very nice about this'. At the time I wasn't sure what it was. But now having seen Ex Machina, I have the same feeling. That the story has been chosen simply to appeal to a large audience, in a rather manipulative, unthinking and unfeeling way.\\n\\nI don't normally write bad reviews - of anything. Preferring to focus on the positive. But I so dislike this I felt I had to write something to put people off wasting their time, or assimilating some of this 'nastiness'.\\n\\nIn the case of Ex Machina I can just imagine Garland wondering what he would do for his next project, googling AI and quickly finding the AI Box Experiment. And rather than do the heart- and soul-searching work that would be necessary to produce anything original I imagine him quickly turning somebody else's idea into his next big proposal to present to the film studio.\\n\\nSo an unoriginal idea, presented in a fairly pedestrian way. Lots of images derived from a young person's view of 'sexuality', made me also wonder if this film is rather prejudiced against women?\\n\\nIt is reasonably paced but I found myself yawning a lot - not quite what I would expect from a good thriller.\\n\\nDomhnall Gleeson is OK, does a pretty good job.</td>\n",
       "      <td>3</td>\n",
       "      <td>2.9</td>\n",
       "    </tr>\n",
       "    <tr>\n",
       "      <th>3</th>\n",
       "      <td>Ex Machina</td>\n",
       "      <td>Had Great Potential.\\nThis movie is one of the countless that have come out of Hollywood that had great potential.\\n\\nHowever, like so many personalities in Hollywood, it sold it's soul for a cheap finish.\\n\\nThere were some beautiful ideas in this movie, and it could of been great.\\n\\nHowever, the producers chose to go for the cheap thriller effect, instead of exploring what truly makes us human or machine. Conceived, written, and produced by idiots with now soul.\\n\\nDon't waste your time.\\n\\nThe only redeeming part of this movie was when the dweeb gets sent to the sticks, and is surprised when his smartphone tell him that there was no signal. The producers and writers of this piece of crap obviously had no signal also.</td>\n",
       "      <td>1</td>\n",
       "      <td>9.1</td>\n",
       "    </tr>\n",
       "    <tr>\n",
       "      <th>4</th>\n",
       "      <td>Eternals</td>\n",
       "      <td>Amazing visuals and philosophical concepts!\\n\\nNot only is the Eternals a visual masterpiece, the inner challenges each of the eternals face is a great signifier of the MCU moving into a more mature, meaningful phase.\\n\\nWhen you look deeper into the plot and each events significance, and appreciate the detail put into a timeline that spans thousands of years, the low underwhelming ratings seem obviously out of place. And despite the fact that many people loved the MCU as a couple of buff guys and over-sexualised women, the transition the MCU is going through is inevitable, as a franchise that has supported generations, and quite frankly awesome.\\n\\nBesides from the stunning visuals and deep undertones Chloe Zhao certainly packs in enough fight scenes as possibly needed. Each eternal represents a unique power, connected through their source of cosmic energy. This variability allows for exhilarating fight scenes that are arguably more interesting than a couple of punches, kicks and the stray flying weapon. The love stories are quaint and meaningful, and certainly don't take up too much of the run time.\\n\\nOverall, the new age of maturity and deeper concepts seen in this movie is most definitely something to look forward to in Phase 4!</td>\n",
       "      <td>10</td>\n",
       "      <td>9.7</td>\n",
       "    </tr>\n",
       "    <tr>\n",
       "      <th>5</th>\n",
       "      <td>Eternals</td>\n",
       "      <td>Worst MCU film ever\\n\\nFollowing the events of Avengers: Endgame (2019), an unexpected tragedy forces the Eternals, ancient aliens who have been living on Earth in secret for thousands of years, out of the shadows to reunite against mankind's most ancient enemy, the Deviants.\\n\\nThis film is by far the worst MCU film I have watch. It's massive insuylt to the comics from the Jack Kirby days. Gender swapping some of the eternals, bad story telling which makes absolutely no sense, unlikeable characters, little to no action and ridicules changes to the MCU just sum up how bad this film. Completely ruined Endgame\\n\\nThe only goods were the music and the CGI for Arishen as well as bonus points for being voiced by David Kaye.\\n\\nOther then that it's just not a good movie makes both Captain Marvel and Iron Man 3 look good.</td>\n",
       "      <td>3</td>\n",
       "      <td>0.2</td>\n",
       "    </tr>\n",
       "  </tbody>\n",
       "</table>\n",
       "</div>"
      ]
     },
     "execution_count": 44,
     "metadata": {},
     "output_type": "execute_result"
    }
   ],
   "execution_count": 44
  },
  {
   "metadata": {
    "ExecuteTime": {
     "end_time": "2025-03-22T12:22:09.172743Z",
     "start_time": "2025-03-22T12:22:09.143008Z"
    }
   },
   "cell_type": "code",
   "source": "print(dataset_unseen_reviews[\"Review Text\"][3], dataset_unseen_reviews[\"IMDb Rating\"][3], dataset_unseen_reviews[\"Predicted Sentiments\"][3])",
   "id": "111c8dbda90aeed9",
   "outputs": [
    {
     "name": "stdout",
     "output_type": "stream",
     "text": [
      "Had Great Potential.\n",
      "This movie is one of the countless that have come out of Hollywood that had great potential.\n",
      "\n",
      "However, like so many personalities in Hollywood, it sold it's soul for a cheap finish.\n",
      "\n",
      "There were some beautiful ideas in this movie, and it could of been great.\n",
      "\n",
      "However, the producers chose to go for the cheap thriller effect, instead of exploring what truly makes us human or machine. Conceived, written, and produced by idiots with now soul.\n",
      "\n",
      "Don't waste your time.\n",
      "\n",
      "The only redeeming part of this movie was when the dweeb gets sent to the sticks, and is surprised when his smartphone tell him that there was no signal. The producers and writers of this piece of crap obviously had no signal also. 1 9.1\n"
     ]
    }
   ],
   "execution_count": 47
  }
 ],
 "metadata": {
  "kernelspec": {
   "display_name": "Python 3",
   "language": "python",
   "name": "python3"
  },
  "language_info": {
   "codemirror_mode": {
    "name": "ipython",
    "version": 2
   },
   "file_extension": ".py",
   "mimetype": "text/x-python",
   "name": "python",
   "nbconvert_exporter": "python",
   "pygments_lexer": "ipython2",
   "version": "2.7.6"
  }
 },
 "nbformat": 4,
 "nbformat_minor": 5
}
