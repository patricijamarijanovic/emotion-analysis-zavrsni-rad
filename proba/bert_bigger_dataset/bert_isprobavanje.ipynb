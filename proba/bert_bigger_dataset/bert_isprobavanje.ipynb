{
 "cells": [
  {
   "metadata": {},
   "cell_type": "markdown",
   "source": "# Učitavanje spremljenog modela",
   "id": "fa3f2f9cf20cdd72"
  },
  {
   "metadata": {
    "ExecuteTime": {
     "end_time": "2025-05-12T12:43:22.396830Z",
     "start_time": "2025-05-12T12:43:15.161785Z"
    }
   },
   "cell_type": "code",
   "source": [
    "from transformers import AutoModelForSequenceClassification, AutoTokenizer, Trainer, TrainingArguments\n",
    "import torch\n",
    "import pandas as pd\n",
    "from datasets import Dataset"
   ],
   "id": "1f75cffdf675e9ec",
   "outputs": [
    {
     "name": "stderr",
     "output_type": "stream",
     "text": [
      "/Users/patricijamarijanovic/ZAVRSNI RAD/.venv/lib/python3.10/site-packages/tqdm/auto.py:21: TqdmWarning: IProgress not found. Please update jupyter and ipywidgets. See https://ipywidgets.readthedocs.io/en/stable/user_install.html\n",
      "  from .autonotebook import tqdm as notebook_tqdm\n"
     ]
    }
   ],
   "execution_count": 1
  },
  {
   "metadata": {},
   "cell_type": "markdown",
   "source": "Učitavanje modela i tokenizatora",
   "id": "62b78b0ed6ce527f"
  },
  {
   "metadata": {
    "ExecuteTime": {
     "end_time": "2025-05-12T12:43:47.819897Z",
     "start_time": "2025-05-12T12:43:47.696426Z"
    }
   },
   "cell_type": "code",
   "source": [
    "model_path = \"./spremljeni_model\"\n",
    "model = AutoModelForSequenceClassification.from_pretrained(model_path) # ucitavanje modela\n",
    "tokenizer = AutoTokenizer.from_pretrained(model_path) # ucitavanje tokenizatora"
   ],
   "id": "7a29b04529e91998",
   "outputs": [],
   "execution_count": 2
  },
  {
   "metadata": {},
   "cell_type": "markdown",
   "source": "Ovo nije prebitno, ali moram staviti da funkcionira:",
   "id": "ea8eac3205af001d"
  },
  {
   "metadata": {
    "ExecuteTime": {
     "end_time": "2025-05-12T12:55:52.155197Z",
     "start_time": "2025-05-12T12:55:51.054771Z"
    }
   },
   "cell_type": "code",
   "source": [
    "# Dummy training args – neće se trenirati, samo trebaju Traineru\n",
    "training_args = TrainingArguments(\n",
    "    output_dir=\"./results\",\n",
    "    per_device_eval_batch_size=1,\n",
    "    do_train=False,\n",
    "    do_eval=False,\n",
    "    logging_dir=\"./logs\"\n",
    ")\n",
    "\n",
    "# Inicijalizacija trainera (iako ga koristimo samo za predikciju)\n",
    "trainer = Trainer(\n",
    "    model=model,\n",
    "    tokenizer=tokenizer,\n",
    "    args=training_args\n",
    ")"
   ],
   "id": "65e96018395f5cd4",
   "outputs": [
    {
     "name": "stderr",
     "output_type": "stream",
     "text": [
      "/var/folders/mk/drz6rhr972v4l3bn903sdl600000gn/T/ipykernel_12223/443292532.py:11: FutureWarning: `tokenizer` is deprecated and will be removed in version 5.0.0 for `Trainer.__init__`. Use `processing_class` instead.\n",
      "  trainer = Trainer(\n"
     ]
    }
   ],
   "execution_count": 3
  },
  {
   "metadata": {},
   "cell_type": "markdown",
   "source": "Preprocessing rečenice",
   "id": "c1fd483610686aa2"
  },
  {
   "metadata": {
    "ExecuteTime": {
     "end_time": "2025-05-12T22:30:27.721818Z",
     "start_time": "2025-05-12T22:30:27.686332Z"
    }
   },
   "cell_type": "code",
   "source": [
    "# Prilagodi preprocess function za samo predikciju (bez labela)\n",
    "\n",
    "def preprocess_function(df):\n",
    "\n",
    "    # tokenizacija stupca \"text\"\n",
    "    tokenized_inputs = tokenizer( # koristi se distilBERT tokenizer\n",
    "        df['text'], # sto treba tokenizirati\n",
    "        padding='longest', # dodaje 0 gdje treba da svi inputi budu iste duljine\n",
    "        truncation=True, # reže preduge rečenice (>512 tokena)\n",
    "        max_length=512, # osigurava da ništa ne prelazi 512 tokena (maks. za BERT)\n",
    "        return_tensors='pt' # vraća podatke kao PyTorch tenzore (torch.Tensor) umjesto Python lista\n",
    "    ) # vraca rjecnik s kljucevima 'input_ids', 'attention_mask'\n",
    "\n",
    "    return tokenized_inputs"
   ],
   "id": "6e026ce9a36ea2d0",
   "outputs": [],
   "execution_count": 6
  },
  {
   "metadata": {
    "ExecuteTime": {
     "end_time": "2025-05-12T12:55:56.013994Z",
     "start_time": "2025-05-12T12:55:56.009274Z"
    }
   },
   "cell_type": "code",
   "source": [
    "labels = ['sadness', 'joy', 'love', 'anger', 'fear', 'surprise']\n",
    "id2label = {i: label for i, label in enumerate(labels)}\n",
    "label2id = {label: i for i, label in enumerate(labels)}"
   ],
   "id": "11cfaf30bc6ea53c",
   "outputs": [],
   "execution_count": 5
  },
  {
   "metadata": {},
   "cell_type": "markdown",
   "source": "Predikcija iz rečenice",
   "id": "9a763316dee139a1"
  },
  {
   "metadata": {
    "ExecuteTime": {
     "end_time": "2025-05-12T22:37:48.108289Z",
     "start_time": "2025-05-12T22:37:48.100713Z"
    }
   },
   "cell_type": "code",
   "source": [
    "# funkcija za testiranje pojedinacne recenice\n",
    "def predikcija_iz_recenice(my_sentence):\n",
    "    dummy_emotion = 0  # mora biti nešto iz label2id\n",
    "    # Pandas DataFrame\n",
    "    df = pd.DataFrame({\n",
    "        \"text\": [my_sentence],\n",
    "        \"label\": [dummy_emotion]\n",
    "    })\n",
    "\n",
    "    # HuggingFace Dataset\n",
    "    sentence_dataset = Dataset.from_pandas(df)\n",
    "\n",
    "    # Koristi mapiranje samo za tekst\n",
    "    sentence_dataset = sentence_dataset.map(lambda x: preprocess_function(x), batched=True)\n",
    "\n",
    "    # Predikcija\n",
    "    prediction = trainer.predict(sentence_dataset)\n",
    "\n",
    "    # Uzmi klasu s najvećim scoreom\n",
    "    predicted_class = prediction.predictions.argmax(axis=1)[0]\n",
    "\n",
    "    # Ako imaš id2label mapu\n",
    "    predicted_label = id2label[predicted_class]\n",
    "    print(f\"Predikcija emocije: {predicted_label}\")"
   ],
   "id": "5a5fe215b870fa92",
   "outputs": [],
   "execution_count": 9
  },
  {
   "metadata": {
    "ExecuteTime": {
     "end_time": "2025-05-12T22:38:10.500237Z",
     "start_time": "2025-05-12T22:38:10.243446Z"
    }
   },
   "cell_type": "code",
   "source": "predikcija_iz_recenice(\"my cat died today\")",
   "id": "4591d9d1d1091cdb",
   "outputs": [
    {
     "name": "stderr",
     "output_type": "stream",
     "text": [
      "Map: 100%|██████████| 1/1 [00:00<00:00, 252.27 examples/s]\n"
     ]
    },
    {
     "data": {
      "text/plain": [
       "<IPython.core.display.HTML object>"
      ],
      "text/html": []
     },
     "metadata": {},
     "output_type": "display_data"
    },
    {
     "name": "stdout",
     "output_type": "stream",
     "text": [
      "Predikcija emocije: sadness\n"
     ]
    }
   ],
   "execution_count": 14
  }
 ],
 "metadata": {
  "kernelspec": {
   "display_name": "Python 3",
   "language": "python",
   "name": "python3"
  },
  "language_info": {
   "codemirror_mode": {
    "name": "ipython",
    "version": 2
   },
   "file_extension": ".py",
   "mimetype": "text/x-python",
   "name": "python",
   "nbconvert_exporter": "python",
   "pygments_lexer": "ipython2",
   "version": "2.7.6"
  }
 },
 "nbformat": 4,
 "nbformat_minor": 5
}
