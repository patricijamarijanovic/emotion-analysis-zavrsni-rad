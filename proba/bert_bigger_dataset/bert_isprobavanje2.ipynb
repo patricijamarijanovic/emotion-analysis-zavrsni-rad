{
 "cells": [
  {
   "cell_type": "code",
   "id": "initial_id",
   "metadata": {
    "collapsed": true,
    "ExecuteTime": {
     "end_time": "2025-05-31T20:26:20.935724Z",
     "start_time": "2025-05-31T20:26:20.929674Z"
    }
   },
   "source": [
    "import numpy as np\n",
    "from transformers import AutoModelForSequenceClassification, AutoTokenizer, Trainer, TrainingArguments\n",
    "import torch\n",
    "import pandas as pd\n",
    "from datasets import Dataset"
   ],
   "outputs": [],
   "execution_count": 72
  },
  {
   "metadata": {},
   "cell_type": "markdown",
   "source": "Učitavanje modela i tokenizatora",
   "id": "66711e4e81e18af5"
  },
  {
   "metadata": {
    "ExecuteTime": {
     "end_time": "2025-05-31T20:26:20.991509Z",
     "start_time": "2025-05-31T20:26:20.940641Z"
    }
   },
   "cell_type": "code",
   "source": [
    "model_path = \"./spremljeni_model\"\n",
    "model = AutoModelForSequenceClassification.from_pretrained(model_path) # ucitavanje modela\n",
    "tokenizer = AutoTokenizer.from_pretrained(model_path) # ucitavanje tokenizatora"
   ],
   "id": "130c4f20fb101792",
   "outputs": [],
   "execution_count": 73
  },
  {
   "metadata": {
    "ExecuteTime": {
     "end_time": "2025-05-31T20:26:21.813185Z",
     "start_time": "2025-05-31T20:26:21.007211Z"
    }
   },
   "cell_type": "code",
   "source": [
    "# Dummy training args – neće se trenirati, samo trebaju Traineru\n",
    "training_args = TrainingArguments(\n",
    "    output_dir=\"./results\",\n",
    "    per_device_eval_batch_size=1,\n",
    "    do_train=False,\n",
    "    do_eval=False,\n",
    "    logging_dir=\"./logs\"\n",
    ")\n",
    "\n",
    "# Inicijalizacija trainera (iako ga koristimo samo za predikciju)\n",
    "trainer = Trainer(\n",
    "    model=model,\n",
    "    tokenizer=tokenizer,\n",
    "    args=training_args\n",
    ")"
   ],
   "id": "571af66b97b8c571",
   "outputs": [
    {
     "name": "stderr",
     "output_type": "stream",
     "text": [
      "/var/folders/mk/drz6rhr972v4l3bn903sdl600000gn/T/ipykernel_92958/443292532.py:11: FutureWarning: `tokenizer` is deprecated and will be removed in version 5.0.0 for `Trainer.__init__`. Use `processing_class` instead.\n",
      "  trainer = Trainer(\n"
     ]
    }
   ],
   "execution_count": 74
  },
  {
   "metadata": {},
   "cell_type": "markdown",
   "source": "Preprocessing rečenice",
   "id": "c769b8e96c8d1267"
  },
  {
   "metadata": {
    "ExecuteTime": {
     "end_time": "2025-05-31T20:26:21.825830Z",
     "start_time": "2025-05-31T20:26:21.822371Z"
    }
   },
   "cell_type": "code",
   "source": [
    "# Prilagodi preprocess function za samo predikciju (bez labela)\n",
    "\n",
    "def preprocess_function(df):\n",
    "\n",
    "    # tokenizacija stupca \"text\"\n",
    "    tokenized_inputs = tokenizer( # koristi se distilBERT tokenizer\n",
    "        df['text'], # sto treba tokenizirati\n",
    "        padding='longest', # dodaje 0 gdje treba da svi inputi budu iste duljine\n",
    "        truncation=True, # reže preduge rečenice (>512 tokena)\n",
    "        max_length=512, # osigurava da ništa ne prelazi 512 tokena (maks. za BERT)\n",
    "        return_tensors='pt' # vraća podatke kao PyTorch tenzore (torch.Tensor) umjesto Python lista\n",
    "    ) # vraca rjecnik s kljucevima 'input_ids', 'attention_mask'\n",
    "\n",
    "    return tokenized_inputs"
   ],
   "id": "3872a431cfe0f14a",
   "outputs": [],
   "execution_count": 75
  },
  {
   "metadata": {
    "ExecuteTime": {
     "end_time": "2025-05-31T20:26:21.841842Z",
     "start_time": "2025-05-31T20:26:21.838612Z"
    }
   },
   "cell_type": "code",
   "source": [
    "labels = ['sadness', 'joy', 'love', 'anger', 'fear', 'surprise']\n",
    "id2label = {i: label for i, label in enumerate(labels)}\n",
    "label2id = {label: i for i, label in enumerate(labels)}"
   ],
   "id": "2f3cf8e69f4eeb9b",
   "outputs": [],
   "execution_count": 76
  },
  {
   "metadata": {},
   "cell_type": "markdown",
   "source": "Predikcija iz rečenice",
   "id": "dc18aa94581c1a1e"
  },
  {
   "metadata": {
    "ExecuteTime": {
     "end_time": "2025-05-31T20:26:21.854581Z",
     "start_time": "2025-05-31T20:26:21.850841Z"
    }
   },
   "cell_type": "code",
   "source": [
    "# funkcija za testiranje pojedinacne recenice\n",
    "def prediction(my_sentence):\n",
    "    dummy_emotion = 0  # mora biti nešto iz label2id\n",
    "    # Pandas DataFrame\n",
    "    df = pd.DataFrame({\n",
    "        \"text\": [my_sentence],\n",
    "        \"label\": [dummy_emotion]\n",
    "    })\n",
    "\n",
    "    # HuggingFace Dataset\n",
    "    sentence_dataset = Dataset.from_pandas(df)\n",
    "\n",
    "    # Koristi mapiranje samo za tekst\n",
    "    sentence_dataset = sentence_dataset.map(lambda x: preprocess_function(x), batched=True)\n",
    "\n",
    "    # Predikcija\n",
    "    prediction = trainer.predict(sentence_dataset)\n",
    "\n",
    "    logits = prediction.predictions[0] # jos nije sve u zbroj = 0\n",
    "    probabilities = np.exp(logits) / np.sum(np.exp(logits)) # pretvorba u probit vrijednosti (da se zbroje u 0)\n",
    "\n",
    "    return probabilities # to je numpy array"
   ],
   "id": "d062573ea5e0b792",
   "outputs": [],
   "execution_count": 77
  },
  {
   "metadata": {
    "ExecuteTime": {
     "end_time": "2025-05-31T20:26:21.870733Z",
     "start_time": "2025-05-31T20:26:21.867925Z"
    }
   },
   "cell_type": "code",
   "source": [
    "# vraca najintenzivniju emociju\n",
    "def najintenzivnija_emocija(recenica, id2label):\n",
    "    probs = prediction(recenica)\n",
    "    predicted_index = np.argmax(probs) # indeks najveceg elementa\n",
    "    predicted_label = id2label[predicted_index]\n",
    "    return predicted_label\n"
   ],
   "id": "2b97570bf32301b4",
   "outputs": [],
   "execution_count": 78
  },
  {
   "metadata": {
    "ExecuteTime": {
     "end_time": "2025-05-31T20:26:22.070618Z",
     "start_time": "2025-05-31T20:26:21.875780Z"
    }
   },
   "cell_type": "code",
   "source": [
    "recenica = \"my cat died today\"\n",
    "print(najintenzivnija_emocija(recenica, id2label))"
   ],
   "id": "507587da35022c8a",
   "outputs": [
    {
     "name": "stderr",
     "output_type": "stream",
     "text": [
      "Map: 100%|██████████| 1/1 [00:00<00:00, 30.09 examples/s]\n"
     ]
    },
    {
     "data": {
      "text/plain": [
       "<IPython.core.display.HTML object>"
      ],
      "text/html": []
     },
     "metadata": {},
     "output_type": "display_data"
    },
    {
     "name": "stdout",
     "output_type": "stream",
     "text": [
      "sadness\n"
     ]
    }
   ],
   "execution_count": 79
  },
  {
   "metadata": {
    "ExecuteTime": {
     "end_time": "2025-05-31T20:26:22.135863Z",
     "start_time": "2025-05-31T20:26:22.088556Z"
    }
   },
   "cell_type": "code",
   "source": "prediction(\"my cat celebrated birthday today\")",
   "id": "59480c3f3c79c180",
   "outputs": [
    {
     "name": "stderr",
     "output_type": "stream",
     "text": [
      "Map: 100%|██████████| 1/1 [00:00<00:00, 313.36 examples/s]\n"
     ]
    },
    {
     "data": {
      "text/plain": [
       "<IPython.core.display.HTML object>"
      ],
      "text/html": []
     },
     "metadata": {},
     "output_type": "display_data"
    },
    {
     "data": {
      "text/plain": [
       "array([3.02315748e-05, 9.99902964e-01, 1.10520095e-05, 1.56774149e-05,\n",
       "       1.26503692e-05, 2.73834266e-05], dtype=float32)"
      ]
     },
     "execution_count": 80,
     "metadata": {},
     "output_type": "execute_result"
    }
   ],
   "execution_count": 80
  },
  {
   "metadata": {},
   "cell_type": "markdown",
   "source": "## Predikcija emocija na većem tekstu koristeći Sliding Window\n",
   "id": "952a7b5cc543e7bc"
  },
  {
   "metadata": {},
   "cell_type": "markdown",
   "source": [
    "Svaka rečenica može se pojaviti u više različitih klizećih prozora (sliding windows)\n",
    "— dakle, analizira se više puta, svaki put u drugačijem kontekstu susjednih rečenica.\n",
    "\n",
    "Da bismo dobili pouzdaniju predikciju emocije za svaku rečenicu, trebamo:\n",
    "\n",
    "- zabilježiti sve emocijske vektore koje je rečenica dobila kroz različite prozore (sentence_probs)\n",
    "- kombinirati te vektore (npr. računanjem prosjeka)\n",
    "- i na temelju tog prosječnog vektora i predikcije pojedinačne rečenice donijeti konačnu odluku o emociji\n",
    "\n",
    "\n",
    "Ovakav pristup uzima u obzir kontekst rečenice u cijelom tekstu, a ne samo u izolaciji — što dovodi do robustnijih i točnijih predikcija."
   ],
   "id": "23529956ff504db4"
  },
  {
   "metadata": {
    "ExecuteTime": {
     "end_time": "2025-05-31T20:26:22.150056Z",
     "start_time": "2025-05-31T20:26:22.146906Z"
    }
   },
   "cell_type": "code",
   "source": [
    "import nltk\n",
    "nltk.download(\"punkt\") # preuzima se punkt model, on zna prepoznati pocetke i krajeve recenica\n",
    "from nltk.tokenize import sent_tokenize # sent_tokenize je fja koja dijeli tekst na recenice\n",
    "from collections import defaultdict"
   ],
   "id": "3a92cfc871d35b1d",
   "outputs": [
    {
     "name": "stdout",
     "output_type": "stream",
     "text": [
      "[nltk_data] Downloading package punkt to\n",
      "[nltk_data]     /Users/patricijamarijanovic/nltk_data...\n",
      "[nltk_data]   Package punkt is already up-to-date!\n"
     ]
    }
   ],
   "execution_count": 81
  },
  {
   "metadata": {
    "ExecuteTime": {
     "end_time": "2025-05-31T20:26:22.174443Z",
     "start_time": "2025-05-31T20:26:22.172546Z"
    }
   },
   "cell_type": "code",
   "source": [
    "def split_into_sentences(full_text):\n",
    "    sentences = sent_tokenize(full_text)\n",
    "    return sentences\n"
   ],
   "id": "247a675909be974e",
   "outputs": [],
   "execution_count": 82
  },
  {
   "metadata": {
    "ExecuteTime": {
     "end_time": "2025-05-31T20:26:22.188970Z",
     "start_time": "2025-05-31T20:26:22.187093Z"
    }
   },
   "cell_type": "code",
   "source": [
    "def print_emotion_probs(probs, id2label):\n",
    "    for i, score in enumerate(probs):\n",
    "        print(f\"  {id2label[i]}: {score:.4f}\")"
   ],
   "id": "18e795d7211c0289",
   "outputs": [],
   "execution_count": 83
  },
  {
   "metadata": {
    "ExecuteTime": {
     "end_time": "2025-05-31T20:26:22.195699Z",
     "start_time": "2025-05-31T20:26:22.191804Z"
    }
   },
   "cell_type": "code",
   "source": [
    "\"\"\"\n",
    "argumenti:\n",
    "        full_text (str): Cijeli tekst za analizu\n",
    "        window_size (int): Broj rečenica u prozoru\n",
    "        stride (int): Korak pomaka prozora\n",
    "        id2label (dict): Rječnik indeksa i pripadnih emocija\n",
    "\"\"\"\n",
    "\n",
    "def analyze_emotions_in_text(full_text, window_size, stride, id2label):\n",
    "    sentences = split_into_sentences(full_text)\n",
    "    sentence_probs = defaultdict(list) # automatski stvara praznu listu za svaki novo dodani kljuc\n",
    "    local_sentence_probs = [] # predikcije za pojedinacnu recenicu\n",
    "\n",
    "    # lokalna predikcija za svaku recenicu pojedinacno\n",
    "    for sent in sentences:\n",
    "        local_vector = prediction(sent)\n",
    "        local_sentence_probs.append(local_vector)\n",
    "\n",
    "    # kontekstualna predikcija kroz prozore\n",
    "    for i in range (0, len(sentences) - window_size + 1, stride):\n",
    "        window = sentences[i : i + window_size]\n",
    "        text_block = \" \".join(window)\n",
    "        predicted_vector = prediction(text_block)\n",
    "\n",
    "        for j, sent in enumerate(window):\n",
    "            index = i + j # indeks recenice u ukupnoj listi\n",
    "            # za svaki kljuc postoji lista svih predikcija za nju (za sve prozore u kojima se nasla)\n",
    "            sentence_probs[index].append(predicted_vector)\n",
    "\n",
    "        # print (f\"{i}. iteracija: {text_block} --> {predicted_vector}\")\n",
    "\n",
    "\n",
    "    final_emotions = []\n",
    "    for i in range (len(sentences)):\n",
    "        contextual_vectors = sentence_probs[i] # lista predikcija za svaki prozor u kojem se nasla ta recenica\n",
    "        avg = np.mean(contextual_vectors, axis = 0) # prosjek svih vektora, po stupcima\n",
    "\n",
    "        combined = 0.7 * local_sentence_probs[i] + 0.3 * avg\n",
    "\n",
    "        predicted_index = np.argmax(combined) # indeks najvece vjerojatnosti za emociju\n",
    "        predicted_label = id2label[predicted_index]\n",
    "        final_emotions.append({\n",
    "            \"sentence\" : sentences[i],\n",
    "            \"predicted_label\" : predicted_label,\n",
    "            \"probs\" : combined\n",
    "        })\n",
    "\n",
    "        print()\n",
    "        print(\"Rečenica: \", final_emotions[i][\"sentence\"])\n",
    "        print(\"LOCAL PREDICTION\")\n",
    "        print_emotion_probs(local_sentence_probs[i], id2label)\n",
    "\n",
    "        print()\n",
    "        print(\"LOCAL + CONTEXTUAL PREDICTION\")\n",
    "        print_emotion_probs(final_emotions[i][\"probs\"], id2label)\n",
    "\n",
    "    return final_emotions"
   ],
   "id": "874b55cb784d40d1",
   "outputs": [],
   "execution_count": 84
  },
  {
   "metadata": {
    "ExecuteTime": {
     "end_time": "2025-05-31T20:26:22.636125Z",
     "start_time": "2025-05-31T20:26:22.215070Z"
    }
   },
   "cell_type": "code",
   "source": [
    "text = \"I spilled coffee on my shirt and wanted to scream. But then I saw my cat sleeping and felt strangely calm. The traffic was unbearable and I thought I'd lose my mind. Suddenly, my favorite song came on the radio and I sang along like nothing mattered. I dropped my lunch on the floor and just stared at it, defeated. Then someone brought me a donut and everything felt okay again.\"\n",
    "\n",
    "analyze_emotions_in_text(text, 3, 1, id2label)"
   ],
   "id": "d3e5d92f7b5368c0",
   "outputs": [
    {
     "name": "stderr",
     "output_type": "stream",
     "text": [
      "Map: 100%|██████████| 1/1 [00:00<00:00, 374.26 examples/s]\n"
     ]
    },
    {
     "data": {
      "text/plain": [
       "<IPython.core.display.HTML object>"
      ],
      "text/html": []
     },
     "metadata": {},
     "output_type": "display_data"
    },
    {
     "name": "stderr",
     "output_type": "stream",
     "text": [
      "Map: 100%|██████████| 1/1 [00:00<00:00, 226.71 examples/s]\n"
     ]
    },
    {
     "data": {
      "text/plain": [
       "<IPython.core.display.HTML object>"
      ],
      "text/html": []
     },
     "metadata": {},
     "output_type": "display_data"
    },
    {
     "name": "stderr",
     "output_type": "stream",
     "text": [
      "Map: 100%|██████████| 1/1 [00:00<00:00, 456.40 examples/s]\n"
     ]
    },
    {
     "data": {
      "text/plain": [
       "<IPython.core.display.HTML object>"
      ],
      "text/html": []
     },
     "metadata": {},
     "output_type": "display_data"
    },
    {
     "name": "stderr",
     "output_type": "stream",
     "text": [
      "Map: 100%|██████████| 1/1 [00:00<00:00, 408.64 examples/s]\n"
     ]
    },
    {
     "data": {
      "text/plain": [
       "<IPython.core.display.HTML object>"
      ],
      "text/html": []
     },
     "metadata": {},
     "output_type": "display_data"
    },
    {
     "name": "stderr",
     "output_type": "stream",
     "text": [
      "Map: 100%|██████████| 1/1 [00:00<00:00, 373.56 examples/s]\n"
     ]
    },
    {
     "data": {
      "text/plain": [
       "<IPython.core.display.HTML object>"
      ],
      "text/html": []
     },
     "metadata": {},
     "output_type": "display_data"
    },
    {
     "name": "stderr",
     "output_type": "stream",
     "text": [
      "Map: 100%|██████████| 1/1 [00:00<00:00, 375.97 examples/s]\n"
     ]
    },
    {
     "data": {
      "text/plain": [
       "<IPython.core.display.HTML object>"
      ],
      "text/html": []
     },
     "metadata": {},
     "output_type": "display_data"
    },
    {
     "name": "stderr",
     "output_type": "stream",
     "text": [
      "Map: 100%|██████████| 1/1 [00:00<00:00, 330.23 examples/s]\n"
     ]
    },
    {
     "data": {
      "text/plain": [
       "<IPython.core.display.HTML object>"
      ],
      "text/html": []
     },
     "metadata": {},
     "output_type": "display_data"
    },
    {
     "name": "stderr",
     "output_type": "stream",
     "text": [
      "Map: 100%|██████████| 1/1 [00:00<00:00, 328.63 examples/s]\n"
     ]
    },
    {
     "data": {
      "text/plain": [
       "<IPython.core.display.HTML object>"
      ],
      "text/html": []
     },
     "metadata": {},
     "output_type": "display_data"
    },
    {
     "name": "stderr",
     "output_type": "stream",
     "text": [
      "Map: 100%|██████████| 1/1 [00:00<00:00, 378.21 examples/s]\n"
     ]
    },
    {
     "data": {
      "text/plain": [
       "<IPython.core.display.HTML object>"
      ],
      "text/html": []
     },
     "metadata": {},
     "output_type": "display_data"
    },
    {
     "name": "stderr",
     "output_type": "stream",
     "text": [
      "Map: 100%|██████████| 1/1 [00:00<00:00, 331.46 examples/s]\n"
     ]
    },
    {
     "data": {
      "text/plain": [
       "<IPython.core.display.HTML object>"
      ],
      "text/html": []
     },
     "metadata": {},
     "output_type": "display_data"
    },
    {
     "name": "stdout",
     "output_type": "stream",
     "text": [
      "\n",
      "Rečenica:  I spilled coffee on my shirt and wanted to scream.\n",
      "LOCAL PREDICTION\n",
      "  sadness: 0.0014\n",
      "  joy: 0.0003\n",
      "  love: 0.0000\n",
      "  anger: 0.9980\n",
      "  fear: 0.0003\n",
      "  surprise: 0.0000\n",
      "\n",
      "LOCAL + CONTEXTUAL PREDICTION\n",
      "  sadness: 0.0020\n",
      "  joy: 0.2931\n",
      "  love: 0.0000\n",
      "  anger: 0.6989\n",
      "  fear: 0.0060\n",
      "  surprise: 0.0000\n",
      "\n",
      "Rečenica:  But then I saw my cat sleeping and felt strangely calm.\n",
      "LOCAL PREDICTION\n",
      "  sadness: 0.0001\n",
      "  joy: 0.9992\n",
      "  love: 0.0000\n",
      "  anger: 0.0001\n",
      "  fear: 0.0006\n",
      "  surprise: 0.0000\n",
      "\n",
      "LOCAL + CONTEXTUAL PREDICTION\n",
      "  sadness: 0.0021\n",
      "  joy: 0.9931\n",
      "  love: 0.0001\n",
      "  anger: 0.0007\n",
      "  fear: 0.0040\n",
      "  surprise: 0.0000\n",
      "\n",
      "Rečenica:  The traffic was unbearable and I thought I'd lose my mind.\n",
      "LOCAL PREDICTION\n",
      "  sadness: 0.0385\n",
      "  joy: 0.0059\n",
      "  love: 0.0000\n",
      "  anger: 0.5163\n",
      "  fear: 0.4392\n",
      "  surprise: 0.0000\n",
      "\n",
      "LOCAL + CONTEXTUAL PREDICTION\n",
      "  sadness: 0.1281\n",
      "  joy: 0.1999\n",
      "  love: 0.0000\n",
      "  anger: 0.3621\n",
      "  fear: 0.3099\n",
      "  surprise: 0.0000\n",
      "\n",
      "Rečenica:  Suddenly, my favorite song came on the radio and I sang along like nothing mattered.\n",
      "LOCAL PREDICTION\n",
      "  sadness: 0.0210\n",
      "  joy: 0.9488\n",
      "  love: 0.0005\n",
      "  anger: 0.0258\n",
      "  fear: 0.0039\n",
      "  surprise: 0.0000\n",
      "\n",
      "LOCAL + CONTEXTUAL PREDICTION\n",
      "  sadness: 0.1686\n",
      "  joy: 0.7995\n",
      "  love: 0.0005\n",
      "  anger: 0.0282\n",
      "  fear: 0.0033\n",
      "  surprise: 0.0000\n",
      "\n",
      "Rečenica:  I dropped my lunch on the floor and just stared at it, defeated.\n",
      "LOCAL PREDICTION\n",
      "  sadness: 0.0289\n",
      "  joy: 0.0007\n",
      "  love: 0.0000\n",
      "  anger: 0.9702\n",
      "  fear: 0.0002\n",
      "  surprise: 0.0000\n",
      "\n",
      "LOCAL + CONTEXTUAL PREDICTION\n",
      "  sadness: 0.2495\n",
      "  joy: 0.0564\n",
      "  love: 0.0001\n",
      "  anger: 0.6938\n",
      "  fear: 0.0003\n",
      "  surprise: 0.0000\n",
      "\n",
      "Rečenica:  Then someone brought me a donut and everything felt okay again.\n",
      "LOCAL PREDICTION\n",
      "  sadness: 0.0003\n",
      "  joy: 0.9989\n",
      "  love: 0.0000\n",
      "  anger: 0.0007\n",
      "  fear: 0.0001\n",
      "  surprise: 0.0000\n",
      "\n",
      "LOCAL + CONTEXTUAL PREDICTION\n",
      "  sadness: 0.1594\n",
      "  joy: 0.8109\n",
      "  love: 0.0002\n",
      "  anger: 0.0293\n",
      "  fear: 0.0003\n",
      "  surprise: 0.0000\n"
     ]
    },
    {
     "data": {
      "text/plain": [
       "[{'sentence': 'I spilled coffee on my shirt and wanted to scream.',\n",
       "  'predicted_label': 'anger',\n",
       "  'probs': array([1.9925889e-03, 2.9307967e-01, 2.4316398e-05, 6.9892120e-01,\n",
       "         5.9820125e-03, 1.0969239e-07], dtype=float32)},\n",
       " {'sentence': 'But then I saw my cat sleeping and felt strangely calm.',\n",
       "  'predicted_label': 'joy',\n",
       "  'probs': array([2.1470138e-03, 9.9310923e-01, 6.0889874e-05, 6.7751360e-04,\n",
       "         4.0050247e-03, 3.0869273e-07], dtype=float32)},\n",
       " {'sentence': \"The traffic was unbearable and I thought I'd lose my mind.\",\n",
       "  'predicted_label': 'anger',\n",
       "  'probs': array([1.2809834e-01, 1.9993639e-01, 4.7792590e-05, 3.6205685e-01,\n",
       "         3.0986023e-01, 3.9415158e-07], dtype=float32)},\n",
       " {'sentence': 'Suddenly, my favorite song came on the radio and I sang along like nothing mattered.',\n",
       "  'predicted_label': 'joy',\n",
       "  'probs': array([1.6855006e-01, 7.9951096e-01, 4.7042654e-04, 2.8155677e-02,\n",
       "         3.2954563e-03, 1.7406446e-05], dtype=float32)},\n",
       " {'sentence': 'I dropped my lunch on the floor and just stared at it, defeated.',\n",
       "  'predicted_label': 'anger',\n",
       "  'probs': array([2.4947225e-01, 5.6351870e-02, 9.6700525e-05, 6.9380885e-01,\n",
       "         2.6998829e-04, 3.1996328e-07], dtype=float32)},\n",
       " {'sentence': 'Then someone brought me a donut and everything felt okay again.',\n",
       "  'predicted_label': 'joy',\n",
       "  'probs': array([1.5940033e-01, 8.1086671e-01, 1.9614499e-04, 2.9269397e-02,\n",
       "         2.6668515e-04, 6.5953060e-07], dtype=float32)}]"
      ]
     },
     "execution_count": 85,
     "metadata": {},
     "output_type": "execute_result"
    }
   ],
   "execution_count": 85
  },
  {
   "metadata": {
    "ExecuteTime": {
     "end_time": "2025-05-31T20:31:22.250567Z",
     "start_time": "2025-05-31T20:31:21.145407Z"
    }
   },
   "cell_type": "code",
   "source": [
    "text = \"I couldn’t find my left sock and felt irrationally angry. I made a smoothie, but forgot the lid and it exploded everywhere — I just froze, horrified. A few minutes later, my dog licked my hand and I felt like everything would be okay. I sent a risky text and immediately regretted it. But they replied with a smiley and suddenly I was relieved and excited. I stubbed my toe on the table and yelled. Then my favorite show released a surprise episode and I screamed with joy.\"\n",
    "\n",
    "analyze_emotions_in_text(text, 3, 1, id2label)"
   ],
   "id": "42dc4032bf0c04",
   "outputs": [
    {
     "name": "stderr",
     "output_type": "stream",
     "text": [
      "Map: 100%|██████████| 1/1 [00:00<00:00, 112.90 examples/s]\n"
     ]
    },
    {
     "data": {
      "text/plain": [
       "<IPython.core.display.HTML object>"
      ],
      "text/html": []
     },
     "metadata": {},
     "output_type": "display_data"
    },
    {
     "name": "stderr",
     "output_type": "stream",
     "text": [
      "Map: 100%|██████████| 1/1 [00:00<00:00, 144.34 examples/s]\n"
     ]
    },
    {
     "data": {
      "text/plain": [
       "<IPython.core.display.HTML object>"
      ],
      "text/html": []
     },
     "metadata": {},
     "output_type": "display_data"
    },
    {
     "name": "stderr",
     "output_type": "stream",
     "text": [
      "Map: 100%|██████████| 1/1 [00:00<00:00, 268.26 examples/s]\n"
     ]
    },
    {
     "data": {
      "text/plain": [
       "<IPython.core.display.HTML object>"
      ],
      "text/html": []
     },
     "metadata": {},
     "output_type": "display_data"
    },
    {
     "name": "stderr",
     "output_type": "stream",
     "text": [
      "Map: 100%|██████████| 1/1 [00:00<00:00, 282.25 examples/s]\n"
     ]
    },
    {
     "data": {
      "text/plain": [
       "<IPython.core.display.HTML object>"
      ],
      "text/html": []
     },
     "metadata": {},
     "output_type": "display_data"
    },
    {
     "name": "stderr",
     "output_type": "stream",
     "text": [
      "Map: 100%|██████████| 1/1 [00:00<00:00, 233.04 examples/s]\n"
     ]
    },
    {
     "data": {
      "text/plain": [
       "<IPython.core.display.HTML object>"
      ],
      "text/html": []
     },
     "metadata": {},
     "output_type": "display_data"
    },
    {
     "name": "stderr",
     "output_type": "stream",
     "text": [
      "Map: 100%|██████████| 1/1 [00:00<00:00, 278.08 examples/s]\n"
     ]
    },
    {
     "data": {
      "text/plain": [
       "<IPython.core.display.HTML object>"
      ],
      "text/html": []
     },
     "metadata": {},
     "output_type": "display_data"
    },
    {
     "name": "stderr",
     "output_type": "stream",
     "text": [
      "Map: 100%|██████████| 1/1 [00:00<00:00, 259.53 examples/s]\n"
     ]
    },
    {
     "data": {
      "text/plain": [
       "<IPython.core.display.HTML object>"
      ],
      "text/html": []
     },
     "metadata": {},
     "output_type": "display_data"
    },
    {
     "name": "stderr",
     "output_type": "stream",
     "text": [
      "Map: 100%|██████████| 1/1 [00:00<00:00, 438.41 examples/s]\n"
     ]
    },
    {
     "data": {
      "text/plain": [
       "<IPython.core.display.HTML object>"
      ],
      "text/html": []
     },
     "metadata": {},
     "output_type": "display_data"
    },
    {
     "name": "stderr",
     "output_type": "stream",
     "text": [
      "Map: 100%|██████████| 1/1 [00:00<00:00, 296.10 examples/s]\n"
     ]
    },
    {
     "data": {
      "text/plain": [
       "<IPython.core.display.HTML object>"
      ],
      "text/html": []
     },
     "metadata": {},
     "output_type": "display_data"
    },
    {
     "name": "stderr",
     "output_type": "stream",
     "text": [
      "Map: 100%|██████████| 1/1 [00:00<00:00, 449.69 examples/s]\n"
     ]
    },
    {
     "data": {
      "text/plain": [
       "<IPython.core.display.HTML object>"
      ],
      "text/html": []
     },
     "metadata": {},
     "output_type": "display_data"
    },
    {
     "name": "stderr",
     "output_type": "stream",
     "text": [
      "Map: 100%|██████████| 1/1 [00:00<00:00, 378.65 examples/s]\n"
     ]
    },
    {
     "data": {
      "text/plain": [
       "<IPython.core.display.HTML object>"
      ],
      "text/html": []
     },
     "metadata": {},
     "output_type": "display_data"
    },
    {
     "name": "stderr",
     "output_type": "stream",
     "text": [
      "Map: 100%|██████████| 1/1 [00:00<00:00, 88.82 examples/s]\n"
     ]
    },
    {
     "data": {
      "text/plain": [
       "<IPython.core.display.HTML object>"
      ],
      "text/html": []
     },
     "metadata": {},
     "output_type": "display_data"
    },
    {
     "name": "stdout",
     "output_type": "stream",
     "text": [
      "\n",
      "Rečenica:  I couldn’t find my left sock and felt irrationally angry.\n",
      "LOCAL PREDICTION\n",
      "  sadness: 0.0000\n",
      "  joy: 0.0000\n",
      "  love: 0.0000\n",
      "  anger: 0.9999\n",
      "  fear: 0.0000\n",
      "  surprise: 0.0000\n",
      "\n",
      "LOCAL + CONTEXTUAL PREDICTION\n",
      "  sadness: 0.0001\n",
      "  joy: 0.0000\n",
      "  love: 0.0000\n",
      "  anger: 0.9999\n",
      "  fear: 0.0001\n",
      "  surprise: 0.0000\n",
      "\n",
      "Rečenica:  I made a smoothie, but forgot the lid and it exploded everywhere — I just froze, horrified.\n",
      "LOCAL PREDICTION\n",
      "  sadness: 0.0022\n",
      "  joy: 0.0005\n",
      "  love: 0.0000\n",
      "  anger: 0.9944\n",
      "  fear: 0.0029\n",
      "  surprise: 0.0000\n",
      "\n",
      "LOCAL + CONTEXTUAL PREDICTION\n",
      "  sadness: 0.1175\n",
      "  joy: 0.0103\n",
      "  love: 0.0004\n",
      "  anger: 0.8688\n",
      "  fear: 0.0031\n",
      "  surprise: 0.0000\n",
      "\n",
      "Rečenica:  A few minutes later, my dog licked my hand and I felt like everything would be okay.\n",
      "LOCAL PREDICTION\n",
      "  sadness: 0.0005\n",
      "  joy: 0.9984\n",
      "  love: 0.0001\n",
      "  anger: 0.0004\n",
      "  fear: 0.0006\n",
      "  surprise: 0.0000\n",
      "\n",
      "LOCAL + CONTEXTUAL PREDICTION\n",
      "  sadness: 0.0777\n",
      "  joy: 0.8055\n",
      "  love: 0.0003\n",
      "  anger: 0.1154\n",
      "  fear: 0.0012\n",
      "  surprise: 0.0000\n",
      "\n",
      "Rečenica:  I sent a risky text and immediately regretted it.\n",
      "LOCAL PREDICTION\n",
      "  sadness: 0.9910\n",
      "  joy: 0.0010\n",
      "  love: 0.0001\n",
      "  anger: 0.0077\n",
      "  fear: 0.0001\n",
      "  surprise: 0.0000\n",
      "\n",
      "LOCAL + CONTEXTUAL PREDICTION\n",
      "  sadness: 0.7725\n",
      "  joy: 0.1425\n",
      "  love: 0.0003\n",
      "  anger: 0.0777\n",
      "  fear: 0.0069\n",
      "  surprise: 0.0000\n",
      "\n",
      "Rečenica:  But they replied with a smiley and suddenly I was relieved and excited.\n",
      "LOCAL PREDICTION\n",
      "  sadness: 0.0001\n",
      "  joy: 0.9997\n",
      "  love: 0.0000\n",
      "  anger: 0.0000\n",
      "  fear: 0.0001\n",
      "  surprise: 0.0000\n",
      "\n",
      "LOCAL + CONTEXTUAL PREDICTION\n",
      "  sadness: 0.0016\n",
      "  joy: 0.9350\n",
      "  love: 0.0000\n",
      "  anger: 0.0572\n",
      "  fear: 0.0062\n",
      "  surprise: 0.0000\n",
      "\n",
      "Rečenica:  I stubbed my toe on the table and yelled.\n",
      "LOCAL PREDICTION\n",
      "  sadness: 0.0013\n",
      "  joy: 0.0006\n",
      "  love: 0.0000\n",
      "  anger: 0.9928\n",
      "  fear: 0.0053\n",
      "  surprise: 0.0000\n",
      "\n",
      "LOCAL + CONTEXTUAL PREDICTION\n",
      "  sadness: 0.0031\n",
      "  joy: 0.2032\n",
      "  love: 0.0000\n",
      "  anger: 0.7807\n",
      "  fear: 0.0129\n",
      "  surprise: 0.0000\n",
      "\n",
      "Rečenica:  Then my favorite show released a surprise episode and I screamed with joy.\n",
      "LOCAL PREDICTION\n",
      "  sadness: 0.0000\n",
      "  joy: 1.0000\n",
      "  love: 0.0000\n",
      "  anger: 0.0000\n",
      "  fear: 0.0000\n",
      "  surprise: 0.0000\n",
      "\n",
      "LOCAL + CONTEXTUAL PREDICTION\n",
      "  sadness: 0.0000\n",
      "  joy: 1.0000\n",
      "  love: 0.0000\n",
      "  anger: 0.0000\n",
      "  fear: 0.0000\n",
      "  surprise: 0.0000\n"
     ]
    },
    {
     "data": {
      "text/plain": [
       "[{'sentence': 'I couldn’t find my left sock and felt irrationally angry.',\n",
       "  'predicted_label': 'anger',\n",
       "  'probs': array([6.2707477e-05, 3.6282256e-06, 6.9331044e-08, 9.9986184e-01,\n",
       "         7.1769966e-05, 4.8917297e-09], dtype=float32)},\n",
       " {'sentence': 'I made a smoothie, but forgot the lid and it exploded everywhere — I just froze, horrified.',\n",
       "  'predicted_label': 'anger',\n",
       "  'probs': array([1.17533036e-01, 1.02796536e-02, 3.53975745e-04, 8.68766189e-01,\n",
       "         3.06577142e-03, 1.33023104e-06], dtype=float32)},\n",
       " {'sentence': 'A few minutes later, my dog licked my hand and I felt like everything would be okay.',\n",
       "  'predicted_label': 'joy',\n",
       "  'probs': array([7.7675737e-02, 8.0549490e-01, 3.1035743e-04, 1.1536691e-01,\n",
       "         1.1510465e-03, 1.0482626e-06], dtype=float32)},\n",
       " {'sentence': 'I sent a risky text and immediately regretted it.',\n",
       "  'predicted_label': 'sadness',\n",
       "  'probs': array([7.7254379e-01, 1.4254005e-01, 2.8409139e-04, 7.7711113e-02,\n",
       "         6.9201966e-03, 7.8285109e-07], dtype=float32)},\n",
       " {'sentence': 'But they replied with a smiley and suddenly I was relieved and excited.',\n",
       "  'predicted_label': 'joy',\n",
       "  'probs': array([1.5883640e-03, 9.3498462e-01, 1.0544090e-05, 5.7193130e-02,\n",
       "         6.2223030e-03, 1.0841361e-06], dtype=float32)},\n",
       " {'sentence': 'I stubbed my toe on the table and yelled.',\n",
       "  'predicted_label': 'anger',\n",
       "  'probs': array([3.1316236e-03, 2.0324251e-01, 4.9189503e-06, 7.8067142e-01,\n",
       "         1.2948565e-02, 1.0140192e-06], dtype=float32)},\n",
       " {'sentence': 'Then my favorite show released a surprise episode and I screamed with joy.',\n",
       "  'predicted_label': 'joy',\n",
       "  'probs': array([3.7550237e-06, 9.9997920e-01, 1.1281022e-06, 1.4611194e-06,\n",
       "         3.8625549e-06, 1.0566526e-05], dtype=float32)}]"
      ]
     },
     "execution_count": 88,
     "metadata": {},
     "output_type": "execute_result"
    }
   ],
   "execution_count": 88
  }
 ],
 "metadata": {
  "kernelspec": {
   "display_name": "Python 3",
   "language": "python",
   "name": "python3"
  },
  "language_info": {
   "codemirror_mode": {
    "name": "ipython",
    "version": 2
   },
   "file_extension": ".py",
   "mimetype": "text/x-python",
   "name": "python",
   "nbconvert_exporter": "python",
   "pygments_lexer": "ipython2",
   "version": "2.7.6"
  }
 },
 "nbformat": 4,
 "nbformat_minor": 5
}
